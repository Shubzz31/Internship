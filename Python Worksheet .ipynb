{
 "cells": [
  {
   "cell_type": "markdown",
   "metadata": {},
   "source": [
    "Q-11 Write a python program to find the factorial of a number.\n"
   ]
  },
  {
   "cell_type": "code",
   "execution_count": 1,
   "metadata": {},
   "outputs": [
    {
     "name": "stdout",
     "output_type": "stream",
     "text": [
      "Enter a number 5\n"
     ]
    }
   ],
   "source": [
    "num= int(input('Enter a number '))"
   ]
  },
  {
   "cell_type": "code",
   "execution_count": 2,
   "metadata": {},
   "outputs": [
    {
     "name": "stdout",
     "output_type": "stream",
     "text": [
      "The factorial of 5 is 120\n"
     ]
    }
   ],
   "source": [
    "factorial= 1\n",
    "if num<0:\n",
    "    print('Factorial does not exit for a negative number')\n",
    "elif num==0:\n",
    "    print('Factorial of zero is 1')\n",
    "else: \n",
    "    for i in range(1, num+1):\n",
    "        factorial= factorial*i\n",
    "    print('The factorial of', num, 'is', factorial)"
   ]
  },
  {
   "cell_type": "markdown",
   "metadata": {},
   "source": [
    "Q-12 Write a python program to find whether a number is prime or composite.\n"
   ]
  },
  {
   "cell_type": "code",
   "execution_count": 3,
   "metadata": {},
   "outputs": [
    {
     "name": "stdout",
     "output_type": "stream",
     "text": [
      "Enter a number 7\n"
     ]
    }
   ],
   "source": [
    "num1= int(input(\"Enter a number \"))"
   ]
  },
  {
   "cell_type": "code",
   "execution_count": 4,
   "metadata": {},
   "outputs": [
    {
     "name": "stdout",
     "output_type": "stream",
     "text": [
      "7 is prime number\n"
     ]
    }
   ],
   "source": [
    "if num1<=1:\n",
    "    print(num1, 'is not prime number')\n",
    "else:\n",
    "    for j in range(2, num1):\n",
    "        if (num1%j)==0:\n",
    "            print(num1, 'is not prime number')\n",
    "            break\n",
    "    else:\n",
    "        print(num1, 'is prime number')"
   ]
  },
  {
   "cell_type": "markdown",
   "metadata": {},
   "source": [
    "Q-13 Write a python program to check whether a given string is palindrome or not."
   ]
  },
  {
   "cell_type": "code",
   "execution_count": 5,
   "metadata": {},
   "outputs": [
    {
     "name": "stdout",
     "output_type": "stream",
     "text": [
      "Enter a string: india\n"
     ]
    }
   ],
   "source": [
    "str= input(\"Enter a string: \")\n"
   ]
  },
  {
   "cell_type": "code",
   "execution_count": 6,
   "metadata": {},
   "outputs": [
    {
     "name": "stdout",
     "output_type": "stream",
     "text": [
      "String is not palindrome\n"
     ]
    }
   ],
   "source": [
    "revstr= (str[::-1])\n",
    "if revstr==str:\n",
    "        print(\"String is palindrome\")\n",
    "else:\n",
    "        print(\"String is not palindrome\")"
   ]
  },
  {
   "cell_type": "markdown",
   "metadata": {},
   "source": [
    "Q-14  Write a Python program to get the third side of right-angled triangle from two given sides."
   ]
  },
  {
   "cell_type": "code",
   "execution_count": 7,
   "metadata": {},
   "outputs": [],
   "source": [
    "# In a problem statement two side of pythagoras traingle is given so by using pythagoras theorm \n",
    "\n",
    "from math import sqrt"
   ]
  },
  {
   "cell_type": "code",
   "execution_count": 8,
   "metadata": {},
   "outputs": [
    {
     "name": "stdout",
     "output_type": "stream",
     "text": [
      "Enter the length of first side of triangle: 3.4\n",
      "Enter the length of second side of traingle: 5.72\n",
      "The length of thrid side of a traingle is 6.654201680141653\n"
     ]
    }
   ],
   "source": [
    "ab= float(input(\"Enter the length of first side of triangle: \"))\n",
    "bc= float(input(\"Enter the length of second side of traingle: \"))\n",
    "ac= sqrt(ab**2 + bc**2)\n",
    "print(\"The length of thrid side of a traingle is\", ac)"
   ]
  },
  {
   "cell_type": "markdown",
   "metadata": {},
   "source": [
    "Q-15 Write a python program to print the frequency of each of the characters present in a given string"
   ]
  },
  {
   "cell_type": "code",
   "execution_count": 9,
   "metadata": {},
   "outputs": [
    {
     "name": "stdout",
     "output_type": "stream",
     "text": [
      "Enter the string: DataScience\n",
      "D,1\n",
      "a,2\n",
      "t,1\n",
      "S,1\n",
      "c,2\n",
      "i,1\n",
      "e,2\n",
      "n,1\n"
     ]
    }
   ],
   "source": [
    "string= input(\"Enter the string: \")\n",
    "str1= list(string)\n",
    "strlist= []\n",
    "for j in str1:\n",
    "    if j not in strlist:\n",
    "        strlist.append(j)\n",
    "        count=0\n",
    "        \n",
    "        for i in range(len(str1)):\n",
    "            if j==str1[i]:\n",
    "                count+=1\n",
    "        print(\"{},{}\". format(j,count))"
   ]
  },
  {
   "cell_type": "code",
   "execution_count": null,
   "metadata": {},
   "outputs": [],
   "source": []
  }
 ],
 "metadata": {
  "kernelspec": {
   "display_name": "Python 3",
   "language": "python",
   "name": "python3"
  },
  "language_info": {
   "codemirror_mode": {
    "name": "ipython",
    "version": 3
   },
   "file_extension": ".py",
   "mimetype": "text/x-python",
   "name": "python",
   "nbconvert_exporter": "python",
   "pygments_lexer": "ipython3",
   "version": "3.7.6"
  }
 },
 "nbformat": 4,
 "nbformat_minor": 4
}
