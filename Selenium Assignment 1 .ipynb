{
 "cells": [
  {
   "cell_type": "code",
   "execution_count": 1,
   "metadata": {},
   "outputs": [],
   "source": [
    "#importing libraries\n",
    "import selenium \n",
    "from selenium import webdriver\n",
    "import pandas as pd \n",
    "import warnings \n",
    "warnings.filterwarnings('ignore')"
   ]
  },
  {
   "cell_type": "code",
   "execution_count": 4,
   "metadata": {},
   "outputs": [],
   "source": [
    "#importing chromedriver\n",
    "driver= webdriver.Chrome(\"D:\\Inernship\\chromedriver.exe\")"
   ]
  },
  {
   "cell_type": "code",
   "execution_count": 7,
   "metadata": {},
   "outputs": [],
   "source": [
    "#getting Url\n",
    "url= 'https://www.naukri.com/'\n",
    "driver.get(url)"
   ]
  },
  {
   "cell_type": "code",
   "execution_count": 8,
   "metadata": {},
   "outputs": [
    {
     "data": {
      "text/plain": [
       "<selenium.webdriver.remote.webelement.WebElement (session=\"77903cd345e4cb85912697fef808aa1b\", element=\"52fd393b-a974-49df-9dfe-8c79b4087cf3\")>"
      ]
     },
     "execution_count": 8,
     "metadata": {},
     "output_type": "execute_result"
    }
   ],
   "source": [
    "# Finding webelement for search job bar using id\n",
    "search_job= driver.find_element_by_id(\"qsb-keyword-sugg\")\n",
    "search_job"
   ]
  },
  {
   "cell_type": "code",
   "execution_count": 9,
   "metadata": {},
   "outputs": [],
   "source": [
    "# writing on search bar\n",
    "search_job.send_keys(\"Data Analyst\")"
   ]
  },
  {
   "cell_type": "code",
   "execution_count": 10,
   "metadata": {},
   "outputs": [
    {
     "data": {
      "text/plain": [
       "<selenium.webdriver.remote.webelement.WebElement (session=\"77903cd345e4cb85912697fef808aa1b\", element=\"b9108be7-7e92-4ebd-8660-c98c1814367e\")>"
      ]
     },
     "execution_count": 10,
     "metadata": {},
     "output_type": "execute_result"
    }
   ],
   "source": [
    "#Finding webelement for search Location bar using xpath\n",
    "search_loc= driver.find_element_by_xpath(\"/html/body/div[1]/div[3]/div[2]/section/div/form/div[2]/div/div/div/div[1]/div[2]/input\")\n",
    "search_loc"
   ]
  },
  {
   "cell_type": "code",
   "execution_count": 11,
   "metadata": {},
   "outputs": [],
   "source": [
    "# writing on Location bar\n",
    "search_loc.send_keys('Banglore')"
   ]
  },
  {
   "cell_type": "code",
   "execution_count": 12,
   "metadata": {},
   "outputs": [
    {
     "data": {
      "text/plain": [
       "<selenium.webdriver.remote.webelement.WebElement (session=\"77903cd345e4cb85912697fef808aa1b\", element=\"6be88587-9a5e-4f59-b782-877a523a8d55\")>"
      ]
     },
     "execution_count": 12,
     "metadata": {},
     "output_type": "execute_result"
    }
   ],
   "source": [
    "search_btn= driver.find_element_by_xpath(\"/html/body/div[1]/div[3]/div[2]/section/div/form/div[3]/button\")\n",
    "search_btn"
   ]
  },
  {
   "cell_type": "code",
   "execution_count": 13,
   "metadata": {},
   "outputs": [],
   "source": [
    "#click on search button \n",
    "search_btn.click()"
   ]
  },
  {
   "cell_type": "code",
   "execution_count": 15,
   "metadata": {},
   "outputs": [
    {
     "data": {
      "text/plain": [
       "20"
      ]
     },
     "execution_count": 15,
     "metadata": {},
     "output_type": "execute_result"
    }
   ],
   "source": [
    "job_title= driver.find_elements_by_xpath('//a[@class=\"title fw500 ellipsis\"]')\n",
    "len(job_title)"
   ]
  },
  {
   "cell_type": "code",
   "execution_count": 16,
   "metadata": {
    "collapsed": true
   },
   "outputs": [
    {
     "data": {
      "text/plain": [
       "['Senior Data Analyst',\n",
       " 'Financial Data Analyst',\n",
       " 'Data Analyst',\n",
       " 'Business Data Analyst - Database Design/Mining',\n",
       " 'Financial Data Analyst',\n",
       " 'Senior Data Analyst',\n",
       " 'Senior Data Analyst',\n",
       " 'Senior Data Analyst II',\n",
       " 'Senior Data Analyst II',\n",
       " 'Tcs Hiring For Data Analyst / Engineers',\n",
       " 'Data Analyst',\n",
       " 'Data Analyst - Internal Audit',\n",
       " 'Data Analyst',\n",
       " 'Financial Data Analyst - Mandarin Language',\n",
       " 'Global Business Data Analyst',\n",
       " 'Senior Data Analyst',\n",
       " 'Data Analyst',\n",
       " 'Data Analyst - Python/SQL',\n",
       " 'Experienced Data Analyst',\n",
       " 'Financial Data Analyst']"
      ]
     },
     "execution_count": 16,
     "metadata": {},
     "output_type": "execute_result"
    }
   ],
   "source": [
    "job_titles= []\n",
    "for i in job_title:\n",
    "    job_titles.append(i.text)\n",
    "job_titles"
   ]
  },
  {
   "cell_type": "code",
   "execution_count": 30,
   "metadata": {},
   "outputs": [
    {
     "data": {
      "text/plain": [
       "['Senior Data Analyst',\n",
       " 'Financial Data Analyst',\n",
       " 'Data Analyst',\n",
       " 'Business Data Analyst - Database Design/Mining',\n",
       " 'Financial Data Analyst',\n",
       " 'Senior Data Analyst',\n",
       " 'Senior Data Analyst',\n",
       " 'Senior Data Analyst II',\n",
       " 'Senior Data Analyst II',\n",
       " 'Tcs Hiring For Data Analyst / Engineers']"
      ]
     },
     "execution_count": 30,
     "metadata": {},
     "output_type": "execute_result"
    }
   ],
   "source": [
    "# extracting job Titles\n",
    "Job_Titles=job_titles[0:10]\n",
    "Job_Titles"
   ]
  },
  {
   "cell_type": "code",
   "execution_count": 21,
   "metadata": {},
   "outputs": [
    {
     "data": {
      "text/plain": [
       "20"
      ]
     },
     "execution_count": 21,
     "metadata": {},
     "output_type": "execute_result"
    }
   ],
   "source": [
    "company_name= driver.find_elements_by_xpath('//a[@class=\"subTitle ellipsis fleft\"]')\n",
    "len(company_name)"
   ]
  },
  {
   "cell_type": "code",
   "execution_count": 27,
   "metadata": {},
   "outputs": [
    {
     "data": {
      "text/plain": [
       "['Schneider Electric',\n",
       " \"Moody's\",\n",
       " 'WEIWO Communication Pvt. Ltd.',\n",
       " 'AugmatrixGo',\n",
       " \"Moody's\",\n",
       " 'Spectraforce Technologies',\n",
       " 'Flipkart',\n",
       " 'Flipkart',\n",
       " 'Flipkart',\n",
       " 'Tata Consultancy Services Ltd.']"
      ]
     },
     "execution_count": 27,
     "metadata": {},
     "output_type": "execute_result"
    }
   ],
   "source": [
    "# extracting Names\n",
    "company_names=[]\n",
    "for i in company_name:\n",
    "    company_names.append(i.text)\n",
    "Company_Names=company_names[0:10]\n",
    "Company_Names"
   ]
  },
  {
   "cell_type": "code",
   "execution_count": 19,
   "metadata": {},
   "outputs": [
    {
     "data": {
      "text/plain": [
       "20"
      ]
     },
     "execution_count": 19,
     "metadata": {},
     "output_type": "execute_result"
    }
   ],
   "source": [
    "job_loc= driver.find_elements_by_xpath('//li[@class=\"fleft grey-text br2 placeHolderLi location\"]')\n",
    "len(job_loc)"
   ]
  },
  {
   "cell_type": "code",
   "execution_count": 32,
   "metadata": {},
   "outputs": [
    {
     "data": {
      "text/plain": [
       "['Bangalore/Bengaluru',\n",
       " 'Bangalore/Bengaluru',\n",
       " 'Bangalore/Bengaluru(Ulsoor)',\n",
       " 'Bangalore/Bengaluru',\n",
       " 'Bangalore/Bengaluru',\n",
       " 'Bangalore/Bengaluru',\n",
       " 'Bengaluru/Bangalore',\n",
       " 'Bengaluru/Bangalore',\n",
       " 'Bangalore/Bengaluru',\n",
       " 'Pune, Bangalore/Bengaluru, Delhi / NCR']"
      ]
     },
     "execution_count": 32,
     "metadata": {},
     "output_type": "execute_result"
    }
   ],
   "source": [
    "# extracting location\n",
    "job_locs= []\n",
    "for i in job_loc:\n",
    "    job_locs.append(i.text)\n",
    "Job_Locs= job_locs[0:10]\n",
    "Job_Locs"
   ]
  },
  {
   "cell_type": "code",
   "execution_count": 24,
   "metadata": {},
   "outputs": [
    {
     "data": {
      "text/plain": [
       "20"
      ]
     },
     "execution_count": 24,
     "metadata": {},
     "output_type": "execute_result"
    }
   ],
   "source": [
    "job_exp= driver.find_elements_by_xpath('//li[@class=\"fleft grey-text br2 placeHolderLi experience\"]')\n",
    "len(job_exp)"
   ]
  },
  {
   "cell_type": "code",
   "execution_count": 33,
   "metadata": {},
   "outputs": [
    {
     "data": {
      "text/plain": [
       "['0-2 Yrs',\n",
       " '0-2 Yrs',\n",
       " '2-7 Yrs',\n",
       " '2-5 Yrs',\n",
       " '0-2 Yrs',\n",
       " '5-10 Yrs',\n",
       " '2-3 Yrs',\n",
       " '3-7 Yrs',\n",
       " '5-7 Yrs',\n",
       " '4-9 Yrs']"
      ]
     },
     "execution_count": 33,
     "metadata": {},
     "output_type": "execute_result"
    }
   ],
   "source": [
    "# extracting Experience\n",
    "job_exps=[]\n",
    "for i in job_exp:\n",
    "    job_exps.append(i.text)\n",
    "Job_Exps= job_exps[0:10]\n",
    "Job_Exps"
   ]
  },
  {
   "cell_type": "code",
   "execution_count": 35,
   "metadata": {},
   "outputs": [
    {
     "name": "stdout",
     "output_type": "stream",
     "text": [
      "10 10 10 10\n"
     ]
    }
   ],
   "source": [
    "# Finding length\n",
    "print(len(Job_Titles), len(Company_Names), len(Job_Exps), len(Job_Locs))"
   ]
  },
  {
   "cell_type": "code",
   "execution_count": 40,
   "metadata": {},
   "outputs": [
    {
     "data": {
      "text/html": [
       "<div>\n",
       "<style scoped>\n",
       "    .dataframe tbody tr th:only-of-type {\n",
       "        vertical-align: middle;\n",
       "    }\n",
       "\n",
       "    .dataframe tbody tr th {\n",
       "        vertical-align: top;\n",
       "    }\n",
       "\n",
       "    .dataframe thead th {\n",
       "        text-align: right;\n",
       "    }\n",
       "</style>\n",
       "<table border=\"1\" class=\"dataframe\">\n",
       "  <thead>\n",
       "    <tr style=\"text-align: right;\">\n",
       "      <th></th>\n",
       "      <th>Job_Title</th>\n",
       "      <th>Location</th>\n",
       "      <th>Company_Name</th>\n",
       "      <th>Experience_Requrired</th>\n",
       "    </tr>\n",
       "  </thead>\n",
       "  <tbody>\n",
       "    <tr>\n",
       "      <th>0</th>\n",
       "      <td>Senior Data Analyst</td>\n",
       "      <td>Bangalore/Bengaluru</td>\n",
       "      <td>Schneider Electric</td>\n",
       "      <td>0-2 Yrs</td>\n",
       "    </tr>\n",
       "    <tr>\n",
       "      <th>1</th>\n",
       "      <td>Financial Data Analyst</td>\n",
       "      <td>Bangalore/Bengaluru</td>\n",
       "      <td>Moody's</td>\n",
       "      <td>0-2 Yrs</td>\n",
       "    </tr>\n",
       "    <tr>\n",
       "      <th>2</th>\n",
       "      <td>Data Analyst</td>\n",
       "      <td>Bangalore/Bengaluru(Ulsoor)</td>\n",
       "      <td>WEIWO Communication Pvt. Ltd.</td>\n",
       "      <td>2-7 Yrs</td>\n",
       "    </tr>\n",
       "    <tr>\n",
       "      <th>3</th>\n",
       "      <td>Business Data Analyst - Database Design/Mining</td>\n",
       "      <td>Bangalore/Bengaluru</td>\n",
       "      <td>AugmatrixGo</td>\n",
       "      <td>2-5 Yrs</td>\n",
       "    </tr>\n",
       "    <tr>\n",
       "      <th>4</th>\n",
       "      <td>Financial Data Analyst</td>\n",
       "      <td>Bangalore/Bengaluru</td>\n",
       "      <td>Moody's</td>\n",
       "      <td>0-2 Yrs</td>\n",
       "    </tr>\n",
       "    <tr>\n",
       "      <th>5</th>\n",
       "      <td>Senior Data Analyst</td>\n",
       "      <td>Bangalore/Bengaluru</td>\n",
       "      <td>Spectraforce Technologies</td>\n",
       "      <td>5-10 Yrs</td>\n",
       "    </tr>\n",
       "    <tr>\n",
       "      <th>6</th>\n",
       "      <td>Senior Data Analyst</td>\n",
       "      <td>Bengaluru/Bangalore</td>\n",
       "      <td>Flipkart</td>\n",
       "      <td>2-3 Yrs</td>\n",
       "    </tr>\n",
       "    <tr>\n",
       "      <th>7</th>\n",
       "      <td>Senior Data Analyst II</td>\n",
       "      <td>Bengaluru/Bangalore</td>\n",
       "      <td>Flipkart</td>\n",
       "      <td>3-7 Yrs</td>\n",
       "    </tr>\n",
       "    <tr>\n",
       "      <th>8</th>\n",
       "      <td>Senior Data Analyst II</td>\n",
       "      <td>Bangalore/Bengaluru</td>\n",
       "      <td>Flipkart</td>\n",
       "      <td>5-7 Yrs</td>\n",
       "    </tr>\n",
       "    <tr>\n",
       "      <th>9</th>\n",
       "      <td>Tcs Hiring For Data Analyst / Engineers</td>\n",
       "      <td>Pune, Bangalore/Bengaluru, Delhi / NCR</td>\n",
       "      <td>Tata Consultancy Services Ltd.</td>\n",
       "      <td>4-9 Yrs</td>\n",
       "    </tr>\n",
       "  </tbody>\n",
       "</table>\n",
       "</div>"
      ],
      "text/plain": [
       "                                        Job_Title  \\\n",
       "0                             Senior Data Analyst   \n",
       "1                          Financial Data Analyst   \n",
       "2                                    Data Analyst   \n",
       "3  Business Data Analyst - Database Design/Mining   \n",
       "4                          Financial Data Analyst   \n",
       "5                             Senior Data Analyst   \n",
       "6                             Senior Data Analyst   \n",
       "7                          Senior Data Analyst II   \n",
       "8                          Senior Data Analyst II   \n",
       "9         Tcs Hiring For Data Analyst / Engineers   \n",
       "\n",
       "                                 Location                    Company_Name  \\\n",
       "0                     Bangalore/Bengaluru              Schneider Electric   \n",
       "1                     Bangalore/Bengaluru                         Moody's   \n",
       "2             Bangalore/Bengaluru(Ulsoor)   WEIWO Communication Pvt. Ltd.   \n",
       "3                     Bangalore/Bengaluru                     AugmatrixGo   \n",
       "4                     Bangalore/Bengaluru                         Moody's   \n",
       "5                     Bangalore/Bengaluru       Spectraforce Technologies   \n",
       "6                     Bengaluru/Bangalore                        Flipkart   \n",
       "7                     Bengaluru/Bangalore                        Flipkart   \n",
       "8                     Bangalore/Bengaluru                        Flipkart   \n",
       "9  Pune, Bangalore/Bengaluru, Delhi / NCR  Tata Consultancy Services Ltd.   \n",
       "\n",
       "  Experience_Requrired  \n",
       "0              0-2 Yrs  \n",
       "1              0-2 Yrs  \n",
       "2              2-7 Yrs  \n",
       "3              2-5 Yrs  \n",
       "4              0-2 Yrs  \n",
       "5             5-10 Yrs  \n",
       "6              2-3 Yrs  \n",
       "7              3-7 Yrs  \n",
       "8              5-7 Yrs  \n",
       "9              4-9 Yrs  "
      ]
     },
     "execution_count": 40,
     "metadata": {},
     "output_type": "execute_result"
    }
   ],
   "source": [
    "# Creating DataFrame\n",
    "job= pd.DataFrame({'Job_Title':Job_Titles,'Location': Job_Locs, 'Company_Name':Company_Names, 'Experience_Requrired':Job_Exps })\n",
    "job"
   ]
  },
  {
   "cell_type": "markdown",
   "metadata": {},
   "source": [
    "# 2-Data Scientist"
   ]
  },
  {
   "cell_type": "code",
   "execution_count": 49,
   "metadata": {},
   "outputs": [],
   "source": [
    "#importing chromedriver\n",
    "driver= webdriver.Chrome(\"D:\\Inernship\\chromedriver.exe\")"
   ]
  },
  {
   "cell_type": "code",
   "execution_count": 50,
   "metadata": {},
   "outputs": [],
   "source": [
    "#getting Url\n",
    "url= 'https://www.naukri.com/'\n",
    "driver.get(url)"
   ]
  },
  {
   "cell_type": "code",
   "execution_count": 51,
   "metadata": {},
   "outputs": [
    {
     "data": {
      "text/plain": [
       "<selenium.webdriver.remote.webelement.WebElement (session=\"dc0a7c91d7671c012b97bc94135978ff\", element=\"b9bea489-b968-4164-b9b3-562d7edcf45f\")>"
      ]
     },
     "execution_count": 51,
     "metadata": {},
     "output_type": "execute_result"
    }
   ],
   "source": [
    "#search bar\n",
    "search_job= driver.find_element_by_id('qsb-keyword-sugg')\n",
    "search_job"
   ]
  },
  {
   "cell_type": "code",
   "execution_count": 52,
   "metadata": {},
   "outputs": [],
   "source": [
    "#writing on search bar\n",
    "search_job.send_keys('Data Scientist')"
   ]
  },
  {
   "cell_type": "code",
   "execution_count": 53,
   "metadata": {},
   "outputs": [
    {
     "data": {
      "text/plain": [
       "<selenium.webdriver.remote.webelement.WebElement (session=\"dc0a7c91d7671c012b97bc94135978ff\", element=\"b48eeffa-c948-4c20-8ad9-4a2ae514a0be\")>"
      ]
     },
     "execution_count": 53,
     "metadata": {},
     "output_type": "execute_result"
    }
   ],
   "source": [
    "#finding job location bar\n",
    "search_loc= driver.find_element_by_xpath('/html/body/div[1]/div[3]/div[2]/section/div/form/div[2]/div/div/div/div[1]/div[2]/input')\n",
    "search_loc"
   ]
  },
  {
   "cell_type": "code",
   "execution_count": 54,
   "metadata": {},
   "outputs": [],
   "source": [
    "# setting banglore location\n",
    "search_loc.send_keys('Bangalore')"
   ]
  },
  {
   "cell_type": "code",
   "execution_count": 55,
   "metadata": {},
   "outputs": [
    {
     "data": {
      "text/plain": [
       "<selenium.webdriver.remote.webelement.WebElement (session=\"dc0a7c91d7671c012b97bc94135978ff\", element=\"7035babe-c8bc-4a15-9f6e-1b69636b2a27\")>"
      ]
     },
     "execution_count": 55,
     "metadata": {},
     "output_type": "execute_result"
    }
   ],
   "source": [
    "search_btn= driver.find_element_by_xpath('/html/body/div[1]/div[3]/div[2]/section/div/form/div[3]/button')\n",
    "search_btn"
   ]
  },
  {
   "cell_type": "code",
   "execution_count": 57,
   "metadata": {},
   "outputs": [],
   "source": [
    "#click on search button\n",
    "search_btn.click()"
   ]
  },
  {
   "cell_type": "code",
   "execution_count": 60,
   "metadata": {},
   "outputs": [
    {
     "data": {
      "text/plain": [
       "['Global Tax Automation & Operations | Data Scientist Senior Analyst',\n",
       " 'Lead Data Scientist',\n",
       " 'Sr Applied Data Scientist',\n",
       " 'Senior Risk Data Scientist',\n",
       " 'Senior Risk Data Scientist',\n",
       " 'Conducting virtual drive on 8th Jan For Data Scientists',\n",
       " 'Principal Data Scientist',\n",
       " 'Data Scientist',\n",
       " 'Data Scientist',\n",
       " 'Senior Associate - Data Scientist']"
      ]
     },
     "execution_count": 60,
     "metadata": {},
     "output_type": "execute_result"
    }
   ],
   "source": [
    "# extracting job Titles\n",
    "job_titles=[]\n",
    "for i in driver.find_elements_by_xpath('//a[@class=\"title fw500 ellipsis\"]'):\n",
    "    job_titles.append(i.text)\n",
    "job_titles= job_titles[0:10]\n",
    "job_titles"
   ]
  },
  {
   "cell_type": "code",
   "execution_count": 61,
   "metadata": {},
   "outputs": [
    {
     "data": {
      "text/plain": [
       "['Bangalore/Bengaluru',\n",
       " 'Bangalore/Bengaluru',\n",
       " 'Bangalore/Bengaluru',\n",
       " 'Bangalore/Bengaluru',\n",
       " 'Bangalore/Bengaluru',\n",
       " 'Kolkata, Hyderabad/Secunderabad, Pune, Ahmedabad, Chennai, Bangalore/Bengaluru, Delhi / NCR, Mumbai (All Areas)\\n(WFH during Covid)',\n",
       " 'Bangalore/Bengaluru',\n",
       " 'Bangalore/Bengaluru',\n",
       " 'Bangalore/Bengaluru',\n",
       " 'Hyderabad/Secunderabad, Bangalore/Bengaluru\\n(WFH during Covid)']"
      ]
     },
     "execution_count": 61,
     "metadata": {},
     "output_type": "execute_result"
    }
   ],
   "source": [
    "# extracting location\n",
    "job_locs= []\n",
    "for i in driver.find_elements_by_xpath('//li[@class=\"fleft grey-text br2 placeHolderLi location\"]'):\n",
    "    job_locs.append(i.text)\n",
    "job_locs= job_locs[0:10]\n",
    "job_locs"
   ]
  },
  {
   "cell_type": "code",
   "execution_count": 62,
   "metadata": {},
   "outputs": [
    {
     "data": {
      "text/plain": [
       "['Dell International Services India Private Limited',\n",
       " 'First American Corporation',\n",
       " 'Tesco Bengaluru',\n",
       " 'GSK India',\n",
       " 'GSK India',\n",
       " 'Pluto seven business solutions (p) limited',\n",
       " 'Narayana Heath',\n",
       " 'ELPIS IT SOLUTIONS PVT LTD',\n",
       " 'Narayana Health',\n",
       " 'Paonta Valley LLP']"
      ]
     },
     "execution_count": 62,
     "metadata": {},
     "output_type": "execute_result"
    }
   ],
   "source": [
    "#extracting companies names\n",
    "company_names= []\n",
    "for i in driver.find_elements_by_xpath('//a[@class=\"subTitle ellipsis fleft\"]'):\n",
    "    company_names.append(i.text)\n",
    "company_names= company_names[0:10]\n",
    "company_names"
   ]
  },
  {
   "cell_type": "code",
   "execution_count": 66,
   "metadata": {},
   "outputs": [
    {
     "name": "stdout",
     "output_type": "stream",
     "text": [
      "10 10 10\n"
     ]
    }
   ],
   "source": [
    "# Finding length\n",
    "print(len(job_titles), len(job_locs), len(company_names))"
   ]
  },
  {
   "cell_type": "code",
   "execution_count": 67,
   "metadata": {},
   "outputs": [
    {
     "data": {
      "text/html": [
       "<div>\n",
       "<style scoped>\n",
       "    .dataframe tbody tr th:only-of-type {\n",
       "        vertical-align: middle;\n",
       "    }\n",
       "\n",
       "    .dataframe tbody tr th {\n",
       "        vertical-align: top;\n",
       "    }\n",
       "\n",
       "    .dataframe thead th {\n",
       "        text-align: right;\n",
       "    }\n",
       "</style>\n",
       "<table border=\"1\" class=\"dataframe\">\n",
       "  <thead>\n",
       "    <tr style=\"text-align: right;\">\n",
       "      <th></th>\n",
       "      <th>Job_Title</th>\n",
       "      <th>Locations</th>\n",
       "      <th>Company_Name</th>\n",
       "    </tr>\n",
       "  </thead>\n",
       "  <tbody>\n",
       "    <tr>\n",
       "      <th>0</th>\n",
       "      <td>Global Tax Automation &amp; Operations | Data Scie...</td>\n",
       "      <td>Bangalore/Bengaluru</td>\n",
       "      <td>Dell International Services India Private Limited</td>\n",
       "    </tr>\n",
       "    <tr>\n",
       "      <th>1</th>\n",
       "      <td>Lead Data Scientist</td>\n",
       "      <td>Bangalore/Bengaluru</td>\n",
       "      <td>First American Corporation</td>\n",
       "    </tr>\n",
       "    <tr>\n",
       "      <th>2</th>\n",
       "      <td>Sr Applied Data Scientist</td>\n",
       "      <td>Bangalore/Bengaluru</td>\n",
       "      <td>Tesco Bengaluru</td>\n",
       "    </tr>\n",
       "    <tr>\n",
       "      <th>3</th>\n",
       "      <td>Senior Risk Data Scientist</td>\n",
       "      <td>Bangalore/Bengaluru</td>\n",
       "      <td>GSK India</td>\n",
       "    </tr>\n",
       "    <tr>\n",
       "      <th>4</th>\n",
       "      <td>Senior Risk Data Scientist</td>\n",
       "      <td>Bangalore/Bengaluru</td>\n",
       "      <td>GSK India</td>\n",
       "    </tr>\n",
       "    <tr>\n",
       "      <th>5</th>\n",
       "      <td>Conducting virtual drive on 8th Jan For Data S...</td>\n",
       "      <td>Kolkata, Hyderabad/Secunderabad, Pune, Ahmedab...</td>\n",
       "      <td>Pluto seven business solutions (p) limited</td>\n",
       "    </tr>\n",
       "    <tr>\n",
       "      <th>6</th>\n",
       "      <td>Principal Data Scientist</td>\n",
       "      <td>Bangalore/Bengaluru</td>\n",
       "      <td>Narayana Heath</td>\n",
       "    </tr>\n",
       "    <tr>\n",
       "      <th>7</th>\n",
       "      <td>Data Scientist</td>\n",
       "      <td>Bangalore/Bengaluru</td>\n",
       "      <td>ELPIS IT SOLUTIONS PVT LTD</td>\n",
       "    </tr>\n",
       "    <tr>\n",
       "      <th>8</th>\n",
       "      <td>Data Scientist</td>\n",
       "      <td>Bangalore/Bengaluru</td>\n",
       "      <td>Narayana Health</td>\n",
       "    </tr>\n",
       "    <tr>\n",
       "      <th>9</th>\n",
       "      <td>Senior Associate - Data Scientist</td>\n",
       "      <td>Hyderabad/Secunderabad, Bangalore/Bengaluru\\n(...</td>\n",
       "      <td>Paonta Valley LLP</td>\n",
       "    </tr>\n",
       "  </tbody>\n",
       "</table>\n",
       "</div>"
      ],
      "text/plain": [
       "                                           Job_Title  \\\n",
       "0  Global Tax Automation & Operations | Data Scie...   \n",
       "1                                Lead Data Scientist   \n",
       "2                          Sr Applied Data Scientist   \n",
       "3                         Senior Risk Data Scientist   \n",
       "4                         Senior Risk Data Scientist   \n",
       "5  Conducting virtual drive on 8th Jan For Data S...   \n",
       "6                           Principal Data Scientist   \n",
       "7                                     Data Scientist   \n",
       "8                                     Data Scientist   \n",
       "9                  Senior Associate - Data Scientist   \n",
       "\n",
       "                                           Locations  \\\n",
       "0                                Bangalore/Bengaluru   \n",
       "1                                Bangalore/Bengaluru   \n",
       "2                                Bangalore/Bengaluru   \n",
       "3                                Bangalore/Bengaluru   \n",
       "4                                Bangalore/Bengaluru   \n",
       "5  Kolkata, Hyderabad/Secunderabad, Pune, Ahmedab...   \n",
       "6                                Bangalore/Bengaluru   \n",
       "7                                Bangalore/Bengaluru   \n",
       "8                                Bangalore/Bengaluru   \n",
       "9  Hyderabad/Secunderabad, Bangalore/Bengaluru\\n(...   \n",
       "\n",
       "                                        Company_Name  \n",
       "0  Dell International Services India Private Limited  \n",
       "1                         First American Corporation  \n",
       "2                                    Tesco Bengaluru  \n",
       "3                                          GSK India  \n",
       "4                                          GSK India  \n",
       "5         Pluto seven business solutions (p) limited  \n",
       "6                                     Narayana Heath  \n",
       "7                         ELPIS IT SOLUTIONS PVT LTD  \n",
       "8                                    Narayana Health  \n",
       "9                                  Paonta Valley LLP  "
      ]
     },
     "execution_count": 67,
     "metadata": {},
     "output_type": "execute_result"
    }
   ],
   "source": [
    "# Creating DataFrame\n",
    "jobs= pd.DataFrame({'Job_Title':job_titles, 'Locations':job_locs, 'Company_Name':company_names})\n",
    "jobs"
   ]
  },
  {
   "cell_type": "markdown",
   "metadata": {},
   "source": [
    "# 3 Data Scientits (Delhi/NCR)"
   ]
  },
  {
   "cell_type": "code",
   "execution_count": 98,
   "metadata": {},
   "outputs": [],
   "source": [
    "#importing chromedriver\n",
    "driver= webdriver.Chrome(\"D:\\Inernship\\chromedriver.exe\")"
   ]
  },
  {
   "cell_type": "code",
   "execution_count": 99,
   "metadata": {},
   "outputs": [],
   "source": [
    "#getting Url\n",
    "url= 'https://www.naukri.com/'\n",
    "driver.get(url)"
   ]
  },
  {
   "cell_type": "code",
   "execution_count": 100,
   "metadata": {},
   "outputs": [
    {
     "data": {
      "text/plain": [
       "<selenium.webdriver.remote.webelement.WebElement (session=\"2154da9a19b400136c30fc958ecc3736\", element=\"f3c2e4c5-bc41-40a7-87e6-cdb59d778fb1\")>"
      ]
     },
     "execution_count": 100,
     "metadata": {},
     "output_type": "execute_result"
    }
   ],
   "source": [
    " #search bar\n",
    "search_job= driver.find_element_by_id('qsb-keyword-sugg')\n",
    "search_job"
   ]
  },
  {
   "cell_type": "code",
   "execution_count": 101,
   "metadata": {},
   "outputs": [],
   "source": [
    "#writing on search bar\n",
    "search_job.send_keys('Data Scientist')"
   ]
  },
  {
   "cell_type": "code",
   "execution_count": 102,
   "metadata": {},
   "outputs": [
    {
     "data": {
      "text/plain": [
       "<selenium.webdriver.remote.webelement.WebElement (session=\"2154da9a19b400136c30fc958ecc3736\", element=\"6595b9c3-3594-40b1-a777-593c6767eba2\")>"
      ]
     },
     "execution_count": 102,
     "metadata": {},
     "output_type": "execute_result"
    }
   ],
   "source": [
    "search_btn= driver.find_element_by_xpath('/html/body/div[1]/div[3]/div[2]/section/div/form/div[3]/button')\n",
    "search_btn"
   ]
  },
  {
   "cell_type": "code",
   "execution_count": 103,
   "metadata": {},
   "outputs": [],
   "source": [
    "#click on search button\n",
    "search_btn.click()"
   ]
  },
  {
   "cell_type": "code",
   "execution_count": 104,
   "metadata": {},
   "outputs": [
    {
     "data": {
      "text/plain": [
       "<selenium.webdriver.remote.webelement.WebElement (session=\"2154da9a19b400136c30fc958ecc3736\", element=\"e1b8e8ae-fd57-4d3f-a8b8-56984439f743\")>"
      ]
     },
     "execution_count": 104,
     "metadata": {},
     "output_type": "execute_result"
    }
   ],
   "source": [
    "#using location filter\n",
    "loc_check= driver.find_element_by_xpath('/html/body/div[1]/div[3]/div[2]/section[1]/div[2]/div[3]/div[2]/div[3]/label/p')\n",
    "loc_check"
   ]
  },
  {
   "cell_type": "code",
   "execution_count": 105,
   "metadata": {},
   "outputs": [],
   "source": [
    "loc_check.click()"
   ]
  },
  {
   "cell_type": "code",
   "execution_count": 106,
   "metadata": {},
   "outputs": [
    {
     "data": {
      "text/plain": [
       "<selenium.webdriver.remote.webelement.WebElement (session=\"2154da9a19b400136c30fc958ecc3736\", element=\"3f025ded-044b-498e-9d5a-f5720b31eb03\")>"
      ]
     },
     "execution_count": 106,
     "metadata": {},
     "output_type": "execute_result"
    }
   ],
   "source": [
    "# using salary filter\n",
    "salary_check= driver.find_element_by_xpath('/html/body/div[1]/div[3]/div[2]/section[1]/div[2]/div[4]/div[2]/div[2]/label/p')\n",
    "salary_check"
   ]
  },
  {
   "cell_type": "code",
   "execution_count": 107,
   "metadata": {},
   "outputs": [],
   "source": [
    "salary_check.click()"
   ]
  },
  {
   "cell_type": "code",
   "execution_count": 108,
   "metadata": {},
   "outputs": [
    {
     "data": {
      "text/plain": [
       "['Openings For Jr/mid/Sr level data Scientists',\n",
       " 'DATA SCIENTIST',\n",
       " 'Urgent Hiring For Data Scientist',\n",
       " 'Urgent Hiring For Data Scientist',\n",
       " 'Data Scientist',\n",
       " 'Data Analyst / Data Scientist / Business Analytics / Fresher - MNC',\n",
       " 'Data Scientist',\n",
       " 'Data Scientist',\n",
       " 'Data Scientist - DARPG, New Delhi',\n",
       " 'Data Scientist Internship']"
      ]
     },
     "execution_count": 108,
     "metadata": {},
     "output_type": "execute_result"
    }
   ],
   "source": [
    "# extracting job Titles\n",
    "job_title= []\n",
    "for i in driver.find_elements_by_xpath('//a[@class= \"title fw500 ellipsis\"]'):\n",
    "    job_title.append(i.text)\n",
    "job_titles= job_title[0:10]\n",
    "job_titles"
   ]
  },
  {
   "cell_type": "code",
   "execution_count": 109,
   "metadata": {},
   "outputs": [
    {
     "data": {
      "text/plain": [
       "['Kolkata, Hyderabad/Secunderabad, Pune, Ahmedabad, Chennai, Bangalore/Bengaluru, Delhi / NCR, Mumbai (All Areas)\\n(WFH during Covid)',\n",
       " 'Noida',\n",
       " 'Gurgaon/Gurugram, Bangalore/Bengaluru',\n",
       " 'Gurgaon/Gurugram, Bangalore/Bengaluru',\n",
       " 'Gurgaon/Gurugram, Chennai',\n",
       " 'Noida, New Delhi, Delhi / NCR',\n",
       " 'Gurgaon/Gurugram',\n",
       " 'Gurgaon/Gurugram',\n",
       " 'Delhi / NCR',\n",
       " 'New Delhi']"
      ]
     },
     "execution_count": 109,
     "metadata": {},
     "output_type": "execute_result"
    }
   ],
   "source": [
    "# extracting location\n",
    "job_loc= []\n",
    "for i in driver.find_elements_by_xpath('//li[@class=\"fleft grey-text br2 placeHolderLi location\"]'):\n",
    "    job_loc.append(i.text)\n",
    "job_locs= job_loc[0:10]\n",
    "job_locs"
   ]
  },
  {
   "cell_type": "code",
   "execution_count": 112,
   "metadata": {},
   "outputs": [
    {
     "data": {
      "text/plain": [
       "['Pluto seven business solutions (p) limited',\n",
       " 'I Tech Analytic Solutions',\n",
       " 'Mount Talent Consulting Private Limited',\n",
       " 'Mount Talent Consulting Private Limited',\n",
       " 'Teleperformance',\n",
       " 'GABA Consultancy services',\n",
       " 'WNS India',\n",
       " 'WNS India',\n",
       " 'NISG (National Institute for Smart Government)',\n",
       " 'iHackers Inc']"
      ]
     },
     "execution_count": 112,
     "metadata": {},
     "output_type": "execute_result"
    }
   ],
   "source": [
    "#extracting companies names\n",
    "company_name=[]\n",
    "for i in driver.find_elements_by_xpath('//a[@class=\"subTitle ellipsis fleft\"]'):\n",
    "    company_name.append(i.text)\n",
    "company_names= company_name[0:10]\n",
    "company_names"
   ]
  },
  {
   "cell_type": "code",
   "execution_count": 114,
   "metadata": {},
   "outputs": [
    {
     "data": {
      "text/plain": [
       "['2-6 Yrs',\n",
       " '2-5 Yrs',\n",
       " '1-6 Yrs',\n",
       " '1-6 Yrs',\n",
       " '4-9 Yrs',\n",
       " '0-0 Yrs',\n",
       " '3-6 Yrs',\n",
       " '3-7 Yrs',\n",
       " '3-8 Yrs',\n",
       " '0-1 Yrs']"
      ]
     },
     "execution_count": 114,
     "metadata": {},
     "output_type": "execute_result"
    }
   ],
   "source": [
    "# extracting experiance data\n",
    "exp_req= []\n",
    "for i in driver.find_elements_by_xpath('//li[@class=\"fleft grey-text br2 placeHolderLi experience\"]'):\n",
    "    exp_req.append(i.text)\n",
    "exp_req= exp_req[0:10]\n",
    "exp_req"
   ]
  },
  {
   "cell_type": "code",
   "execution_count": 115,
   "metadata": {},
   "outputs": [
    {
     "name": "stdout",
     "output_type": "stream",
     "text": [
      "10 10 10 10\n"
     ]
    }
   ],
   "source": [
    "# Finding length\n",
    "print(len(job_titles), len(job_locs), len(company_names), len(exp_req))"
   ]
  },
  {
   "cell_type": "code",
   "execution_count": 118,
   "metadata": {},
   "outputs": [
    {
     "data": {
      "text/html": [
       "<div>\n",
       "<style scoped>\n",
       "    .dataframe tbody tr th:only-of-type {\n",
       "        vertical-align: middle;\n",
       "    }\n",
       "\n",
       "    .dataframe tbody tr th {\n",
       "        vertical-align: top;\n",
       "    }\n",
       "\n",
       "    .dataframe thead th {\n",
       "        text-align: right;\n",
       "    }\n",
       "</style>\n",
       "<table border=\"1\" class=\"dataframe\">\n",
       "  <thead>\n",
       "    <tr style=\"text-align: right;\">\n",
       "      <th></th>\n",
       "      <th>Job_Title</th>\n",
       "      <th>Location</th>\n",
       "      <th>Company_Name</th>\n",
       "      <th>Experience_Required</th>\n",
       "    </tr>\n",
       "  </thead>\n",
       "  <tbody>\n",
       "    <tr>\n",
       "      <th>0</th>\n",
       "      <td>Openings For Jr/mid/Sr level data Scientists</td>\n",
       "      <td>Kolkata, Hyderabad/Secunderabad, Pune, Ahmedab...</td>\n",
       "      <td>Pluto seven business solutions (p) limited</td>\n",
       "      <td>2-6 Yrs</td>\n",
       "    </tr>\n",
       "    <tr>\n",
       "      <th>1</th>\n",
       "      <td>DATA SCIENTIST</td>\n",
       "      <td>Noida</td>\n",
       "      <td>I Tech Analytic Solutions</td>\n",
       "      <td>2-5 Yrs</td>\n",
       "    </tr>\n",
       "    <tr>\n",
       "      <th>2</th>\n",
       "      <td>Urgent Hiring For Data Scientist</td>\n",
       "      <td>Gurgaon/Gurugram, Bangalore/Bengaluru</td>\n",
       "      <td>Mount Talent Consulting Private Limited</td>\n",
       "      <td>1-6 Yrs</td>\n",
       "    </tr>\n",
       "    <tr>\n",
       "      <th>3</th>\n",
       "      <td>Urgent Hiring For Data Scientist</td>\n",
       "      <td>Gurgaon/Gurugram, Bangalore/Bengaluru</td>\n",
       "      <td>Mount Talent Consulting Private Limited</td>\n",
       "      <td>1-6 Yrs</td>\n",
       "    </tr>\n",
       "    <tr>\n",
       "      <th>4</th>\n",
       "      <td>Data Scientist</td>\n",
       "      <td>Gurgaon/Gurugram, Chennai</td>\n",
       "      <td>Teleperformance</td>\n",
       "      <td>4-9 Yrs</td>\n",
       "    </tr>\n",
       "    <tr>\n",
       "      <th>5</th>\n",
       "      <td>Data Analyst / Data Scientist / Business Analy...</td>\n",
       "      <td>Noida, New Delhi, Delhi / NCR</td>\n",
       "      <td>GABA Consultancy services</td>\n",
       "      <td>0-0 Yrs</td>\n",
       "    </tr>\n",
       "    <tr>\n",
       "      <th>6</th>\n",
       "      <td>Data Scientist</td>\n",
       "      <td>Gurgaon/Gurugram</td>\n",
       "      <td>WNS India</td>\n",
       "      <td>3-6 Yrs</td>\n",
       "    </tr>\n",
       "    <tr>\n",
       "      <th>7</th>\n",
       "      <td>Data Scientist</td>\n",
       "      <td>Gurgaon/Gurugram</td>\n",
       "      <td>WNS India</td>\n",
       "      <td>3-7 Yrs</td>\n",
       "    </tr>\n",
       "    <tr>\n",
       "      <th>8</th>\n",
       "      <td>Data Scientist - DARPG, New Delhi</td>\n",
       "      <td>Delhi / NCR</td>\n",
       "      <td>NISG (National Institute for Smart Government)</td>\n",
       "      <td>3-8 Yrs</td>\n",
       "    </tr>\n",
       "    <tr>\n",
       "      <th>9</th>\n",
       "      <td>Data Scientist Internship</td>\n",
       "      <td>New Delhi</td>\n",
       "      <td>iHackers Inc</td>\n",
       "      <td>0-1 Yrs</td>\n",
       "    </tr>\n",
       "  </tbody>\n",
       "</table>\n",
       "</div>"
      ],
      "text/plain": [
       "                                           Job_Title  \\\n",
       "0       Openings For Jr/mid/Sr level data Scientists   \n",
       "1                                     DATA SCIENTIST   \n",
       "2                   Urgent Hiring For Data Scientist   \n",
       "3                   Urgent Hiring For Data Scientist   \n",
       "4                                     Data Scientist   \n",
       "5  Data Analyst / Data Scientist / Business Analy...   \n",
       "6                                     Data Scientist   \n",
       "7                                     Data Scientist   \n",
       "8                  Data Scientist - DARPG, New Delhi   \n",
       "9                          Data Scientist Internship   \n",
       "\n",
       "                                            Location  \\\n",
       "0  Kolkata, Hyderabad/Secunderabad, Pune, Ahmedab...   \n",
       "1                                              Noida   \n",
       "2              Gurgaon/Gurugram, Bangalore/Bengaluru   \n",
       "3              Gurgaon/Gurugram, Bangalore/Bengaluru   \n",
       "4                          Gurgaon/Gurugram, Chennai   \n",
       "5                      Noida, New Delhi, Delhi / NCR   \n",
       "6                                   Gurgaon/Gurugram   \n",
       "7                                   Gurgaon/Gurugram   \n",
       "8                                        Delhi / NCR   \n",
       "9                                          New Delhi   \n",
       "\n",
       "                                     Company_Name Experience_Required  \n",
       "0      Pluto seven business solutions (p) limited             2-6 Yrs  \n",
       "1                       I Tech Analytic Solutions             2-5 Yrs  \n",
       "2         Mount Talent Consulting Private Limited             1-6 Yrs  \n",
       "3         Mount Talent Consulting Private Limited             1-6 Yrs  \n",
       "4                                 Teleperformance             4-9 Yrs  \n",
       "5                       GABA Consultancy services             0-0 Yrs  \n",
       "6                                       WNS India             3-6 Yrs  \n",
       "7                                       WNS India             3-7 Yrs  \n",
       "8  NISG (National Institute for Smart Government)             3-8 Yrs  \n",
       "9                                    iHackers Inc             0-1 Yrs  "
      ]
     },
     "execution_count": 118,
     "metadata": {},
     "output_type": "execute_result"
    }
   ],
   "source": [
    "#Making DataFrame\n",
    "jobs= pd.DataFrame({'Job_Title':job_titles, 'Location':job_locs, 'Company_Name':company_names, 'Experience_Required':exp_req})\n",
    "jobs"
   ]
  },
  {
   "cell_type": "markdown",
   "metadata": {},
   "source": [
    "# 4- flipkart.com (Sunglasses)"
   ]
  },
  {
   "cell_type": "code",
   "execution_count": 2,
   "metadata": {},
   "outputs": [],
   "source": [
    "#importing chromedriver\n",
    "driver= webdriver.Chrome(\"D:\\Inernship\\chromedriver.exe\")"
   ]
  },
  {
   "cell_type": "code",
   "execution_count": 3,
   "metadata": {},
   "outputs": [],
   "source": [
    "#getting Url\n",
    "url= 'https://www.flipkart.com/'\n",
    "driver.get(url)"
   ]
  },
  {
   "cell_type": "code",
   "execution_count": 4,
   "metadata": {},
   "outputs": [
    {
     "data": {
      "text/plain": [
       "<selenium.webdriver.remote.webelement.WebElement (session=\"3c645fb5e4d348b357112950cdcaf069\", element=\"2ebc4dfb-38b6-4db8-a4b3-d00f07f46835\")>"
      ]
     },
     "execution_count": 4,
     "metadata": {},
     "output_type": "execute_result"
    }
   ],
   "source": [
    " #search bar\n",
    "search_bar= driver.find_element_by_xpath('/html/body/div[1]/div/div[1]/div[1]/div[2]/div[2]/form/div/div/input') \n",
    "search_bar"
   ]
  },
  {
   "cell_type": "code",
   "execution_count": 5,
   "metadata": {},
   "outputs": [],
   "source": [
    "#writing on search bar\n",
    "search_bar.send_keys('Sunglasses')"
   ]
  },
  {
   "cell_type": "code",
   "execution_count": 8,
   "metadata": {},
   "outputs": [
    {
     "data": {
      "text/plain": [
       "<selenium.webdriver.remote.webelement.WebElement (session=\"3c645fb5e4d348b357112950cdcaf069\", element=\"52c2609a-81d8-47b9-b73c-b251bb2f800a\")>"
      ]
     },
     "execution_count": 8,
     "metadata": {},
     "output_type": "execute_result"
    }
   ],
   "source": [
    "search_btn= driver.find_element_by_xpath(\"/html/body/div[1]/div/div[1]/div[1]/div[2]/div[2]/form/div/button\")\n",
    "search_btn"
   ]
  },
  {
   "cell_type": "code",
   "execution_count": 9,
   "metadata": {},
   "outputs": [],
   "source": [
    "#click on search button\n",
    "search_btn.click()"
   ]
  },
  {
   "cell_type": "code",
   "execution_count": 10,
   "metadata": {},
   "outputs": [
    {
     "name": "stdout",
     "output_type": "stream",
     "text": [
      "40\n",
      "40\n",
      "40\n"
     ]
    }
   ],
   "source": [
    "# Page 1 \n",
    "\n",
    "a= []\n",
    "for i in driver.find_elements_by_xpath('//div[@class=\"_2WkVRV\"]'):     #brand\n",
    "    a.append(i.text)\n",
    "print(len(a))\n",
    "    \n",
    "x=[]\n",
    "for j in driver.find_elements_by_xpath('//a[@class=\"IRpwTa\"]'):        #product_description\n",
    "    x.append(j.text)\n",
    "print(len(x))\n",
    "\n",
    "p= []\n",
    "for k in driver.find_elements_by_xpath('//div[@class=\"_30jeq3\"]'):     #price\n",
    "    p.append(k.text)\n",
    "print(len(p))"
   ]
  },
  {
   "cell_type": "code",
   "execution_count": 11,
   "metadata": {},
   "outputs": [
    {
     "data": {
      "text/plain": [
       "<selenium.webdriver.remote.webelement.WebElement (session=\"3c645fb5e4d348b357112950cdcaf069\", element=\"a77f3507-812d-453f-bbca-1d18f067119a\")>"
      ]
     },
     "execution_count": 11,
     "metadata": {},
     "output_type": "execute_result"
    }
   ],
   "source": [
    "next_btn= driver.find_element_by_xpath(\"/html/body/div[1]/div/div[3]/div[1]/div[2]/div[12]/div/div/nav/a[11]\")\n",
    "next_btn"
   ]
  },
  {
   "cell_type": "code",
   "execution_count": 12,
   "metadata": {},
   "outputs": [],
   "source": [
    "next_btn.click()"
   ]
  },
  {
   "cell_type": "code",
   "execution_count": 13,
   "metadata": {},
   "outputs": [
    {
     "name": "stdout",
     "output_type": "stream",
     "text": [
      "40\n",
      "40\n",
      "40\n"
     ]
    }
   ],
   "source": [
    "# Page 2\n",
    "\n",
    "b= []\n",
    "for i in driver.find_elements_by_xpath('//div[@class=\"_2WkVRV\"]'):      #brand   \n",
    "    b.append(i.text)\n",
    "print(len(b))    \n",
    "    \n",
    "y=[]\n",
    "for j in driver.find_elements_by_xpath('//a[@class=\"IRpwTa\"]'):         #product_description\n",
    "    y.append(j.text)\n",
    "print(len(y))\n",
    "\n",
    "q= []\n",
    "for k in driver.find_elements_by_xpath('//div[@class=\"_30jeq3\"]'):      #price\n",
    "    q.append(k.text)\n",
    "print(len(q))"
   ]
  },
  {
   "cell_type": "code",
   "execution_count": 14,
   "metadata": {},
   "outputs": [
    {
     "data": {
      "text/plain": [
       "<selenium.webdriver.remote.webelement.WebElement (session=\"3c645fb5e4d348b357112950cdcaf069\", element=\"a77f3507-812d-453f-bbca-1d18f067119a\")>"
      ]
     },
     "execution_count": 14,
     "metadata": {},
     "output_type": "execute_result"
    }
   ],
   "source": [
    "next_btn= driver.find_element_by_xpath(\"/html/body/div[1]/div/div[3]/div[1]/div[2]/div[12]/div/div/nav/a[12]\")\n",
    "next_btn\n"
   ]
  },
  {
   "cell_type": "code",
   "execution_count": 15,
   "metadata": {},
   "outputs": [],
   "source": [
    "next_btn.click()"
   ]
  },
  {
   "cell_type": "code",
   "execution_count": 16,
   "metadata": {},
   "outputs": [
    {
     "name": "stdout",
     "output_type": "stream",
     "text": [
      "20\n",
      "20\n",
      "20\n"
     ]
    }
   ],
   "source": [
    "# Page 3\n",
    "\n",
    "c= []\n",
    "for i in driver.find_elements_by_xpath('//div[@class=\"_2WkVRV\"]'):      #brand\n",
    "    c.append(i.text)\n",
    "c= c[0:20]\n",
    "print(len(c))    \n",
    "    \n",
    "z=[]\n",
    "for j in driver.find_elements_by_xpath('//a[@class=\"IRpwTa\"]'):         #product_description\n",
    "    z.append(j.text)\n",
    "z= z[0:20]\n",
    "print(len(z))\n",
    "\n",
    "r= []\n",
    "for k in driver.find_elements_by_xpath('//div[@class=\"_30jeq3\"]'):       #price\n",
    "    r.append(k.text)\n",
    "r= r[0:20]\n",
    "print(len(r))"
   ]
  },
  {
   "cell_type": "code",
   "execution_count": 17,
   "metadata": {},
   "outputs": [],
   "source": [
    "# combines the all 3 pages data\n",
    "brand= a+b+c"
   ]
  },
  {
   "cell_type": "code",
   "execution_count": 18,
   "metadata": {},
   "outputs": [],
   "source": [
    "# combines the all 3 pages data\n",
    "product_description= x+y+z"
   ]
  },
  {
   "cell_type": "code",
   "execution_count": 19,
   "metadata": {},
   "outputs": [],
   "source": [
    "# combines the all 3 pages data\n",
    "price= p+q+r"
   ]
  },
  {
   "cell_type": "code",
   "execution_count": 20,
   "metadata": {},
   "outputs": [
    {
     "name": "stdout",
     "output_type": "stream",
     "text": [
      "100 100 100\n"
     ]
    }
   ],
   "source": [
    "# Finding length\n",
    "print(len(brand), len(product_description), len(price))"
   ]
  },
  {
   "cell_type": "code",
   "execution_count": 21,
   "metadata": {},
   "outputs": [],
   "source": [
    "pd.set_option('display.max_rows', None)"
   ]
  },
  {
   "cell_type": "code",
   "execution_count": 22,
   "metadata": {},
   "outputs": [
    {
     "data": {
      "text/html": [
       "<div>\n",
       "<style scoped>\n",
       "    .dataframe tbody tr th:only-of-type {\n",
       "        vertical-align: middle;\n",
       "    }\n",
       "\n",
       "    .dataframe tbody tr th {\n",
       "        vertical-align: top;\n",
       "    }\n",
       "\n",
       "    .dataframe thead th {\n",
       "        text-align: right;\n",
       "    }\n",
       "</style>\n",
       "<table border=\"1\" class=\"dataframe\">\n",
       "  <thead>\n",
       "    <tr style=\"text-align: right;\">\n",
       "      <th></th>\n",
       "      <th>Brand</th>\n",
       "      <th>Product_Description</th>\n",
       "      <th>Price</th>\n",
       "    </tr>\n",
       "  </thead>\n",
       "  <tbody>\n",
       "    <tr>\n",
       "      <th>0</th>\n",
       "      <td>SRPM</td>\n",
       "      <td>UV Protection Wayfarer Sunglasses (56)</td>\n",
       "      <td>₹188</td>\n",
       "    </tr>\n",
       "    <tr>\n",
       "      <th>1</th>\n",
       "      <td>kingsunglasses</td>\n",
       "      <td>UV Protection Round Sunglasses (54)</td>\n",
       "      <td>₹188</td>\n",
       "    </tr>\n",
       "    <tr>\n",
       "      <th>2</th>\n",
       "      <td>Elligator</td>\n",
       "      <td>UV Protection Round Sunglasses (54)</td>\n",
       "      <td>₹248</td>\n",
       "    </tr>\n",
       "    <tr>\n",
       "      <th>3</th>\n",
       "      <td>Fastrack</td>\n",
       "      <td>UV Protection Wayfarer Sunglasses (Free Size)</td>\n",
       "      <td>₹759</td>\n",
       "    </tr>\n",
       "    <tr>\n",
       "      <th>4</th>\n",
       "      <td>PIRASO</td>\n",
       "      <td>UV Protection Aviator Sunglasses (54)</td>\n",
       "      <td>₹200</td>\n",
       "    </tr>\n",
       "    <tr>\n",
       "      <th>5</th>\n",
       "      <td>SHAAH COLLECTIONS</td>\n",
       "      <td>UV Protection, Polarized, Mirrored Rectangular...</td>\n",
       "      <td>₹165</td>\n",
       "    </tr>\n",
       "    <tr>\n",
       "      <th>6</th>\n",
       "      <td>New Specs</td>\n",
       "      <td>UV Protection Rectangular Sunglasses (Free Size)</td>\n",
       "      <td>₹259</td>\n",
       "    </tr>\n",
       "    <tr>\n",
       "      <th>7</th>\n",
       "      <td>PIRASO</td>\n",
       "      <td>UV Protection Aviator Sunglasses (54)</td>\n",
       "      <td>₹200</td>\n",
       "    </tr>\n",
       "    <tr>\n",
       "      <th>8</th>\n",
       "      <td>ROZZETTA CRAFT</td>\n",
       "      <td>UV Protection Retro Square Sunglasses (Free Size)</td>\n",
       "      <td>₹474</td>\n",
       "    </tr>\n",
       "    <tr>\n",
       "      <th>9</th>\n",
       "      <td>New Specs</td>\n",
       "      <td>Mirrored, UV Protection, Riding Glasses, Other...</td>\n",
       "      <td>₹262</td>\n",
       "    </tr>\n",
       "    <tr>\n",
       "      <th>10</th>\n",
       "      <td>SUNBEE</td>\n",
       "      <td>UV Protection, Polarized, Mirrored Round Sungl...</td>\n",
       "      <td>₹271</td>\n",
       "    </tr>\n",
       "    <tr>\n",
       "      <th>11</th>\n",
       "      <td>ROZZETTA CRAFT</td>\n",
       "      <td>UV Protection, Gradient Rectangular Sunglasses...</td>\n",
       "      <td>₹383</td>\n",
       "    </tr>\n",
       "    <tr>\n",
       "      <th>12</th>\n",
       "      <td>kingsunglasses</td>\n",
       "      <td>Mirrored, UV Protection Wayfarer Sunglasses (53)</td>\n",
       "      <td>₹274</td>\n",
       "    </tr>\n",
       "    <tr>\n",
       "      <th>13</th>\n",
       "      <td>PHENOMENAL</td>\n",
       "      <td>UV Protection Retro Square Sunglasses (Free Size)</td>\n",
       "      <td>₹309</td>\n",
       "    </tr>\n",
       "    <tr>\n",
       "      <th>14</th>\n",
       "      <td>SHAAH COLLECTIONS</td>\n",
       "      <td>UV Protection, Polarized, Mirrored Rectangular...</td>\n",
       "      <td>₹181</td>\n",
       "    </tr>\n",
       "    <tr>\n",
       "      <th>15</th>\n",
       "      <td>PIRASO</td>\n",
       "      <td>UV Protection Wayfarer Sunglasses (32)</td>\n",
       "      <td>₹190</td>\n",
       "    </tr>\n",
       "    <tr>\n",
       "      <th>16</th>\n",
       "      <td>ROYAL SON</td>\n",
       "      <td>Mirrored Aviator Sunglasses (55)</td>\n",
       "      <td>₹359</td>\n",
       "    </tr>\n",
       "    <tr>\n",
       "      <th>17</th>\n",
       "      <td>ROZZETTA CRAFT</td>\n",
       "      <td>UV Protection, Gradient Rectangular Sunglasses...</td>\n",
       "      <td>₹348</td>\n",
       "    </tr>\n",
       "    <tr>\n",
       "      <th>18</th>\n",
       "      <td>Johaena</td>\n",
       "      <td>Riding Glasses, UV Protection Oval Sunglasses ...</td>\n",
       "      <td>₹156</td>\n",
       "    </tr>\n",
       "    <tr>\n",
       "      <th>19</th>\n",
       "      <td>kingsunglasses</td>\n",
       "      <td>UV Protection, Riding Glasses, Mirrored Wayfar...</td>\n",
       "      <td>₹187</td>\n",
       "    </tr>\n",
       "    <tr>\n",
       "      <th>20</th>\n",
       "      <td>PHENOMENAL</td>\n",
       "      <td>UV Protection, Mirrored Retro Square Sunglasse...</td>\n",
       "      <td>₹299</td>\n",
       "    </tr>\n",
       "    <tr>\n",
       "      <th>21</th>\n",
       "      <td>Rich Club</td>\n",
       "      <td>UV Protection Round Sunglasses (50)</td>\n",
       "      <td>₹355</td>\n",
       "    </tr>\n",
       "    <tr>\n",
       "      <th>22</th>\n",
       "      <td>SUNBEE</td>\n",
       "      <td>UV Protection, Polarized Wayfarer Sunglasses (...</td>\n",
       "      <td>₹243</td>\n",
       "    </tr>\n",
       "    <tr>\n",
       "      <th>23</th>\n",
       "      <td>ROYAL SON</td>\n",
       "      <td>UV Protection Rectangular Sunglasses (58)</td>\n",
       "      <td>₹449</td>\n",
       "    </tr>\n",
       "    <tr>\n",
       "      <th>24</th>\n",
       "      <td>Lee Topper</td>\n",
       "      <td>Riding Glasses, Night Vision Wrap-around Sungl...</td>\n",
       "      <td>₹276</td>\n",
       "    </tr>\n",
       "    <tr>\n",
       "      <th>25</th>\n",
       "      <td>Elligator</td>\n",
       "      <td>UV Protection Round Sunglasses (53)</td>\n",
       "      <td>₹179</td>\n",
       "    </tr>\n",
       "    <tr>\n",
       "      <th>26</th>\n",
       "      <td>PIRASO</td>\n",
       "      <td>UV Protection Aviator Sunglasses (58)</td>\n",
       "      <td>₹299</td>\n",
       "    </tr>\n",
       "    <tr>\n",
       "      <th>27</th>\n",
       "      <td>kingsunglasses</td>\n",
       "      <td>UV Protection, Night Vision Wayfarer Sunglasse...</td>\n",
       "      <td>₹273</td>\n",
       "    </tr>\n",
       "    <tr>\n",
       "      <th>28</th>\n",
       "      <td>ROZZETTA CRAFT</td>\n",
       "      <td>UV Protection, Gradient Retro Square Sunglasse...</td>\n",
       "      <td>₹349</td>\n",
       "    </tr>\n",
       "    <tr>\n",
       "      <th>29</th>\n",
       "      <td>Fastrack</td>\n",
       "      <td>UV Protection Shield Sunglasses (Free Size)</td>\n",
       "      <td>₹789</td>\n",
       "    </tr>\n",
       "    <tr>\n",
       "      <th>30</th>\n",
       "      <td>agera</td>\n",
       "      <td>Gradient Aviator Sunglasses (55)</td>\n",
       "      <td>₹196</td>\n",
       "    </tr>\n",
       "    <tr>\n",
       "      <th>31</th>\n",
       "      <td>Fastrack</td>\n",
       "      <td>UV Protection Aviator Sunglasses (58)</td>\n",
       "      <td>₹1,089</td>\n",
       "    </tr>\n",
       "    <tr>\n",
       "      <th>32</th>\n",
       "      <td>Singco India</td>\n",
       "      <td>Riding Glasses, UV Protection, Others Aviator ...</td>\n",
       "      <td>₹201</td>\n",
       "    </tr>\n",
       "    <tr>\n",
       "      <th>33</th>\n",
       "      <td>Rich Club</td>\n",
       "      <td>Polarized Round Sunglasses (48)</td>\n",
       "      <td>₹165</td>\n",
       "    </tr>\n",
       "    <tr>\n",
       "      <th>34</th>\n",
       "      <td>PIRASO</td>\n",
       "      <td>UV Protection Aviator Sunglasses (54)</td>\n",
       "      <td>₹200</td>\n",
       "    </tr>\n",
       "    <tr>\n",
       "      <th>35</th>\n",
       "      <td>kingsunglasses</td>\n",
       "      <td>UV Protection Round Sunglasses (Free Size)</td>\n",
       "      <td>₹289</td>\n",
       "    </tr>\n",
       "    <tr>\n",
       "      <th>36</th>\n",
       "      <td>hipe</td>\n",
       "      <td>Mirrored, Gradient, UV Protection Aviator Sung...</td>\n",
       "      <td>₹178</td>\n",
       "    </tr>\n",
       "    <tr>\n",
       "      <th>37</th>\n",
       "      <td>PHENOMENAL</td>\n",
       "      <td>UV Protection, Mirrored Retro Square Sunglasse...</td>\n",
       "      <td>₹299</td>\n",
       "    </tr>\n",
       "    <tr>\n",
       "      <th>38</th>\n",
       "      <td>PIRASO</td>\n",
       "      <td>UV Protection Butterfly Sunglasses (65)</td>\n",
       "      <td>₹349</td>\n",
       "    </tr>\n",
       "    <tr>\n",
       "      <th>39</th>\n",
       "      <td>DEIXELS</td>\n",
       "      <td>UV Protection Aviator, Wayfarer Sunglasses (Fr...</td>\n",
       "      <td>₹202</td>\n",
       "    </tr>\n",
       "    <tr>\n",
       "      <th>40</th>\n",
       "      <td>PIRASO</td>\n",
       "      <td>UV Protection Aviator Sunglasses (54)</td>\n",
       "      <td>₹200</td>\n",
       "    </tr>\n",
       "    <tr>\n",
       "      <th>41</th>\n",
       "      <td>kingsunglasses</td>\n",
       "      <td>UV Protection Round Sunglasses (Free Size)</td>\n",
       "      <td>₹289</td>\n",
       "    </tr>\n",
       "    <tr>\n",
       "      <th>42</th>\n",
       "      <td>Fastrack</td>\n",
       "      <td>UV Protection Wayfarer Sunglasses (55)</td>\n",
       "      <td>₹549</td>\n",
       "    </tr>\n",
       "    <tr>\n",
       "      <th>43</th>\n",
       "      <td>hipe</td>\n",
       "      <td>UV Protection, Gradient, Mirrored, Riding Glas...</td>\n",
       "      <td>₹209</td>\n",
       "    </tr>\n",
       "    <tr>\n",
       "      <th>44</th>\n",
       "      <td>ROZZETTA CRAFT</td>\n",
       "      <td>UV Protection, Gradient Round Sunglasses (Free...</td>\n",
       "      <td>₹360</td>\n",
       "    </tr>\n",
       "    <tr>\n",
       "      <th>45</th>\n",
       "      <td>New Specs</td>\n",
       "      <td>UV Protection Rectangular Sunglasses (Free Size)</td>\n",
       "      <td>₹169</td>\n",
       "    </tr>\n",
       "    <tr>\n",
       "      <th>46</th>\n",
       "      <td>GANSTA</td>\n",
       "      <td>UV Protection, Riding Glasses Wayfarer Sunglas...</td>\n",
       "      <td>₹209</td>\n",
       "    </tr>\n",
       "    <tr>\n",
       "      <th>47</th>\n",
       "      <td>ROYAL SON</td>\n",
       "      <td>Mirrored Aviator Sunglasses (55)</td>\n",
       "      <td>₹359</td>\n",
       "    </tr>\n",
       "    <tr>\n",
       "      <th>48</th>\n",
       "      <td>kingsunglasses</td>\n",
       "      <td>UV Protection Rectangular Sunglasses (Free Size)</td>\n",
       "      <td>₹192</td>\n",
       "    </tr>\n",
       "    <tr>\n",
       "      <th>49</th>\n",
       "      <td>hipe</td>\n",
       "      <td>UV Protection Sports Sunglasses (Free Size)</td>\n",
       "      <td>₹287</td>\n",
       "    </tr>\n",
       "    <tr>\n",
       "      <th>50</th>\n",
       "      <td>Elligator</td>\n",
       "      <td>UV Protection Retro Square, Round Sunglasses (54)</td>\n",
       "      <td>₹291</td>\n",
       "    </tr>\n",
       "    <tr>\n",
       "      <th>51</th>\n",
       "      <td>Elligator</td>\n",
       "      <td>UV Protection Round Sunglasses (54)</td>\n",
       "      <td>₹265</td>\n",
       "    </tr>\n",
       "    <tr>\n",
       "      <th>52</th>\n",
       "      <td>SUNBEE</td>\n",
       "      <td>UV Protection, Polarized, Mirrored Wayfarer Su...</td>\n",
       "      <td>₹276</td>\n",
       "    </tr>\n",
       "    <tr>\n",
       "      <th>53</th>\n",
       "      <td>New Specs</td>\n",
       "      <td>UV Protection Round Sunglasses (Free Size)</td>\n",
       "      <td>₹233</td>\n",
       "    </tr>\n",
       "    <tr>\n",
       "      <th>54</th>\n",
       "      <td>Silver Kartz</td>\n",
       "      <td>UV Protection Wayfarer Sunglasses (Free Size)</td>\n",
       "      <td>₹246</td>\n",
       "    </tr>\n",
       "    <tr>\n",
       "      <th>55</th>\n",
       "      <td>ROZZETTA CRAFT</td>\n",
       "      <td>Mirrored, UV Protection Round Sunglasses (Free...</td>\n",
       "      <td>₹360</td>\n",
       "    </tr>\n",
       "    <tr>\n",
       "      <th>56</th>\n",
       "      <td>maxa</td>\n",
       "      <td>UV Protection, Riding Glasses Rectangular, Way...</td>\n",
       "      <td>₹144</td>\n",
       "    </tr>\n",
       "    <tr>\n",
       "      <th>57</th>\n",
       "      <td>Lee Topper</td>\n",
       "      <td>UV Protection, Riding Glasses Retro Square, Sp...</td>\n",
       "      <td>₹375</td>\n",
       "    </tr>\n",
       "    <tr>\n",
       "      <th>58</th>\n",
       "      <td>Elligator</td>\n",
       "      <td>UV Protection Round Sunglasses (55)</td>\n",
       "      <td>₹239</td>\n",
       "    </tr>\n",
       "    <tr>\n",
       "      <th>59</th>\n",
       "      <td>ROYAL SON</td>\n",
       "      <td>Mirrored Aviator Sunglasses (Free Size)</td>\n",
       "      <td>₹359</td>\n",
       "    </tr>\n",
       "    <tr>\n",
       "      <th>60</th>\n",
       "      <td>ROZZETTA CRAFT</td>\n",
       "      <td>UV Protection Round Sunglasses (Free Size)</td>\n",
       "      <td>₹426</td>\n",
       "    </tr>\n",
       "    <tr>\n",
       "      <th>61</th>\n",
       "      <td>PHENOMENAL</td>\n",
       "      <td>UV Protection, Mirrored Clubmaster Sunglasses ...</td>\n",
       "      <td>₹287</td>\n",
       "    </tr>\n",
       "    <tr>\n",
       "      <th>62</th>\n",
       "      <td>Fastrack</td>\n",
       "      <td>Gradient, UV Protection Wayfarer Sunglasses (F...</td>\n",
       "      <td>₹659</td>\n",
       "    </tr>\n",
       "    <tr>\n",
       "      <th>63</th>\n",
       "      <td>Fastrack</td>\n",
       "      <td>UV Protection Wayfarer Sunglasses (Free Size)</td>\n",
       "      <td>₹759</td>\n",
       "    </tr>\n",
       "    <tr>\n",
       "      <th>64</th>\n",
       "      <td>kingsunglasses</td>\n",
       "      <td>Mirrored, UV Protection Wayfarer Sunglasses (F...</td>\n",
       "      <td>₹258</td>\n",
       "    </tr>\n",
       "    <tr>\n",
       "      <th>65</th>\n",
       "      <td>Fastrack</td>\n",
       "      <td>UV Protection Round Sunglasses (55)</td>\n",
       "      <td>₹899</td>\n",
       "    </tr>\n",
       "    <tr>\n",
       "      <th>66</th>\n",
       "      <td>Rich Club</td>\n",
       "      <td>Polarized Round Sunglasses (48)</td>\n",
       "      <td>₹163</td>\n",
       "    </tr>\n",
       "    <tr>\n",
       "      <th>67</th>\n",
       "      <td>ROYAL SON</td>\n",
       "      <td>Mirrored Aviator Sunglasses (58)</td>\n",
       "      <td>₹359</td>\n",
       "    </tr>\n",
       "    <tr>\n",
       "      <th>68</th>\n",
       "      <td>ROYAL SON</td>\n",
       "      <td>UV Protection Retro Square Sunglasses (58)</td>\n",
       "      <td>₹449</td>\n",
       "    </tr>\n",
       "    <tr>\n",
       "      <th>69</th>\n",
       "      <td>PIRASO</td>\n",
       "      <td>UV Protection Aviator Sunglasses (Free Size)</td>\n",
       "      <td>₹261</td>\n",
       "    </tr>\n",
       "    <tr>\n",
       "      <th>70</th>\n",
       "      <td>ROZZETTA CRAFT</td>\n",
       "      <td>UV Protection, Gradient Round Sunglasses (Free...</td>\n",
       "      <td>₹426</td>\n",
       "    </tr>\n",
       "    <tr>\n",
       "      <th>71</th>\n",
       "      <td>Singco India</td>\n",
       "      <td>UV Protection, Riding Glasses, Others Aviator,...</td>\n",
       "      <td>₹203</td>\n",
       "    </tr>\n",
       "    <tr>\n",
       "      <th>72</th>\n",
       "      <td>Lee Topper</td>\n",
       "      <td>UV Protection Round Sunglasses (Free Size)</td>\n",
       "      <td>₹244</td>\n",
       "    </tr>\n",
       "    <tr>\n",
       "      <th>73</th>\n",
       "      <td>SHAAH COLLECTIONS</td>\n",
       "      <td>UV Protection Round Sunglasses (Free Size)</td>\n",
       "      <td>₹270</td>\n",
       "    </tr>\n",
       "    <tr>\n",
       "      <th>74</th>\n",
       "      <td>Singco India</td>\n",
       "      <td>Gradient, Toughened Glass Lens, UV Protection ...</td>\n",
       "      <td>₹599</td>\n",
       "    </tr>\n",
       "    <tr>\n",
       "      <th>75</th>\n",
       "      <td>Silver Kartz</td>\n",
       "      <td>UV Protection Oval Sunglasses (56)</td>\n",
       "      <td>₹284</td>\n",
       "    </tr>\n",
       "    <tr>\n",
       "      <th>76</th>\n",
       "      <td>kingsunglasses</td>\n",
       "      <td>UV Protection, Mirrored Aviator Sunglasses (Fr...</td>\n",
       "      <td>₹235</td>\n",
       "    </tr>\n",
       "    <tr>\n",
       "      <th>77</th>\n",
       "      <td>Rich Club</td>\n",
       "      <td>UV Protection, Others Round Sunglasses (48)</td>\n",
       "      <td>₹216</td>\n",
       "    </tr>\n",
       "    <tr>\n",
       "      <th>78</th>\n",
       "      <td>Rich Club</td>\n",
       "      <td>UV Protection Round Sunglasses (48)</td>\n",
       "      <td>₹250</td>\n",
       "    </tr>\n",
       "    <tr>\n",
       "      <th>79</th>\n",
       "      <td>Elligator</td>\n",
       "      <td>UV Protection Round, Oval Sunglasses (54)</td>\n",
       "      <td>₹266</td>\n",
       "    </tr>\n",
       "    <tr>\n",
       "      <th>80</th>\n",
       "      <td>kingsunglasses</td>\n",
       "      <td>Mirrored, UV Protection Aviator Sunglasses (56)</td>\n",
       "      <td>₹211</td>\n",
       "    </tr>\n",
       "    <tr>\n",
       "      <th>81</th>\n",
       "      <td>SRPM</td>\n",
       "      <td>UV Protection Wayfarer Sunglasses (53)</td>\n",
       "      <td>₹207</td>\n",
       "    </tr>\n",
       "    <tr>\n",
       "      <th>82</th>\n",
       "      <td>Poloport</td>\n",
       "      <td>UV Protection Wayfarer Sunglasses (Free Size)</td>\n",
       "      <td>₹236</td>\n",
       "    </tr>\n",
       "    <tr>\n",
       "      <th>83</th>\n",
       "      <td>Fravy</td>\n",
       "      <td>UV Protection, Gradient, Night Vision Retro Sq...</td>\n",
       "      <td>₹245</td>\n",
       "    </tr>\n",
       "    <tr>\n",
       "      <th>84</th>\n",
       "      <td>ROZZETTA CRAFT</td>\n",
       "      <td>UV Protection Rectangular Sunglasses (Free Size)</td>\n",
       "      <td>₹319</td>\n",
       "    </tr>\n",
       "    <tr>\n",
       "      <th>85</th>\n",
       "      <td>AISLIN</td>\n",
       "      <td>UV Protection, Gradient Butterfly, Retro Squar...</td>\n",
       "      <td>₹459</td>\n",
       "    </tr>\n",
       "    <tr>\n",
       "      <th>86</th>\n",
       "      <td>hipe</td>\n",
       "      <td>Mirrored, Gradient, Riding Glasses Round Sungl...</td>\n",
       "      <td>₹189</td>\n",
       "    </tr>\n",
       "    <tr>\n",
       "      <th>87</th>\n",
       "      <td>kingsunglasses</td>\n",
       "      <td>UV Protection, Mirrored Round Sunglasses (54)</td>\n",
       "      <td>₹211</td>\n",
       "    </tr>\n",
       "    <tr>\n",
       "      <th>88</th>\n",
       "      <td>Fastrack</td>\n",
       "      <td>UV Protection Wayfarer Sunglasses (Free Size)</td>\n",
       "      <td>₹789</td>\n",
       "    </tr>\n",
       "    <tr>\n",
       "      <th>89</th>\n",
       "      <td>SUNBEE</td>\n",
       "      <td>UV Protection, Polarized, Mirrored Wayfarer Su...</td>\n",
       "      <td>₹258</td>\n",
       "    </tr>\n",
       "    <tr>\n",
       "      <th>90</th>\n",
       "      <td>kingsunglasses</td>\n",
       "      <td>UV Protection, Others Round, Aviator Sunglasse...</td>\n",
       "      <td>₹189</td>\n",
       "    </tr>\n",
       "    <tr>\n",
       "      <th>91</th>\n",
       "      <td>Flizz</td>\n",
       "      <td>UV Protection, Polarized Rectangular Sunglasse...</td>\n",
       "      <td>₹244</td>\n",
       "    </tr>\n",
       "    <tr>\n",
       "      <th>92</th>\n",
       "      <td>PHENOMENAL</td>\n",
       "      <td>UV Protection Clubmaster Sunglasses (Free Size)</td>\n",
       "      <td>₹287</td>\n",
       "    </tr>\n",
       "    <tr>\n",
       "      <th>93</th>\n",
       "      <td>hipe</td>\n",
       "      <td>UV Protection, Gradient, Mirrored, Riding Glas...</td>\n",
       "      <td>₹189</td>\n",
       "    </tr>\n",
       "    <tr>\n",
       "      <th>94</th>\n",
       "      <td>Rich Club</td>\n",
       "      <td>UV Protection Round Sunglasses (50)</td>\n",
       "      <td>₹355</td>\n",
       "    </tr>\n",
       "    <tr>\n",
       "      <th>95</th>\n",
       "      <td>povty</td>\n",
       "      <td>UV Protection Retro Square Sunglasses (Free Size)</td>\n",
       "      <td>₹319</td>\n",
       "    </tr>\n",
       "    <tr>\n",
       "      <th>96</th>\n",
       "      <td>kingsunglasses</td>\n",
       "      <td>UV Protection Rectangular Sunglasses (55)</td>\n",
       "      <td>₹169</td>\n",
       "    </tr>\n",
       "    <tr>\n",
       "      <th>97</th>\n",
       "      <td>PIRASO</td>\n",
       "      <td>UV Protection Aviator Sunglasses (54)</td>\n",
       "      <td>₹200</td>\n",
       "    </tr>\n",
       "    <tr>\n",
       "      <th>98</th>\n",
       "      <td>DEIXELS</td>\n",
       "      <td>Polarized, UV Protection, Riding Glasses Wayfa...</td>\n",
       "      <td>₹236</td>\n",
       "    </tr>\n",
       "    <tr>\n",
       "      <th>99</th>\n",
       "      <td>Fastrack</td>\n",
       "      <td>UV Protection Wayfarer Sunglasses (54)</td>\n",
       "      <td>₹689</td>\n",
       "    </tr>\n",
       "  </tbody>\n",
       "</table>\n",
       "</div>"
      ],
      "text/plain": [
       "                Brand                                Product_Description  \\\n",
       "0                SRPM             UV Protection Wayfarer Sunglasses (56)   \n",
       "1      kingsunglasses                UV Protection Round Sunglasses (54)   \n",
       "2           Elligator                UV Protection Round Sunglasses (54)   \n",
       "3            Fastrack      UV Protection Wayfarer Sunglasses (Free Size)   \n",
       "4              PIRASO              UV Protection Aviator Sunglasses (54)   \n",
       "5   SHAAH COLLECTIONS  UV Protection, Polarized, Mirrored Rectangular...   \n",
       "6           New Specs   UV Protection Rectangular Sunglasses (Free Size)   \n",
       "7              PIRASO              UV Protection Aviator Sunglasses (54)   \n",
       "8      ROZZETTA CRAFT  UV Protection Retro Square Sunglasses (Free Size)   \n",
       "9           New Specs  Mirrored, UV Protection, Riding Glasses, Other...   \n",
       "10             SUNBEE  UV Protection, Polarized, Mirrored Round Sungl...   \n",
       "11     ROZZETTA CRAFT  UV Protection, Gradient Rectangular Sunglasses...   \n",
       "12     kingsunglasses   Mirrored, UV Protection Wayfarer Sunglasses (53)   \n",
       "13         PHENOMENAL  UV Protection Retro Square Sunglasses (Free Size)   \n",
       "14  SHAAH COLLECTIONS  UV Protection, Polarized, Mirrored Rectangular...   \n",
       "15             PIRASO             UV Protection Wayfarer Sunglasses (32)   \n",
       "16          ROYAL SON                   Mirrored Aviator Sunglasses (55)   \n",
       "17     ROZZETTA CRAFT  UV Protection, Gradient Rectangular Sunglasses...   \n",
       "18            Johaena  Riding Glasses, UV Protection Oval Sunglasses ...   \n",
       "19     kingsunglasses  UV Protection, Riding Glasses, Mirrored Wayfar...   \n",
       "20         PHENOMENAL  UV Protection, Mirrored Retro Square Sunglasse...   \n",
       "21          Rich Club                UV Protection Round Sunglasses (50)   \n",
       "22             SUNBEE  UV Protection, Polarized Wayfarer Sunglasses (...   \n",
       "23          ROYAL SON          UV Protection Rectangular Sunglasses (58)   \n",
       "24         Lee Topper  Riding Glasses, Night Vision Wrap-around Sungl...   \n",
       "25          Elligator                UV Protection Round Sunglasses (53)   \n",
       "26             PIRASO              UV Protection Aviator Sunglasses (58)   \n",
       "27     kingsunglasses  UV Protection, Night Vision Wayfarer Sunglasse...   \n",
       "28     ROZZETTA CRAFT  UV Protection, Gradient Retro Square Sunglasse...   \n",
       "29           Fastrack        UV Protection Shield Sunglasses (Free Size)   \n",
       "30              agera                   Gradient Aviator Sunglasses (55)   \n",
       "31           Fastrack              UV Protection Aviator Sunglasses (58)   \n",
       "32       Singco India  Riding Glasses, UV Protection, Others Aviator ...   \n",
       "33          Rich Club                    Polarized Round Sunglasses (48)   \n",
       "34             PIRASO              UV Protection Aviator Sunglasses (54)   \n",
       "35     kingsunglasses         UV Protection Round Sunglasses (Free Size)   \n",
       "36               hipe  Mirrored, Gradient, UV Protection Aviator Sung...   \n",
       "37         PHENOMENAL  UV Protection, Mirrored Retro Square Sunglasse...   \n",
       "38             PIRASO            UV Protection Butterfly Sunglasses (65)   \n",
       "39            DEIXELS  UV Protection Aviator, Wayfarer Sunglasses (Fr...   \n",
       "40             PIRASO              UV Protection Aviator Sunglasses (54)   \n",
       "41     kingsunglasses         UV Protection Round Sunglasses (Free Size)   \n",
       "42           Fastrack             UV Protection Wayfarer Sunglasses (55)   \n",
       "43               hipe  UV Protection, Gradient, Mirrored, Riding Glas...   \n",
       "44     ROZZETTA CRAFT  UV Protection, Gradient Round Sunglasses (Free...   \n",
       "45          New Specs   UV Protection Rectangular Sunglasses (Free Size)   \n",
       "46             GANSTA  UV Protection, Riding Glasses Wayfarer Sunglas...   \n",
       "47          ROYAL SON                   Mirrored Aviator Sunglasses (55)   \n",
       "48     kingsunglasses   UV Protection Rectangular Sunglasses (Free Size)   \n",
       "49               hipe        UV Protection Sports Sunglasses (Free Size)   \n",
       "50          Elligator  UV Protection Retro Square, Round Sunglasses (54)   \n",
       "51          Elligator                UV Protection Round Sunglasses (54)   \n",
       "52             SUNBEE  UV Protection, Polarized, Mirrored Wayfarer Su...   \n",
       "53          New Specs         UV Protection Round Sunglasses (Free Size)   \n",
       "54       Silver Kartz      UV Protection Wayfarer Sunglasses (Free Size)   \n",
       "55     ROZZETTA CRAFT  Mirrored, UV Protection Round Sunglasses (Free...   \n",
       "56               maxa  UV Protection, Riding Glasses Rectangular, Way...   \n",
       "57         Lee Topper  UV Protection, Riding Glasses Retro Square, Sp...   \n",
       "58          Elligator                UV Protection Round Sunglasses (55)   \n",
       "59          ROYAL SON            Mirrored Aviator Sunglasses (Free Size)   \n",
       "60     ROZZETTA CRAFT         UV Protection Round Sunglasses (Free Size)   \n",
       "61         PHENOMENAL  UV Protection, Mirrored Clubmaster Sunglasses ...   \n",
       "62           Fastrack  Gradient, UV Protection Wayfarer Sunglasses (F...   \n",
       "63           Fastrack      UV Protection Wayfarer Sunglasses (Free Size)   \n",
       "64     kingsunglasses  Mirrored, UV Protection Wayfarer Sunglasses (F...   \n",
       "65           Fastrack                UV Protection Round Sunglasses (55)   \n",
       "66          Rich Club                    Polarized Round Sunglasses (48)   \n",
       "67          ROYAL SON                   Mirrored Aviator Sunglasses (58)   \n",
       "68          ROYAL SON         UV Protection Retro Square Sunglasses (58)   \n",
       "69             PIRASO       UV Protection Aviator Sunglasses (Free Size)   \n",
       "70     ROZZETTA CRAFT  UV Protection, Gradient Round Sunglasses (Free...   \n",
       "71       Singco India  UV Protection, Riding Glasses, Others Aviator,...   \n",
       "72         Lee Topper         UV Protection Round Sunglasses (Free Size)   \n",
       "73  SHAAH COLLECTIONS         UV Protection Round Sunglasses (Free Size)   \n",
       "74       Singco India  Gradient, Toughened Glass Lens, UV Protection ...   \n",
       "75       Silver Kartz                 UV Protection Oval Sunglasses (56)   \n",
       "76     kingsunglasses  UV Protection, Mirrored Aviator Sunglasses (Fr...   \n",
       "77          Rich Club        UV Protection, Others Round Sunglasses (48)   \n",
       "78          Rich Club                UV Protection Round Sunglasses (48)   \n",
       "79          Elligator          UV Protection Round, Oval Sunglasses (54)   \n",
       "80     kingsunglasses    Mirrored, UV Protection Aviator Sunglasses (56)   \n",
       "81               SRPM             UV Protection Wayfarer Sunglasses (53)   \n",
       "82           Poloport      UV Protection Wayfarer Sunglasses (Free Size)   \n",
       "83              Fravy  UV Protection, Gradient, Night Vision Retro Sq...   \n",
       "84     ROZZETTA CRAFT   UV Protection Rectangular Sunglasses (Free Size)   \n",
       "85             AISLIN  UV Protection, Gradient Butterfly, Retro Squar...   \n",
       "86               hipe  Mirrored, Gradient, Riding Glasses Round Sungl...   \n",
       "87     kingsunglasses      UV Protection, Mirrored Round Sunglasses (54)   \n",
       "88           Fastrack      UV Protection Wayfarer Sunglasses (Free Size)   \n",
       "89             SUNBEE  UV Protection, Polarized, Mirrored Wayfarer Su...   \n",
       "90     kingsunglasses  UV Protection, Others Round, Aviator Sunglasse...   \n",
       "91              Flizz  UV Protection, Polarized Rectangular Sunglasse...   \n",
       "92         PHENOMENAL    UV Protection Clubmaster Sunglasses (Free Size)   \n",
       "93               hipe  UV Protection, Gradient, Mirrored, Riding Glas...   \n",
       "94          Rich Club                UV Protection Round Sunglasses (50)   \n",
       "95              povty  UV Protection Retro Square Sunglasses (Free Size)   \n",
       "96     kingsunglasses          UV Protection Rectangular Sunglasses (55)   \n",
       "97             PIRASO              UV Protection Aviator Sunglasses (54)   \n",
       "98            DEIXELS  Polarized, UV Protection, Riding Glasses Wayfa...   \n",
       "99           Fastrack             UV Protection Wayfarer Sunglasses (54)   \n",
       "\n",
       "     Price  \n",
       "0     ₹188  \n",
       "1     ₹188  \n",
       "2     ₹248  \n",
       "3     ₹759  \n",
       "4     ₹200  \n",
       "5     ₹165  \n",
       "6     ₹259  \n",
       "7     ₹200  \n",
       "8     ₹474  \n",
       "9     ₹262  \n",
       "10    ₹271  \n",
       "11    ₹383  \n",
       "12    ₹274  \n",
       "13    ₹309  \n",
       "14    ₹181  \n",
       "15    ₹190  \n",
       "16    ₹359  \n",
       "17    ₹348  \n",
       "18    ₹156  \n",
       "19    ₹187  \n",
       "20    ₹299  \n",
       "21    ₹355  \n",
       "22    ₹243  \n",
       "23    ₹449  \n",
       "24    ₹276  \n",
       "25    ₹179  \n",
       "26    ₹299  \n",
       "27    ₹273  \n",
       "28    ₹349  \n",
       "29    ₹789  \n",
       "30    ₹196  \n",
       "31  ₹1,089  \n",
       "32    ₹201  \n",
       "33    ₹165  \n",
       "34    ₹200  \n",
       "35    ₹289  \n",
       "36    ₹178  \n",
       "37    ₹299  \n",
       "38    ₹349  \n",
       "39    ₹202  \n",
       "40    ₹200  \n",
       "41    ₹289  \n",
       "42    ₹549  \n",
       "43    ₹209  \n",
       "44    ₹360  \n",
       "45    ₹169  \n",
       "46    ₹209  \n",
       "47    ₹359  \n",
       "48    ₹192  \n",
       "49    ₹287  \n",
       "50    ₹291  \n",
       "51    ₹265  \n",
       "52    ₹276  \n",
       "53    ₹233  \n",
       "54    ₹246  \n",
       "55    ₹360  \n",
       "56    ₹144  \n",
       "57    ₹375  \n",
       "58    ₹239  \n",
       "59    ₹359  \n",
       "60    ₹426  \n",
       "61    ₹287  \n",
       "62    ₹659  \n",
       "63    ₹759  \n",
       "64    ₹258  \n",
       "65    ₹899  \n",
       "66    ₹163  \n",
       "67    ₹359  \n",
       "68    ₹449  \n",
       "69    ₹261  \n",
       "70    ₹426  \n",
       "71    ₹203  \n",
       "72    ₹244  \n",
       "73    ₹270  \n",
       "74    ₹599  \n",
       "75    ₹284  \n",
       "76    ₹235  \n",
       "77    ₹216  \n",
       "78    ₹250  \n",
       "79    ₹266  \n",
       "80    ₹211  \n",
       "81    ₹207  \n",
       "82    ₹236  \n",
       "83    ₹245  \n",
       "84    ₹319  \n",
       "85    ₹459  \n",
       "86    ₹189  \n",
       "87    ₹211  \n",
       "88    ₹789  \n",
       "89    ₹258  \n",
       "90    ₹189  \n",
       "91    ₹244  \n",
       "92    ₹287  \n",
       "93    ₹189  \n",
       "94    ₹355  \n",
       "95    ₹319  \n",
       "96    ₹169  \n",
       "97    ₹200  \n",
       "98    ₹236  \n",
       "99    ₹689  "
      ]
     },
     "execution_count": 22,
     "metadata": {},
     "output_type": "execute_result"
    }
   ],
   "source": [
    "#Making DataFrame\n",
    "sunglasses= pd.DataFrame({'Brand': brand, 'Product_Description':product_description, 'Price':price})\n",
    "sunglasses"
   ]
  },
  {
   "cell_type": "markdown",
   "metadata": {},
   "source": [
    "# 5 iphone 11 "
   ]
  },
  {
   "cell_type": "code",
   "execution_count": 67,
   "metadata": {},
   "outputs": [],
   "source": [
    "import time"
   ]
  },
  {
   "cell_type": "code",
   "execution_count": 83,
   "metadata": {},
   "outputs": [
    {
     "data": {
      "text/plain": [
       "<selenium.webdriver.chrome.webdriver.WebDriver (session=\"bb866702fb4c041ecde6e536720d68f0\")>"
      ]
     },
     "execution_count": 83,
     "metadata": {},
     "output_type": "execute_result"
    }
   ],
   "source": [
    "#importing chromedriver\n",
    "driver= webdriver.Chrome(\"D:\\Inernship\\chromedriver.exe\")\n",
    "driver"
   ]
  },
  {
   "cell_type": "code",
   "execution_count": 84,
   "metadata": {},
   "outputs": [],
   "source": [
    "#getting Url\n",
    "url= 'https://www.flipkart.com/apple-iphone-11-black-64-gb-includes- earpods-power-adapter/p/itm0f37c2240b217?pid=MOBFKCTSVZAXUHGR&lid=LSTMOBFKCTSVZAXUHGREPBFGI&marketplace.'\n",
    "driver.get(url)"
   ]
  },
  {
   "cell_type": "code",
   "execution_count": 87,
   "metadata": {},
   "outputs": [
    {
     "data": {
      "text/plain": [
       "<selenium.webdriver.remote.webelement.WebElement (session=\"bb866702fb4c041ecde6e536720d68f0\", element=\"da46e3b4-5a7b-48b1-85a3-e071b96ab640\")>"
      ]
     },
     "execution_count": 87,
     "metadata": {},
     "output_type": "execute_result"
    }
   ],
   "source": [
    "nxt_btn= driver.find_element_by_xpath('/html/body/div[1]/div/div[3]/div[1]/div[2]/div[7]/div/div/div[5]/div/a/div')\n",
    "nxt_btn"
   ]
  },
  {
   "cell_type": "code",
   "execution_count": 88,
   "metadata": {},
   "outputs": [],
   "source": [
    "#click on next button\n",
    "nxt_btn.click()"
   ]
  },
  {
   "cell_type": "code",
   "execution_count": 89,
   "metadata": {},
   "outputs": [
    {
     "data": {
      "text/html": [
       "<div>\n",
       "<style scoped>\n",
       "    .dataframe tbody tr th:only-of-type {\n",
       "        vertical-align: middle;\n",
       "    }\n",
       "\n",
       "    .dataframe tbody tr th {\n",
       "        vertical-align: top;\n",
       "    }\n",
       "\n",
       "    .dataframe thead th {\n",
       "        text-align: right;\n",
       "    }\n",
       "</style>\n",
       "<table border=\"1\" class=\"dataframe\">\n",
       "  <thead>\n",
       "    <tr style=\"text-align: right;\">\n",
       "      <th></th>\n",
       "      <th>Rating</th>\n",
       "      <th>Review_Summary</th>\n",
       "      <th>Full_Review</th>\n",
       "    </tr>\n",
       "  </thead>\n",
       "  <tbody>\n",
       "    <tr>\n",
       "      <th>0</th>\n",
       "      <td>5</td>\n",
       "      <td>Highly recommended</td>\n",
       "      <td>iphone 11 is a very good phone to buy only if ...</td>\n",
       "    </tr>\n",
       "    <tr>\n",
       "      <th>1</th>\n",
       "      <td>5</td>\n",
       "      <td>Perfect product!</td>\n",
       "      <td>It’s a must buy who is looking for an upgrade ...</td>\n",
       "    </tr>\n",
       "    <tr>\n",
       "      <th>2</th>\n",
       "      <td>5</td>\n",
       "      <td>Perfect product!</td>\n",
       "      <td>Value for money❤️❤️\\nIts awesome mobile phone ...</td>\n",
       "    </tr>\n",
       "    <tr>\n",
       "      <th>3</th>\n",
       "      <td>5</td>\n",
       "      <td>Classy product</td>\n",
       "      <td>Totally in love with this ❤ the camera quality...</td>\n",
       "    </tr>\n",
       "    <tr>\n",
       "      <th>4</th>\n",
       "      <td>5</td>\n",
       "      <td>Perfect product!</td>\n",
       "      <td>Iphone is just awesome.. battery backup is ver...</td>\n",
       "    </tr>\n",
       "    <tr>\n",
       "      <th>5</th>\n",
       "      <td>5</td>\n",
       "      <td>Highly recommended</td>\n",
       "      <td>It's my first time to use iOS phone and I am l...</td>\n",
       "    </tr>\n",
       "    <tr>\n",
       "      <th>6</th>\n",
       "      <td>5</td>\n",
       "      <td>Worth every penny</td>\n",
       "      <td>Best budget Iphone till date ❤️ go for it guys...</td>\n",
       "    </tr>\n",
       "    <tr>\n",
       "      <th>7</th>\n",
       "      <td>4</td>\n",
       "      <td>Simply awesome</td>\n",
       "      <td>Excellent camera, good performance, no lag. Th...</td>\n",
       "    </tr>\n",
       "    <tr>\n",
       "      <th>8</th>\n",
       "      <td>5</td>\n",
       "      <td>Worth every penny</td>\n",
       "      <td>Smooth like butter, camera like fantabulous, s...</td>\n",
       "    </tr>\n",
       "    <tr>\n",
       "      <th>9</th>\n",
       "      <td>5</td>\n",
       "      <td>Worth every penny</td>\n",
       "      <td>It’s been almost a month since I have been usi...</td>\n",
       "    </tr>\n",
       "    <tr>\n",
       "      <th>10</th>\n",
       "      <td>5</td>\n",
       "      <td>Brilliant</td>\n",
       "      <td>The Best Phone for the Money\\n\\nThe iPhone 11 ...</td>\n",
       "    </tr>\n",
       "    <tr>\n",
       "      <th>11</th>\n",
       "      <td>5</td>\n",
       "      <td>Simply awesome</td>\n",
       "      <td>Really satisfied with the Product I received.....</td>\n",
       "    </tr>\n",
       "    <tr>\n",
       "      <th>12</th>\n",
       "      <td>5</td>\n",
       "      <td>Best in the market!</td>\n",
       "      <td>Great iPhone very snappy experience as apple k...</td>\n",
       "    </tr>\n",
       "    <tr>\n",
       "      <th>13</th>\n",
       "      <td>5</td>\n",
       "      <td>Perfect product!</td>\n",
       "      <td>Amazing phone with great cameras and better ba...</td>\n",
       "    </tr>\n",
       "    <tr>\n",
       "      <th>14</th>\n",
       "      <td>5</td>\n",
       "      <td>Worth every penny</td>\n",
       "      <td>Previously I was using one plus 3t it was a gr...</td>\n",
       "    </tr>\n",
       "    <tr>\n",
       "      <th>15</th>\n",
       "      <td>5</td>\n",
       "      <td>Fabulous!</td>\n",
       "      <td>This is my first iOS phone. I am very happy wi...</td>\n",
       "    </tr>\n",
       "    <tr>\n",
       "      <th>16</th>\n",
       "      <td>5</td>\n",
       "      <td>Great product</td>\n",
       "      <td>Amazing Powerful and Durable Gadget.\\n\\nI’m am...</td>\n",
       "    </tr>\n",
       "    <tr>\n",
       "      <th>17</th>\n",
       "      <td>5</td>\n",
       "      <td>Good choice</td>\n",
       "      <td>So far it’s been an AMAZING experience coming ...</td>\n",
       "    </tr>\n",
       "    <tr>\n",
       "      <th>18</th>\n",
       "      <td>5</td>\n",
       "      <td>Highly recommended</td>\n",
       "      <td>What a camera .....just awesome ..you can feel...</td>\n",
       "    </tr>\n",
       "    <tr>\n",
       "      <th>19</th>\n",
       "      <td>5</td>\n",
       "      <td>Worth every penny</td>\n",
       "      <td>i11 is worthy to buy, too much happy with the ...</td>\n",
       "    </tr>\n",
       "    <tr>\n",
       "      <th>20</th>\n",
       "      <td>5</td>\n",
       "      <td>Highly recommended</td>\n",
       "      <td>iphone 11 is a very good phone to buy only if ...</td>\n",
       "    </tr>\n",
       "    <tr>\n",
       "      <th>21</th>\n",
       "      <td>5</td>\n",
       "      <td>Perfect product!</td>\n",
       "      <td>It’s a must buy who is looking for an upgrade ...</td>\n",
       "    </tr>\n",
       "    <tr>\n",
       "      <th>22</th>\n",
       "      <td>5</td>\n",
       "      <td>Perfect product!</td>\n",
       "      <td>Value for money❤️❤️\\nIts awesome mobile phone ...</td>\n",
       "    </tr>\n",
       "    <tr>\n",
       "      <th>23</th>\n",
       "      <td>5</td>\n",
       "      <td>Classy product</td>\n",
       "      <td>Totally in love with this ❤ the camera quality...</td>\n",
       "    </tr>\n",
       "    <tr>\n",
       "      <th>24</th>\n",
       "      <td>5</td>\n",
       "      <td>Perfect product!</td>\n",
       "      <td>Iphone is just awesome.. battery backup is ver...</td>\n",
       "    </tr>\n",
       "    <tr>\n",
       "      <th>25</th>\n",
       "      <td>5</td>\n",
       "      <td>Highly recommended</td>\n",
       "      <td>It's my first time to use iOS phone and I am l...</td>\n",
       "    </tr>\n",
       "    <tr>\n",
       "      <th>26</th>\n",
       "      <td>5</td>\n",
       "      <td>Worth every penny</td>\n",
       "      <td>Best budget Iphone till date ❤️ go for it guys...</td>\n",
       "    </tr>\n",
       "    <tr>\n",
       "      <th>27</th>\n",
       "      <td>4</td>\n",
       "      <td>Simply awesome</td>\n",
       "      <td>Excellent camera, good performance, no lag. Th...</td>\n",
       "    </tr>\n",
       "    <tr>\n",
       "      <th>28</th>\n",
       "      <td>5</td>\n",
       "      <td>Worth every penny</td>\n",
       "      <td>Smooth like butter, camera like fantabulous, s...</td>\n",
       "    </tr>\n",
       "    <tr>\n",
       "      <th>29</th>\n",
       "      <td>5</td>\n",
       "      <td>Worth every penny</td>\n",
       "      <td>It’s been almost a month since I have been usi...</td>\n",
       "    </tr>\n",
       "    <tr>\n",
       "      <th>30</th>\n",
       "      <td>5</td>\n",
       "      <td>Brilliant</td>\n",
       "      <td>The Best Phone for the Money\\n\\nThe iPhone 11 ...</td>\n",
       "    </tr>\n",
       "    <tr>\n",
       "      <th>31</th>\n",
       "      <td>5</td>\n",
       "      <td>Simply awesome</td>\n",
       "      <td>Really satisfied with the Product I received.....</td>\n",
       "    </tr>\n",
       "    <tr>\n",
       "      <th>32</th>\n",
       "      <td>5</td>\n",
       "      <td>Best in the market!</td>\n",
       "      <td>Great iPhone very snappy experience as apple k...</td>\n",
       "    </tr>\n",
       "    <tr>\n",
       "      <th>33</th>\n",
       "      <td>5</td>\n",
       "      <td>Perfect product!</td>\n",
       "      <td>Amazing phone with great cameras and better ba...</td>\n",
       "    </tr>\n",
       "    <tr>\n",
       "      <th>34</th>\n",
       "      <td>5</td>\n",
       "      <td>Worth every penny</td>\n",
       "      <td>Previously I was using one plus 3t it was a gr...</td>\n",
       "    </tr>\n",
       "    <tr>\n",
       "      <th>35</th>\n",
       "      <td>5</td>\n",
       "      <td>Fabulous!</td>\n",
       "      <td>This is my first iOS phone. I am very happy wi...</td>\n",
       "    </tr>\n",
       "    <tr>\n",
       "      <th>36</th>\n",
       "      <td>5</td>\n",
       "      <td>Great product</td>\n",
       "      <td>Amazing Powerful and Durable Gadget.\\n\\nI’m am...</td>\n",
       "    </tr>\n",
       "    <tr>\n",
       "      <th>37</th>\n",
       "      <td>5</td>\n",
       "      <td>Good choice</td>\n",
       "      <td>So far it’s been an AMAZING experience coming ...</td>\n",
       "    </tr>\n",
       "    <tr>\n",
       "      <th>38</th>\n",
       "      <td>5</td>\n",
       "      <td>Highly recommended</td>\n",
       "      <td>What a camera .....just awesome ..you can feel...</td>\n",
       "    </tr>\n",
       "    <tr>\n",
       "      <th>39</th>\n",
       "      <td>5</td>\n",
       "      <td>Worth every penny</td>\n",
       "      <td>i11 is worthy to buy, too much happy with the ...</td>\n",
       "    </tr>\n",
       "    <tr>\n",
       "      <th>40</th>\n",
       "      <td>5</td>\n",
       "      <td>Highly recommended</td>\n",
       "      <td>iphone 11 is a very good phone to buy only if ...</td>\n",
       "    </tr>\n",
       "    <tr>\n",
       "      <th>41</th>\n",
       "      <td>5</td>\n",
       "      <td>Perfect product!</td>\n",
       "      <td>It’s a must buy who is looking for an upgrade ...</td>\n",
       "    </tr>\n",
       "    <tr>\n",
       "      <th>42</th>\n",
       "      <td>5</td>\n",
       "      <td>Perfect product!</td>\n",
       "      <td>Value for money❤️❤️\\nIts awesome mobile phone ...</td>\n",
       "    </tr>\n",
       "    <tr>\n",
       "      <th>43</th>\n",
       "      <td>5</td>\n",
       "      <td>Classy product</td>\n",
       "      <td>Totally in love with this ❤ the camera quality...</td>\n",
       "    </tr>\n",
       "    <tr>\n",
       "      <th>44</th>\n",
       "      <td>5</td>\n",
       "      <td>Perfect product!</td>\n",
       "      <td>Iphone is just awesome.. battery backup is ver...</td>\n",
       "    </tr>\n",
       "    <tr>\n",
       "      <th>45</th>\n",
       "      <td>5</td>\n",
       "      <td>Highly recommended</td>\n",
       "      <td>It's my first time to use iOS phone and I am l...</td>\n",
       "    </tr>\n",
       "    <tr>\n",
       "      <th>46</th>\n",
       "      <td>5</td>\n",
       "      <td>Worth every penny</td>\n",
       "      <td>Best budget Iphone till date ❤️ go for it guys...</td>\n",
       "    </tr>\n",
       "    <tr>\n",
       "      <th>47</th>\n",
       "      <td>4</td>\n",
       "      <td>Simply awesome</td>\n",
       "      <td>Excellent camera, good performance, no lag. Th...</td>\n",
       "    </tr>\n",
       "    <tr>\n",
       "      <th>48</th>\n",
       "      <td>5</td>\n",
       "      <td>Worth every penny</td>\n",
       "      <td>Smooth like butter, camera like fantabulous, s...</td>\n",
       "    </tr>\n",
       "    <tr>\n",
       "      <th>49</th>\n",
       "      <td>5</td>\n",
       "      <td>Worth every penny</td>\n",
       "      <td>It’s been almost a month since I have been usi...</td>\n",
       "    </tr>\n",
       "    <tr>\n",
       "      <th>50</th>\n",
       "      <td>5</td>\n",
       "      <td>Brilliant</td>\n",
       "      <td>The Best Phone for the Money\\n\\nThe iPhone 11 ...</td>\n",
       "    </tr>\n",
       "    <tr>\n",
       "      <th>51</th>\n",
       "      <td>5</td>\n",
       "      <td>Simply awesome</td>\n",
       "      <td>Really satisfied with the Product I received.....</td>\n",
       "    </tr>\n",
       "    <tr>\n",
       "      <th>52</th>\n",
       "      <td>5</td>\n",
       "      <td>Best in the market!</td>\n",
       "      <td>Great iPhone very snappy experience as apple k...</td>\n",
       "    </tr>\n",
       "    <tr>\n",
       "      <th>53</th>\n",
       "      <td>5</td>\n",
       "      <td>Perfect product!</td>\n",
       "      <td>Amazing phone with great cameras and better ba...</td>\n",
       "    </tr>\n",
       "    <tr>\n",
       "      <th>54</th>\n",
       "      <td>5</td>\n",
       "      <td>Worth every penny</td>\n",
       "      <td>Previously I was using one plus 3t it was a gr...</td>\n",
       "    </tr>\n",
       "    <tr>\n",
       "      <th>55</th>\n",
       "      <td>5</td>\n",
       "      <td>Fabulous!</td>\n",
       "      <td>This is my first iOS phone. I am very happy wi...</td>\n",
       "    </tr>\n",
       "    <tr>\n",
       "      <th>56</th>\n",
       "      <td>5</td>\n",
       "      <td>Great product</td>\n",
       "      <td>Amazing Powerful and Durable Gadget.\\n\\nI’m am...</td>\n",
       "    </tr>\n",
       "    <tr>\n",
       "      <th>57</th>\n",
       "      <td>5</td>\n",
       "      <td>Good choice</td>\n",
       "      <td>So far it’s been an AMAZING experience coming ...</td>\n",
       "    </tr>\n",
       "    <tr>\n",
       "      <th>58</th>\n",
       "      <td>5</td>\n",
       "      <td>Highly recommended</td>\n",
       "      <td>What a camera .....just awesome ..you can feel...</td>\n",
       "    </tr>\n",
       "    <tr>\n",
       "      <th>59</th>\n",
       "      <td>5</td>\n",
       "      <td>Worth every penny</td>\n",
       "      <td>i11 is worthy to buy, too much happy with the ...</td>\n",
       "    </tr>\n",
       "    <tr>\n",
       "      <th>60</th>\n",
       "      <td>5</td>\n",
       "      <td>Highly recommended</td>\n",
       "      <td>iphone 11 is a very good phone to buy only if ...</td>\n",
       "    </tr>\n",
       "    <tr>\n",
       "      <th>61</th>\n",
       "      <td>5</td>\n",
       "      <td>Perfect product!</td>\n",
       "      <td>It’s a must buy who is looking for an upgrade ...</td>\n",
       "    </tr>\n",
       "    <tr>\n",
       "      <th>62</th>\n",
       "      <td>5</td>\n",
       "      <td>Perfect product!</td>\n",
       "      <td>Value for money❤️❤️\\nIts awesome mobile phone ...</td>\n",
       "    </tr>\n",
       "    <tr>\n",
       "      <th>63</th>\n",
       "      <td>5</td>\n",
       "      <td>Classy product</td>\n",
       "      <td>Totally in love with this ❤ the camera quality...</td>\n",
       "    </tr>\n",
       "    <tr>\n",
       "      <th>64</th>\n",
       "      <td>5</td>\n",
       "      <td>Perfect product!</td>\n",
       "      <td>Iphone is just awesome.. battery backup is ver...</td>\n",
       "    </tr>\n",
       "    <tr>\n",
       "      <th>65</th>\n",
       "      <td>5</td>\n",
       "      <td>Highly recommended</td>\n",
       "      <td>It's my first time to use iOS phone and I am l...</td>\n",
       "    </tr>\n",
       "    <tr>\n",
       "      <th>66</th>\n",
       "      <td>5</td>\n",
       "      <td>Worth every penny</td>\n",
       "      <td>Best budget Iphone till date ❤️ go for it guys...</td>\n",
       "    </tr>\n",
       "    <tr>\n",
       "      <th>67</th>\n",
       "      <td>4</td>\n",
       "      <td>Simply awesome</td>\n",
       "      <td>Excellent camera, good performance, no lag. Th...</td>\n",
       "    </tr>\n",
       "    <tr>\n",
       "      <th>68</th>\n",
       "      <td>5</td>\n",
       "      <td>Worth every penny</td>\n",
       "      <td>Smooth like butter, camera like fantabulous, s...</td>\n",
       "    </tr>\n",
       "    <tr>\n",
       "      <th>69</th>\n",
       "      <td>5</td>\n",
       "      <td>Worth every penny</td>\n",
       "      <td>It’s been almost a month since I have been usi...</td>\n",
       "    </tr>\n",
       "    <tr>\n",
       "      <th>70</th>\n",
       "      <td>5</td>\n",
       "      <td>Brilliant</td>\n",
       "      <td>The Best Phone for the Money\\n\\nThe iPhone 11 ...</td>\n",
       "    </tr>\n",
       "    <tr>\n",
       "      <th>71</th>\n",
       "      <td>5</td>\n",
       "      <td>Simply awesome</td>\n",
       "      <td>Really satisfied with the Product I received.....</td>\n",
       "    </tr>\n",
       "    <tr>\n",
       "      <th>72</th>\n",
       "      <td>5</td>\n",
       "      <td>Best in the market!</td>\n",
       "      <td>Great iPhone very snappy experience as apple k...</td>\n",
       "    </tr>\n",
       "    <tr>\n",
       "      <th>73</th>\n",
       "      <td>5</td>\n",
       "      <td>Perfect product!</td>\n",
       "      <td>Amazing phone with great cameras and better ba...</td>\n",
       "    </tr>\n",
       "    <tr>\n",
       "      <th>74</th>\n",
       "      <td>5</td>\n",
       "      <td>Worth every penny</td>\n",
       "      <td>Previously I was using one plus 3t it was a gr...</td>\n",
       "    </tr>\n",
       "    <tr>\n",
       "      <th>75</th>\n",
       "      <td>5</td>\n",
       "      <td>Fabulous!</td>\n",
       "      <td>This is my first iOS phone. I am very happy wi...</td>\n",
       "    </tr>\n",
       "    <tr>\n",
       "      <th>76</th>\n",
       "      <td>5</td>\n",
       "      <td>Great product</td>\n",
       "      <td>Amazing Powerful and Durable Gadget.\\n\\nI’m am...</td>\n",
       "    </tr>\n",
       "    <tr>\n",
       "      <th>77</th>\n",
       "      <td>5</td>\n",
       "      <td>Good choice</td>\n",
       "      <td>So far it’s been an AMAZING experience coming ...</td>\n",
       "    </tr>\n",
       "    <tr>\n",
       "      <th>78</th>\n",
       "      <td>5</td>\n",
       "      <td>Highly recommended</td>\n",
       "      <td>What a camera .....just awesome ..you can feel...</td>\n",
       "    </tr>\n",
       "    <tr>\n",
       "      <th>79</th>\n",
       "      <td>5</td>\n",
       "      <td>Worth every penny</td>\n",
       "      <td>i11 is worthy to buy, too much happy with the ...</td>\n",
       "    </tr>\n",
       "    <tr>\n",
       "      <th>80</th>\n",
       "      <td>5</td>\n",
       "      <td>Highly recommended</td>\n",
       "      <td>iphone 11 is a very good phone to buy only if ...</td>\n",
       "    </tr>\n",
       "    <tr>\n",
       "      <th>81</th>\n",
       "      <td>5</td>\n",
       "      <td>Perfect product!</td>\n",
       "      <td>It’s a must buy who is looking for an upgrade ...</td>\n",
       "    </tr>\n",
       "    <tr>\n",
       "      <th>82</th>\n",
       "      <td>5</td>\n",
       "      <td>Perfect product!</td>\n",
       "      <td>Value for money❤️❤️\\nIts awesome mobile phone ...</td>\n",
       "    </tr>\n",
       "    <tr>\n",
       "      <th>83</th>\n",
       "      <td>5</td>\n",
       "      <td>Classy product</td>\n",
       "      <td>Totally in love with this ❤ the camera quality...</td>\n",
       "    </tr>\n",
       "    <tr>\n",
       "      <th>84</th>\n",
       "      <td>5</td>\n",
       "      <td>Perfect product!</td>\n",
       "      <td>Iphone is just awesome.. battery backup is ver...</td>\n",
       "    </tr>\n",
       "    <tr>\n",
       "      <th>85</th>\n",
       "      <td>5</td>\n",
       "      <td>Highly recommended</td>\n",
       "      <td>It's my first time to use iOS phone and I am l...</td>\n",
       "    </tr>\n",
       "    <tr>\n",
       "      <th>86</th>\n",
       "      <td>5</td>\n",
       "      <td>Worth every penny</td>\n",
       "      <td>Best budget Iphone till date ❤️ go for it guys...</td>\n",
       "    </tr>\n",
       "    <tr>\n",
       "      <th>87</th>\n",
       "      <td>4</td>\n",
       "      <td>Simply awesome</td>\n",
       "      <td>Excellent camera, good performance, no lag. Th...</td>\n",
       "    </tr>\n",
       "    <tr>\n",
       "      <th>88</th>\n",
       "      <td>5</td>\n",
       "      <td>Worth every penny</td>\n",
       "      <td>Smooth like butter, camera like fantabulous, s...</td>\n",
       "    </tr>\n",
       "    <tr>\n",
       "      <th>89</th>\n",
       "      <td>5</td>\n",
       "      <td>Worth every penny</td>\n",
       "      <td>It’s been almost a month since I have been usi...</td>\n",
       "    </tr>\n",
       "    <tr>\n",
       "      <th>90</th>\n",
       "      <td>5</td>\n",
       "      <td>Brilliant</td>\n",
       "      <td>The Best Phone for the Money\\n\\nThe iPhone 11 ...</td>\n",
       "    </tr>\n",
       "    <tr>\n",
       "      <th>91</th>\n",
       "      <td>5</td>\n",
       "      <td>Simply awesome</td>\n",
       "      <td>Really satisfied with the Product I received.....</td>\n",
       "    </tr>\n",
       "    <tr>\n",
       "      <th>92</th>\n",
       "      <td>5</td>\n",
       "      <td>Best in the market!</td>\n",
       "      <td>Great iPhone very snappy experience as apple k...</td>\n",
       "    </tr>\n",
       "    <tr>\n",
       "      <th>93</th>\n",
       "      <td>5</td>\n",
       "      <td>Perfect product!</td>\n",
       "      <td>Amazing phone with great cameras and better ba...</td>\n",
       "    </tr>\n",
       "    <tr>\n",
       "      <th>94</th>\n",
       "      <td>5</td>\n",
       "      <td>Worth every penny</td>\n",
       "      <td>Previously I was using one plus 3t it was a gr...</td>\n",
       "    </tr>\n",
       "    <tr>\n",
       "      <th>95</th>\n",
       "      <td>5</td>\n",
       "      <td>Fabulous!</td>\n",
       "      <td>This is my first iOS phone. I am very happy wi...</td>\n",
       "    </tr>\n",
       "    <tr>\n",
       "      <th>96</th>\n",
       "      <td>5</td>\n",
       "      <td>Great product</td>\n",
       "      <td>Amazing Powerful and Durable Gadget.\\n\\nI’m am...</td>\n",
       "    </tr>\n",
       "    <tr>\n",
       "      <th>97</th>\n",
       "      <td>5</td>\n",
       "      <td>Good choice</td>\n",
       "      <td>So far it’s been an AMAZING experience coming ...</td>\n",
       "    </tr>\n",
       "    <tr>\n",
       "      <th>98</th>\n",
       "      <td>5</td>\n",
       "      <td>Highly recommended</td>\n",
       "      <td>What a camera .....just awesome ..you can feel...</td>\n",
       "    </tr>\n",
       "    <tr>\n",
       "      <th>99</th>\n",
       "      <td>5</td>\n",
       "      <td>Worth every penny</td>\n",
       "      <td>i11 is worthy to buy, too much happy with the ...</td>\n",
       "    </tr>\n",
       "  </tbody>\n",
       "</table>\n",
       "</div>"
      ],
      "text/plain": [
       "   Rating       Review_Summary  \\\n",
       "0       5   Highly recommended   \n",
       "1       5     Perfect product!   \n",
       "2       5     Perfect product!   \n",
       "3       5       Classy product   \n",
       "4       5     Perfect product!   \n",
       "5       5   Highly recommended   \n",
       "6       5    Worth every penny   \n",
       "7       4       Simply awesome   \n",
       "8       5    Worth every penny   \n",
       "9       5    Worth every penny   \n",
       "10      5            Brilliant   \n",
       "11      5       Simply awesome   \n",
       "12      5  Best in the market!   \n",
       "13      5     Perfect product!   \n",
       "14      5    Worth every penny   \n",
       "15      5            Fabulous!   \n",
       "16      5        Great product   \n",
       "17      5          Good choice   \n",
       "18      5   Highly recommended   \n",
       "19      5    Worth every penny   \n",
       "20      5   Highly recommended   \n",
       "21      5     Perfect product!   \n",
       "22      5     Perfect product!   \n",
       "23      5       Classy product   \n",
       "24      5     Perfect product!   \n",
       "25      5   Highly recommended   \n",
       "26      5    Worth every penny   \n",
       "27      4       Simply awesome   \n",
       "28      5    Worth every penny   \n",
       "29      5    Worth every penny   \n",
       "30      5            Brilliant   \n",
       "31      5       Simply awesome   \n",
       "32      5  Best in the market!   \n",
       "33      5     Perfect product!   \n",
       "34      5    Worth every penny   \n",
       "35      5            Fabulous!   \n",
       "36      5        Great product   \n",
       "37      5          Good choice   \n",
       "38      5   Highly recommended   \n",
       "39      5    Worth every penny   \n",
       "40      5   Highly recommended   \n",
       "41      5     Perfect product!   \n",
       "42      5     Perfect product!   \n",
       "43      5       Classy product   \n",
       "44      5     Perfect product!   \n",
       "45      5   Highly recommended   \n",
       "46      5    Worth every penny   \n",
       "47      4       Simply awesome   \n",
       "48      5    Worth every penny   \n",
       "49      5    Worth every penny   \n",
       "50      5            Brilliant   \n",
       "51      5       Simply awesome   \n",
       "52      5  Best in the market!   \n",
       "53      5     Perfect product!   \n",
       "54      5    Worth every penny   \n",
       "55      5            Fabulous!   \n",
       "56      5        Great product   \n",
       "57      5          Good choice   \n",
       "58      5   Highly recommended   \n",
       "59      5    Worth every penny   \n",
       "60      5   Highly recommended   \n",
       "61      5     Perfect product!   \n",
       "62      5     Perfect product!   \n",
       "63      5       Classy product   \n",
       "64      5     Perfect product!   \n",
       "65      5   Highly recommended   \n",
       "66      5    Worth every penny   \n",
       "67      4       Simply awesome   \n",
       "68      5    Worth every penny   \n",
       "69      5    Worth every penny   \n",
       "70      5            Brilliant   \n",
       "71      5       Simply awesome   \n",
       "72      5  Best in the market!   \n",
       "73      5     Perfect product!   \n",
       "74      5    Worth every penny   \n",
       "75      5            Fabulous!   \n",
       "76      5        Great product   \n",
       "77      5          Good choice   \n",
       "78      5   Highly recommended   \n",
       "79      5    Worth every penny   \n",
       "80      5   Highly recommended   \n",
       "81      5     Perfect product!   \n",
       "82      5     Perfect product!   \n",
       "83      5       Classy product   \n",
       "84      5     Perfect product!   \n",
       "85      5   Highly recommended   \n",
       "86      5    Worth every penny   \n",
       "87      4       Simply awesome   \n",
       "88      5    Worth every penny   \n",
       "89      5    Worth every penny   \n",
       "90      5            Brilliant   \n",
       "91      5       Simply awesome   \n",
       "92      5  Best in the market!   \n",
       "93      5     Perfect product!   \n",
       "94      5    Worth every penny   \n",
       "95      5            Fabulous!   \n",
       "96      5        Great product   \n",
       "97      5          Good choice   \n",
       "98      5   Highly recommended   \n",
       "99      5    Worth every penny   \n",
       "\n",
       "                                          Full_Review  \n",
       "0   iphone 11 is a very good phone to buy only if ...  \n",
       "1   It’s a must buy who is looking for an upgrade ...  \n",
       "2   Value for money❤️❤️\\nIts awesome mobile phone ...  \n",
       "3   Totally in love with this ❤ the camera quality...  \n",
       "4   Iphone is just awesome.. battery backup is ver...  \n",
       "5   It's my first time to use iOS phone and I am l...  \n",
       "6   Best budget Iphone till date ❤️ go for it guys...  \n",
       "7   Excellent camera, good performance, no lag. Th...  \n",
       "8   Smooth like butter, camera like fantabulous, s...  \n",
       "9   It’s been almost a month since I have been usi...  \n",
       "10  The Best Phone for the Money\\n\\nThe iPhone 11 ...  \n",
       "11  Really satisfied with the Product I received.....  \n",
       "12  Great iPhone very snappy experience as apple k...  \n",
       "13  Amazing phone with great cameras and better ba...  \n",
       "14  Previously I was using one plus 3t it was a gr...  \n",
       "15  This is my first iOS phone. I am very happy wi...  \n",
       "16  Amazing Powerful and Durable Gadget.\\n\\nI’m am...  \n",
       "17  So far it’s been an AMAZING experience coming ...  \n",
       "18  What a camera .....just awesome ..you can feel...  \n",
       "19  i11 is worthy to buy, too much happy with the ...  \n",
       "20  iphone 11 is a very good phone to buy only if ...  \n",
       "21  It’s a must buy who is looking for an upgrade ...  \n",
       "22  Value for money❤️❤️\\nIts awesome mobile phone ...  \n",
       "23  Totally in love with this ❤ the camera quality...  \n",
       "24  Iphone is just awesome.. battery backup is ver...  \n",
       "25  It's my first time to use iOS phone and I am l...  \n",
       "26  Best budget Iphone till date ❤️ go for it guys...  \n",
       "27  Excellent camera, good performance, no lag. Th...  \n",
       "28  Smooth like butter, camera like fantabulous, s...  \n",
       "29  It’s been almost a month since I have been usi...  \n",
       "30  The Best Phone for the Money\\n\\nThe iPhone 11 ...  \n",
       "31  Really satisfied with the Product I received.....  \n",
       "32  Great iPhone very snappy experience as apple k...  \n",
       "33  Amazing phone with great cameras and better ba...  \n",
       "34  Previously I was using one plus 3t it was a gr...  \n",
       "35  This is my first iOS phone. I am very happy wi...  \n",
       "36  Amazing Powerful and Durable Gadget.\\n\\nI’m am...  \n",
       "37  So far it’s been an AMAZING experience coming ...  \n",
       "38  What a camera .....just awesome ..you can feel...  \n",
       "39  i11 is worthy to buy, too much happy with the ...  \n",
       "40  iphone 11 is a very good phone to buy only if ...  \n",
       "41  It’s a must buy who is looking for an upgrade ...  \n",
       "42  Value for money❤️❤️\\nIts awesome mobile phone ...  \n",
       "43  Totally in love with this ❤ the camera quality...  \n",
       "44  Iphone is just awesome.. battery backup is ver...  \n",
       "45  It's my first time to use iOS phone and I am l...  \n",
       "46  Best budget Iphone till date ❤️ go for it guys...  \n",
       "47  Excellent camera, good performance, no lag. Th...  \n",
       "48  Smooth like butter, camera like fantabulous, s...  \n",
       "49  It’s been almost a month since I have been usi...  \n",
       "50  The Best Phone for the Money\\n\\nThe iPhone 11 ...  \n",
       "51  Really satisfied with the Product I received.....  \n",
       "52  Great iPhone very snappy experience as apple k...  \n",
       "53  Amazing phone with great cameras and better ba...  \n",
       "54  Previously I was using one plus 3t it was a gr...  \n",
       "55  This is my first iOS phone. I am very happy wi...  \n",
       "56  Amazing Powerful and Durable Gadget.\\n\\nI’m am...  \n",
       "57  So far it’s been an AMAZING experience coming ...  \n",
       "58  What a camera .....just awesome ..you can feel...  \n",
       "59  i11 is worthy to buy, too much happy with the ...  \n",
       "60  iphone 11 is a very good phone to buy only if ...  \n",
       "61  It’s a must buy who is looking for an upgrade ...  \n",
       "62  Value for money❤️❤️\\nIts awesome mobile phone ...  \n",
       "63  Totally in love with this ❤ the camera quality...  \n",
       "64  Iphone is just awesome.. battery backup is ver...  \n",
       "65  It's my first time to use iOS phone and I am l...  \n",
       "66  Best budget Iphone till date ❤️ go for it guys...  \n",
       "67  Excellent camera, good performance, no lag. Th...  \n",
       "68  Smooth like butter, camera like fantabulous, s...  \n",
       "69  It’s been almost a month since I have been usi...  \n",
       "70  The Best Phone for the Money\\n\\nThe iPhone 11 ...  \n",
       "71  Really satisfied with the Product I received.....  \n",
       "72  Great iPhone very snappy experience as apple k...  \n",
       "73  Amazing phone with great cameras and better ba...  \n",
       "74  Previously I was using one plus 3t it was a gr...  \n",
       "75  This is my first iOS phone. I am very happy wi...  \n",
       "76  Amazing Powerful and Durable Gadget.\\n\\nI’m am...  \n",
       "77  So far it’s been an AMAZING experience coming ...  \n",
       "78  What a camera .....just awesome ..you can feel...  \n",
       "79  i11 is worthy to buy, too much happy with the ...  \n",
       "80  iphone 11 is a very good phone to buy only if ...  \n",
       "81  It’s a must buy who is looking for an upgrade ...  \n",
       "82  Value for money❤️❤️\\nIts awesome mobile phone ...  \n",
       "83  Totally in love with this ❤ the camera quality...  \n",
       "84  Iphone is just awesome.. battery backup is ver...  \n",
       "85  It's my first time to use iOS phone and I am l...  \n",
       "86  Best budget Iphone till date ❤️ go for it guys...  \n",
       "87  Excellent camera, good performance, no lag. Th...  \n",
       "88  Smooth like butter, camera like fantabulous, s...  \n",
       "89  It’s been almost a month since I have been usi...  \n",
       "90  The Best Phone for the Money\\n\\nThe iPhone 11 ...  \n",
       "91  Really satisfied with the Product I received.....  \n",
       "92  Great iPhone very snappy experience as apple k...  \n",
       "93  Amazing phone with great cameras and better ba...  \n",
       "94  Previously I was using one plus 3t it was a gr...  \n",
       "95  This is my first iOS phone. I am very happy wi...  \n",
       "96  Amazing Powerful and Durable Gadget.\\n\\nI’m am...  \n",
       "97  So far it’s been an AMAZING experience coming ...  \n",
       "98  What a camera .....just awesome ..you can feel...  \n",
       "99  i11 is worthy to buy, too much happy with the ...  "
      ]
     },
     "execution_count": 89,
     "metadata": {},
     "output_type": "execute_result"
    }
   ],
   "source": [
    "# Extracting Data\n",
    "rating=[]  #empty list\n",
    "review_summary=[]   #empty list\n",
    "full_review=[] #empty list\n",
    "\n",
    "\n",
    "for i in range(0,11):   #chossing top 10 pages\n",
    "    for j in driver.find_elements_by_xpath('//div[@class=\"_3LWZlK _1BLPMq\"]'):   #Rating\n",
    "        rating.append(j.text)\n",
    "    for l in driver.find_elements_by_xpath('//p[@class=\"_2-N8zT\"]'):      #Review_summary\n",
    "        review_summary.append(l.text)\n",
    "    for c in driver.find_elements_by_xpath('//div[@class=\"t-ZTKy\"]'):   #Detail_summary\n",
    "        full_review.append(c.text)\n",
    "    driver.find_element_by_xpath('//a[@class=\"_1LKTO3\"]').click()      #next page\n",
    "    time.sleep(5)\n",
    "\n",
    "\n",
    "driver.close()\n",
    "#selecting top 100 \n",
    "rating=rating[:100]\n",
    "review_summary=rsum[:100]\n",
    "full_review=fsum[:100]\n",
    "\n",
    "\n",
    "#Making DataFrame\n",
    "review_data=pd.DataFrame({})\n",
    "review_data[\"Rating\"]=rating\n",
    "review_data[\"Review_Summary\"]=review_summary\n",
    "review_data[\"Full_Review\"]=full_review\n",
    "review_data"
   ]
  },
  {
   "cell_type": "markdown",
   "metadata": {},
   "source": [
    "# 6. flipkart.com (Sneakers)"
   ]
  },
  {
   "cell_type": "code",
   "execution_count": 2,
   "metadata": {},
   "outputs": [
    {
     "data": {
      "text/plain": [
       "<selenium.webdriver.chrome.webdriver.WebDriver (session=\"9f5cde3a1df109bd1d6a34edb9a7d9ff\")>"
      ]
     },
     "execution_count": 2,
     "metadata": {},
     "output_type": "execute_result"
    }
   ],
   "source": [
    "#importing chromedriver\n",
    "driver= webdriver.Chrome(\"D:\\Inernship\\chromedriver.exe\")\n",
    "driver"
   ]
  },
  {
   "cell_type": "code",
   "execution_count": 3,
   "metadata": {},
   "outputs": [],
   "source": [
    "#getting Url\n",
    "url= 'https://www.flipkart.com/'\n",
    "driver.get(url)"
   ]
  },
  {
   "cell_type": "code",
   "execution_count": 4,
   "metadata": {},
   "outputs": [
    {
     "data": {
      "text/plain": [
       "<selenium.webdriver.remote.webelement.WebElement (session=\"9f5cde3a1df109bd1d6a34edb9a7d9ff\", element=\"c76e8b63-2077-4bcf-b376-553592ddd5d3\")>"
      ]
     },
     "execution_count": 4,
     "metadata": {},
     "output_type": "execute_result"
    }
   ],
   "source": [
    " #search bar\n",
    "search_bar= driver.find_element_by_xpath(\"/html/body/div[1]/div/div[1]/div[1]/div[2]/div[2]/form/div/div/input\")\n",
    "search_bar"
   ]
  },
  {
   "cell_type": "code",
   "execution_count": 5,
   "metadata": {},
   "outputs": [],
   "source": [
    "#writing on search bar\n",
    "search_bar.send_keys('Sneakers')"
   ]
  },
  {
   "cell_type": "code",
   "execution_count": 6,
   "metadata": {},
   "outputs": [
    {
     "data": {
      "text/plain": [
       "<selenium.webdriver.remote.webelement.WebElement (session=\"9f5cde3a1df109bd1d6a34edb9a7d9ff\", element=\"1ed84368-66e6-41e4-a485-b36428194a45\")>"
      ]
     },
     "execution_count": 6,
     "metadata": {},
     "output_type": "execute_result"
    }
   ],
   "source": [
    "search_btn= driver.find_element_by_xpath('/html/body/div[1]/div/div[1]/div[1]/div[2]/div[2]/form/div/button')\n",
    "search_btn"
   ]
  },
  {
   "cell_type": "code",
   "execution_count": 7,
   "metadata": {},
   "outputs": [],
   "source": [
    "#click on search button\n",
    "search_btn.click()"
   ]
  },
  {
   "cell_type": "code",
   "execution_count": 8,
   "metadata": {},
   "outputs": [
    {
     "name": "stdout",
     "output_type": "stream",
     "text": [
      "40\n",
      "31\n",
      "40\n"
     ]
    }
   ],
   "source": [
    "# Page 1 \n",
    "\n",
    "a= []\n",
    "for i in driver.find_elements_by_xpath('//div[@class=\"_2WkVRV\"]'):    #brand\n",
    "    a.append(i.text)\n",
    "print(len(a))\n",
    "    \n",
    "x=[]\n",
    "for j in driver.find_elements_by_xpath('//a[@class=\"IRpwTa\"]'):     #product description  \n",
    "    x.append(j.text)\n",
    "print(len(x))\n",
    "\n",
    "p= []\n",
    "for k in driver.find_elements_by_xpath('//div[@class=\"_30jeq3\"]'):    # price\n",
    "    p.append(k.text)\n",
    "print(len(p))"
   ]
  },
  {
   "cell_type": "code",
   "execution_count": 9,
   "metadata": {},
   "outputs": [
    {
     "data": {
      "text/plain": [
       "<selenium.webdriver.remote.webelement.WebElement (session=\"9f5cde3a1df109bd1d6a34edb9a7d9ff\", element=\"94b33d99-c447-4c0b-869e-045304e7cbfe\")>"
      ]
     },
     "execution_count": 9,
     "metadata": {},
     "output_type": "execute_result"
    }
   ],
   "source": [
    "next_btn= driver.find_element_by_xpath(\"/html/body/div[1]/div/div[3]/div[1]/div[2]/div[12]/div/div/nav/a[11]\")\n",
    "next_btn"
   ]
  },
  {
   "cell_type": "code",
   "execution_count": 10,
   "metadata": {},
   "outputs": [],
   "source": [
    "#click on next button\n",
    "next_btn.click()"
   ]
  },
  {
   "cell_type": "code",
   "execution_count": 11,
   "metadata": {},
   "outputs": [
    {
     "name": "stdout",
     "output_type": "stream",
     "text": [
      "40\n",
      "31\n",
      "40\n"
     ]
    }
   ],
   "source": [
    "# Page 2\n",
    "\n",
    "b= []\n",
    "for i in driver.find_elements_by_xpath('//div[@class=\"_2WkVRV\"]'):     #brand\n",
    "    b.append(i.text)\n",
    "print(len(b))    \n",
    "    \n",
    "y=[]\n",
    "for j in driver.find_elements_by_xpath('//a[@class=\"IRpwTa\"]'):      # product description\n",
    "    y.append(j.text)\n",
    "print(len(y))\n",
    "\n",
    "q= []\n",
    "for k in driver.find_elements_by_xpath('//div[@class=\"_30jeq3\"]'):  # price \n",
    "    q.append(k.text)\n",
    "print(len(q))"
   ]
  },
  {
   "cell_type": "code",
   "execution_count": 12,
   "metadata": {},
   "outputs": [
    {
     "data": {
      "text/plain": [
       "<selenium.webdriver.remote.webelement.WebElement (session=\"9f5cde3a1df109bd1d6a34edb9a7d9ff\", element=\"2416efa5-a2c6-47ca-b826-6975c75283c0\")>"
      ]
     },
     "execution_count": 12,
     "metadata": {},
     "output_type": "execute_result"
    }
   ],
   "source": [
    "next_btn= driver.find_element_by_xpath(\"/html/body/div[1]/div/div[3]/div[1]/div[2]/div[12]/div/div/nav/a[11]\")\n",
    "next_btn"
   ]
  },
  {
   "cell_type": "code",
   "execution_count": 13,
   "metadata": {},
   "outputs": [],
   "source": [
    "#click on next button\n",
    "next_btn.click()"
   ]
  },
  {
   "cell_type": "code",
   "execution_count": 14,
   "metadata": {},
   "outputs": [
    {
     "name": "stdout",
     "output_type": "stream",
     "text": [
      "20\n",
      "20\n",
      "20\n"
     ]
    }
   ],
   "source": [
    "# Page 3\n",
    "\n",
    "c= []\n",
    "for i in driver.find_elements_by_xpath('//div[@class=\"_2WkVRV\"]'):       #brand\n",
    "    c.append(i.text)\n",
    "c= c[0:20]\n",
    "print(len(c))    \n",
    "    \n",
    "z=[]\n",
    "for j in driver.find_elements_by_xpath('//a[@class=\"IRpwTa\"]'):      # product description    \n",
    "    z.append(j.text)\n",
    "z= z[0:20]\n",
    "print(len(z))\n",
    "\n",
    "r= []\n",
    "for k in driver.find_elements_by_xpath('//div[@class=\"_30jeq3\"]'):    # product description\n",
    "    r.append(k.text)\n",
    "r= r[0:20]\n",
    "print(len(r))"
   ]
  },
  {
   "cell_type": "code",
   "execution_count": 15,
   "metadata": {},
   "outputs": [],
   "source": [
    "# combines the all 3 pages data\n",
    "brand= a+b+c"
   ]
  },
  {
   "cell_type": "code",
   "execution_count": 16,
   "metadata": {},
   "outputs": [],
   "source": [
    "# combines the all 3 pages data\n",
    "product_description= x+y+z"
   ]
  },
  {
   "cell_type": "code",
   "execution_count": 17,
   "metadata": {},
   "outputs": [],
   "source": [
    "# combines the all 3 pages data\n",
    "price= p+q+r"
   ]
  },
  {
   "cell_type": "code",
   "execution_count": 19,
   "metadata": {},
   "outputs": [
    {
     "name": "stdout",
     "output_type": "stream",
     "text": [
      "100 100 82\n"
     ]
    }
   ],
   "source": [
    "# Finding length\n",
    "print(len(brand), len(price), len(product_description))"
   ]
  },
  {
   "cell_type": "code",
   "execution_count": null,
   "metadata": {},
   "outputs": [],
   "source": [
    "#In question 6 skip description for now, will explain you this thing in exception handling.\n",
    "# I got this response from ticket, so I didn't scrap data for product description."
   ]
  },
  {
   "cell_type": "code",
   "execution_count": 21,
   "metadata": {},
   "outputs": [],
   "source": [
    "pd.set_option('display.max_rows', None)"
   ]
  },
  {
   "cell_type": "code",
   "execution_count": 22,
   "metadata": {},
   "outputs": [
    {
     "data": {
      "text/html": [
       "<div>\n",
       "<style scoped>\n",
       "    .dataframe tbody tr th:only-of-type {\n",
       "        vertical-align: middle;\n",
       "    }\n",
       "\n",
       "    .dataframe tbody tr th {\n",
       "        vertical-align: top;\n",
       "    }\n",
       "\n",
       "    .dataframe thead th {\n",
       "        text-align: right;\n",
       "    }\n",
       "</style>\n",
       "<table border=\"1\" class=\"dataframe\">\n",
       "  <thead>\n",
       "    <tr style=\"text-align: right;\">\n",
       "      <th></th>\n",
       "      <th>Brand</th>\n",
       "      <th>Price</th>\n",
       "    </tr>\n",
       "  </thead>\n",
       "  <tbody>\n",
       "    <tr>\n",
       "      <th>0</th>\n",
       "      <td>URBANBOX</td>\n",
       "      <td>₹220</td>\n",
       "    </tr>\n",
       "    <tr>\n",
       "      <th>1</th>\n",
       "      <td>Magnolia</td>\n",
       "      <td>₹398</td>\n",
       "    </tr>\n",
       "    <tr>\n",
       "      <th>2</th>\n",
       "      <td>luxury fashion</td>\n",
       "      <td>₹449</td>\n",
       "    </tr>\n",
       "    <tr>\n",
       "      <th>3</th>\n",
       "      <td>Labbin</td>\n",
       "      <td>₹499</td>\n",
       "    </tr>\n",
       "    <tr>\n",
       "      <th>4</th>\n",
       "      <td>Stefano Rads</td>\n",
       "      <td>₹242</td>\n",
       "    </tr>\n",
       "    <tr>\n",
       "      <th>5</th>\n",
       "      <td>Numenzo</td>\n",
       "      <td>₹499</td>\n",
       "    </tr>\n",
       "    <tr>\n",
       "      <th>6</th>\n",
       "      <td>Trendmode</td>\n",
       "      <td>₹359</td>\n",
       "    </tr>\n",
       "    <tr>\n",
       "      <th>7</th>\n",
       "      <td>Shoes Bank</td>\n",
       "      <td>₹331</td>\n",
       "    </tr>\n",
       "    <tr>\n",
       "      <th>8</th>\n",
       "      <td>Extoes</td>\n",
       "      <td>₹948</td>\n",
       "    </tr>\n",
       "    <tr>\n",
       "      <th>9</th>\n",
       "      <td>D-SNEAKERZ</td>\n",
       "      <td>₹348</td>\n",
       "    </tr>\n",
       "    <tr>\n",
       "      <th>10</th>\n",
       "      <td>SCATCHITE</td>\n",
       "      <td>₹398</td>\n",
       "    </tr>\n",
       "    <tr>\n",
       "      <th>11</th>\n",
       "      <td>ASTEROID</td>\n",
       "      <td>₹499</td>\n",
       "    </tr>\n",
       "    <tr>\n",
       "      <th>12</th>\n",
       "      <td>Pieds</td>\n",
       "      <td>₹449</td>\n",
       "    </tr>\n",
       "    <tr>\n",
       "      <th>13</th>\n",
       "      <td>HOTSTYLE</td>\n",
       "      <td>₹298</td>\n",
       "    </tr>\n",
       "    <tr>\n",
       "      <th>14</th>\n",
       "      <td>Arohi</td>\n",
       "      <td>₹398</td>\n",
       "    </tr>\n",
       "    <tr>\n",
       "      <th>15</th>\n",
       "      <td>ganpati traders</td>\n",
       "      <td>₹189</td>\n",
       "    </tr>\n",
       "    <tr>\n",
       "      <th>16</th>\n",
       "      <td>Numenzo</td>\n",
       "      <td>₹407</td>\n",
       "    </tr>\n",
       "    <tr>\n",
       "      <th>17</th>\n",
       "      <td>Robbie jones</td>\n",
       "      <td>₹474</td>\n",
       "    </tr>\n",
       "    <tr>\n",
       "      <th>18</th>\n",
       "      <td>TR</td>\n",
       "      <td>₹599</td>\n",
       "    </tr>\n",
       "    <tr>\n",
       "      <th>19</th>\n",
       "      <td>ASTEROID</td>\n",
       "      <td>₹499</td>\n",
       "    </tr>\n",
       "    <tr>\n",
       "      <th>20</th>\n",
       "      <td>Rzisbo</td>\n",
       "      <td>₹574</td>\n",
       "    </tr>\n",
       "    <tr>\n",
       "      <th>21</th>\n",
       "      <td>Kraasa</td>\n",
       "      <td>₹499</td>\n",
       "    </tr>\n",
       "    <tr>\n",
       "      <th>22</th>\n",
       "      <td>BIRDE</td>\n",
       "      <td>₹299</td>\n",
       "    </tr>\n",
       "    <tr>\n",
       "      <th>23</th>\n",
       "      <td>CLYMB</td>\n",
       "      <td>₹649</td>\n",
       "    </tr>\n",
       "    <tr>\n",
       "      <th>24</th>\n",
       "      <td>PUMA</td>\n",
       "      <td>₹2,999</td>\n",
       "    </tr>\n",
       "    <tr>\n",
       "      <th>25</th>\n",
       "      <td>Kraasa</td>\n",
       "      <td>₹499</td>\n",
       "    </tr>\n",
       "    <tr>\n",
       "      <th>26</th>\n",
       "      <td>SPARX</td>\n",
       "      <td>₹799</td>\n",
       "    </tr>\n",
       "    <tr>\n",
       "      <th>27</th>\n",
       "      <td>Jabra</td>\n",
       "      <td>₹499</td>\n",
       "    </tr>\n",
       "    <tr>\n",
       "      <th>28</th>\n",
       "      <td>RapidBox</td>\n",
       "      <td>₹640</td>\n",
       "    </tr>\n",
       "    <tr>\n",
       "      <th>29</th>\n",
       "      <td>World Wear Footwear</td>\n",
       "      <td>₹199</td>\n",
       "    </tr>\n",
       "    <tr>\n",
       "      <th>30</th>\n",
       "      <td>ESSENCE</td>\n",
       "      <td>₹399</td>\n",
       "    </tr>\n",
       "    <tr>\n",
       "      <th>31</th>\n",
       "      <td>Echor</td>\n",
       "      <td>₹499</td>\n",
       "    </tr>\n",
       "    <tr>\n",
       "      <th>32</th>\n",
       "      <td>RINDAS</td>\n",
       "      <td>₹298</td>\n",
       "    </tr>\n",
       "    <tr>\n",
       "      <th>33</th>\n",
       "      <td>BRUTON</td>\n",
       "      <td>₹379</td>\n",
       "    </tr>\n",
       "    <tr>\n",
       "      <th>34</th>\n",
       "      <td>India hub</td>\n",
       "      <td>₹449</td>\n",
       "    </tr>\n",
       "    <tr>\n",
       "      <th>35</th>\n",
       "      <td>Robbie jones</td>\n",
       "      <td>₹499</td>\n",
       "    </tr>\n",
       "    <tr>\n",
       "      <th>36</th>\n",
       "      <td>Robbie jones</td>\n",
       "      <td>₹451</td>\n",
       "    </tr>\n",
       "    <tr>\n",
       "      <th>37</th>\n",
       "      <td>RapidBox</td>\n",
       "      <td>₹630</td>\n",
       "    </tr>\n",
       "    <tr>\n",
       "      <th>38</th>\n",
       "      <td>Lee Won</td>\n",
       "      <td>₹299</td>\n",
       "    </tr>\n",
       "    <tr>\n",
       "      <th>39</th>\n",
       "      <td>Absolute comfort</td>\n",
       "      <td>₹236</td>\n",
       "    </tr>\n",
       "    <tr>\n",
       "      <th>40</th>\n",
       "      <td>Kraasa</td>\n",
       "      <td>₹555</td>\n",
       "    </tr>\n",
       "    <tr>\n",
       "      <th>41</th>\n",
       "      <td>aadi</td>\n",
       "      <td>₹399</td>\n",
       "    </tr>\n",
       "    <tr>\n",
       "      <th>42</th>\n",
       "      <td>SPARX</td>\n",
       "      <td>₹920</td>\n",
       "    </tr>\n",
       "    <tr>\n",
       "      <th>43</th>\n",
       "      <td>believe</td>\n",
       "      <td>₹599</td>\n",
       "    </tr>\n",
       "    <tr>\n",
       "      <th>44</th>\n",
       "      <td>RapidBox</td>\n",
       "      <td>₹680</td>\n",
       "    </tr>\n",
       "    <tr>\n",
       "      <th>45</th>\n",
       "      <td>Kreverse</td>\n",
       "      <td>₹259</td>\n",
       "    </tr>\n",
       "    <tr>\n",
       "      <th>46</th>\n",
       "      <td>India hub</td>\n",
       "      <td>₹429</td>\n",
       "    </tr>\n",
       "    <tr>\n",
       "      <th>47</th>\n",
       "      <td>K- FOOTLANCE</td>\n",
       "      <td>₹489</td>\n",
       "    </tr>\n",
       "    <tr>\n",
       "      <th>48</th>\n",
       "      <td>VENDOZ</td>\n",
       "      <td>₹498</td>\n",
       "    </tr>\n",
       "    <tr>\n",
       "      <th>49</th>\n",
       "      <td>HRDK</td>\n",
       "      <td>₹367</td>\n",
       "    </tr>\n",
       "    <tr>\n",
       "      <th>50</th>\n",
       "      <td>BIRDE</td>\n",
       "      <td>₹599</td>\n",
       "    </tr>\n",
       "    <tr>\n",
       "      <th>51</th>\n",
       "      <td>Echor</td>\n",
       "      <td>₹499</td>\n",
       "    </tr>\n",
       "    <tr>\n",
       "      <th>52</th>\n",
       "      <td>Xentex</td>\n",
       "      <td>₹599</td>\n",
       "    </tr>\n",
       "    <tr>\n",
       "      <th>53</th>\n",
       "      <td>Jabra</td>\n",
       "      <td>₹499</td>\n",
       "    </tr>\n",
       "    <tr>\n",
       "      <th>54</th>\n",
       "      <td>Robbie jones</td>\n",
       "      <td>₹474</td>\n",
       "    </tr>\n",
       "    <tr>\n",
       "      <th>55</th>\n",
       "      <td>WHITE WALKERS</td>\n",
       "      <td>₹599</td>\n",
       "    </tr>\n",
       "    <tr>\n",
       "      <th>56</th>\n",
       "      <td>RODDICK SHOES</td>\n",
       "      <td>₹499</td>\n",
       "    </tr>\n",
       "    <tr>\n",
       "      <th>57</th>\n",
       "      <td>RINDAS</td>\n",
       "      <td>₹438</td>\n",
       "    </tr>\n",
       "    <tr>\n",
       "      <th>58</th>\n",
       "      <td>MILESWALKER</td>\n",
       "      <td>₹448</td>\n",
       "    </tr>\n",
       "    <tr>\n",
       "      <th>59</th>\n",
       "      <td>Xtoon</td>\n",
       "      <td>₹499</td>\n",
       "    </tr>\n",
       "    <tr>\n",
       "      <th>60</th>\n",
       "      <td>SPARX</td>\n",
       "      <td>₹799</td>\n",
       "    </tr>\n",
       "    <tr>\n",
       "      <th>61</th>\n",
       "      <td>Xentex</td>\n",
       "      <td>₹494</td>\n",
       "    </tr>\n",
       "    <tr>\n",
       "      <th>62</th>\n",
       "      <td>Zorth</td>\n",
       "      <td>₹499</td>\n",
       "    </tr>\n",
       "    <tr>\n",
       "      <th>63</th>\n",
       "      <td>LE GREEM</td>\n",
       "      <td>₹449</td>\n",
       "    </tr>\n",
       "    <tr>\n",
       "      <th>64</th>\n",
       "      <td>Deals4you</td>\n",
       "      <td>₹427</td>\n",
       "    </tr>\n",
       "    <tr>\n",
       "      <th>65</th>\n",
       "      <td>BRUTON</td>\n",
       "      <td>₹592</td>\n",
       "    </tr>\n",
       "    <tr>\n",
       "      <th>66</th>\n",
       "      <td>World Wear Footwear</td>\n",
       "      <td>₹599</td>\n",
       "    </tr>\n",
       "    <tr>\n",
       "      <th>67</th>\n",
       "      <td>Airland</td>\n",
       "      <td>₹190</td>\n",
       "    </tr>\n",
       "    <tr>\n",
       "      <th>68</th>\n",
       "      <td>Vellinto</td>\n",
       "      <td>₹749</td>\n",
       "    </tr>\n",
       "    <tr>\n",
       "      <th>69</th>\n",
       "      <td>SPARX</td>\n",
       "      <td>₹800</td>\n",
       "    </tr>\n",
       "    <tr>\n",
       "      <th>70</th>\n",
       "      <td>ASIAN</td>\n",
       "      <td>₹499</td>\n",
       "    </tr>\n",
       "    <tr>\n",
       "      <th>71</th>\n",
       "      <td>HOC</td>\n",
       "      <td>₹429</td>\n",
       "    </tr>\n",
       "    <tr>\n",
       "      <th>72</th>\n",
       "      <td>Dizzler</td>\n",
       "      <td>₹495</td>\n",
       "    </tr>\n",
       "    <tr>\n",
       "      <th>73</th>\n",
       "      <td>KANEGGYE</td>\n",
       "      <td>₹399</td>\n",
       "    </tr>\n",
       "    <tr>\n",
       "      <th>74</th>\n",
       "      <td>ESSENCE</td>\n",
       "      <td>₹399</td>\n",
       "    </tr>\n",
       "    <tr>\n",
       "      <th>75</th>\n",
       "      <td>OMIKA</td>\n",
       "      <td>₹399</td>\n",
       "    </tr>\n",
       "    <tr>\n",
       "      <th>76</th>\n",
       "      <td>BRUTON</td>\n",
       "      <td>₹341</td>\n",
       "    </tr>\n",
       "    <tr>\n",
       "      <th>77</th>\n",
       "      <td>Echor</td>\n",
       "      <td>₹386</td>\n",
       "    </tr>\n",
       "    <tr>\n",
       "      <th>78</th>\n",
       "      <td>FEWROK</td>\n",
       "      <td>₹429</td>\n",
       "    </tr>\n",
       "    <tr>\n",
       "      <th>79</th>\n",
       "      <td>RapidBox</td>\n",
       "      <td>₹630</td>\n",
       "    </tr>\n",
       "    <tr>\n",
       "      <th>80</th>\n",
       "      <td>K' Footlance</td>\n",
       "      <td>₹449</td>\n",
       "    </tr>\n",
       "    <tr>\n",
       "      <th>81</th>\n",
       "      <td>Creattoes</td>\n",
       "      <td>₹288</td>\n",
       "    </tr>\n",
       "    <tr>\n",
       "      <th>82</th>\n",
       "      <td>Qtsy</td>\n",
       "      <td>₹279</td>\n",
       "    </tr>\n",
       "    <tr>\n",
       "      <th>83</th>\n",
       "      <td>PUMA</td>\n",
       "      <td>₹3,892</td>\n",
       "    </tr>\n",
       "    <tr>\n",
       "      <th>84</th>\n",
       "      <td>Next INN</td>\n",
       "      <td>₹445</td>\n",
       "    </tr>\n",
       "    <tr>\n",
       "      <th>85</th>\n",
       "      <td>Kzaara</td>\n",
       "      <td>₹399</td>\n",
       "    </tr>\n",
       "    <tr>\n",
       "      <th>86</th>\n",
       "      <td>WHITE WALKERS</td>\n",
       "      <td>₹599</td>\n",
       "    </tr>\n",
       "    <tr>\n",
       "      <th>87</th>\n",
       "      <td>SPARX</td>\n",
       "      <td>₹739</td>\n",
       "    </tr>\n",
       "    <tr>\n",
       "      <th>88</th>\n",
       "      <td>Alishtezia</td>\n",
       "      <td>₹424</td>\n",
       "    </tr>\n",
       "    <tr>\n",
       "      <th>89</th>\n",
       "      <td>TWIN TOES</td>\n",
       "      <td>₹399</td>\n",
       "    </tr>\n",
       "    <tr>\n",
       "      <th>90</th>\n",
       "      <td>PEHANOSA</td>\n",
       "      <td>₹449</td>\n",
       "    </tr>\n",
       "    <tr>\n",
       "      <th>91</th>\n",
       "      <td>ALiVE</td>\n",
       "      <td>₹710</td>\n",
       "    </tr>\n",
       "    <tr>\n",
       "      <th>92</th>\n",
       "      <td>ASIAN</td>\n",
       "      <td>₹999</td>\n",
       "    </tr>\n",
       "    <tr>\n",
       "      <th>93</th>\n",
       "      <td>BRUTON</td>\n",
       "      <td>₹312</td>\n",
       "    </tr>\n",
       "    <tr>\n",
       "      <th>94</th>\n",
       "      <td>Deals4you</td>\n",
       "      <td>₹499</td>\n",
       "    </tr>\n",
       "    <tr>\n",
       "      <th>95</th>\n",
       "      <td>Eliq</td>\n",
       "      <td>₹233</td>\n",
       "    </tr>\n",
       "    <tr>\n",
       "      <th>96</th>\n",
       "      <td>ASIAN</td>\n",
       "      <td>₹1,149</td>\n",
       "    </tr>\n",
       "    <tr>\n",
       "      <th>97</th>\n",
       "      <td>BRUTON</td>\n",
       "      <td>₹359</td>\n",
       "    </tr>\n",
       "    <tr>\n",
       "      <th>98</th>\n",
       "      <td>Numenzo</td>\n",
       "      <td>₹499</td>\n",
       "    </tr>\n",
       "    <tr>\n",
       "      <th>99</th>\n",
       "      <td>ASIAN</td>\n",
       "      <td>₹499</td>\n",
       "    </tr>\n",
       "  </tbody>\n",
       "</table>\n",
       "</div>"
      ],
      "text/plain": [
       "                  Brand   Price\n",
       "0              URBANBOX    ₹220\n",
       "1              Magnolia    ₹398\n",
       "2        luxury fashion    ₹449\n",
       "3                Labbin    ₹499\n",
       "4          Stefano Rads    ₹242\n",
       "5               Numenzo    ₹499\n",
       "6             Trendmode    ₹359\n",
       "7            Shoes Bank    ₹331\n",
       "8                Extoes    ₹948\n",
       "9            D-SNEAKERZ    ₹348\n",
       "10            SCATCHITE    ₹398\n",
       "11             ASTEROID    ₹499\n",
       "12                Pieds    ₹449\n",
       "13             HOTSTYLE    ₹298\n",
       "14                Arohi    ₹398\n",
       "15      ganpati traders    ₹189\n",
       "16              Numenzo    ₹407\n",
       "17         Robbie jones    ₹474\n",
       "18                   TR    ₹599\n",
       "19             ASTEROID    ₹499\n",
       "20               Rzisbo    ₹574\n",
       "21               Kraasa    ₹499\n",
       "22                BIRDE    ₹299\n",
       "23                CLYMB    ₹649\n",
       "24                 PUMA  ₹2,999\n",
       "25               Kraasa    ₹499\n",
       "26                SPARX    ₹799\n",
       "27                Jabra    ₹499\n",
       "28             RapidBox    ₹640\n",
       "29  World Wear Footwear    ₹199\n",
       "30              ESSENCE    ₹399\n",
       "31                Echor    ₹499\n",
       "32               RINDAS    ₹298\n",
       "33               BRUTON    ₹379\n",
       "34            India hub    ₹449\n",
       "35         Robbie jones    ₹499\n",
       "36         Robbie jones    ₹451\n",
       "37             RapidBox    ₹630\n",
       "38              Lee Won    ₹299\n",
       "39     Absolute comfort    ₹236\n",
       "40               Kraasa    ₹555\n",
       "41                 aadi    ₹399\n",
       "42                SPARX    ₹920\n",
       "43              believe    ₹599\n",
       "44             RapidBox    ₹680\n",
       "45             Kreverse    ₹259\n",
       "46            India hub    ₹429\n",
       "47         K- FOOTLANCE    ₹489\n",
       "48               VENDOZ    ₹498\n",
       "49                 HRDK    ₹367\n",
       "50                BIRDE    ₹599\n",
       "51                Echor    ₹499\n",
       "52               Xentex    ₹599\n",
       "53                Jabra    ₹499\n",
       "54         Robbie jones    ₹474\n",
       "55        WHITE WALKERS    ₹599\n",
       "56        RODDICK SHOES    ₹499\n",
       "57               RINDAS    ₹438\n",
       "58          MILESWALKER    ₹448\n",
       "59                Xtoon    ₹499\n",
       "60                SPARX    ₹799\n",
       "61               Xentex    ₹494\n",
       "62                Zorth    ₹499\n",
       "63             LE GREEM    ₹449\n",
       "64            Deals4you    ₹427\n",
       "65               BRUTON    ₹592\n",
       "66  World Wear Footwear    ₹599\n",
       "67              Airland    ₹190\n",
       "68             Vellinto    ₹749\n",
       "69                SPARX    ₹800\n",
       "70                ASIAN    ₹499\n",
       "71                  HOC    ₹429\n",
       "72              Dizzler    ₹495\n",
       "73             KANEGGYE    ₹399\n",
       "74              ESSENCE    ₹399\n",
       "75                OMIKA    ₹399\n",
       "76               BRUTON    ₹341\n",
       "77                Echor    ₹386\n",
       "78               FEWROK    ₹429\n",
       "79             RapidBox    ₹630\n",
       "80         K' Footlance    ₹449\n",
       "81            Creattoes    ₹288\n",
       "82                 Qtsy    ₹279\n",
       "83                 PUMA  ₹3,892\n",
       "84             Next INN    ₹445\n",
       "85               Kzaara    ₹399\n",
       "86        WHITE WALKERS    ₹599\n",
       "87                SPARX    ₹739\n",
       "88           Alishtezia    ₹424\n",
       "89            TWIN TOES    ₹399\n",
       "90             PEHANOSA    ₹449\n",
       "91                ALiVE    ₹710\n",
       "92                ASIAN    ₹999\n",
       "93               BRUTON    ₹312\n",
       "94            Deals4you    ₹499\n",
       "95                 Eliq    ₹233\n",
       "96                ASIAN  ₹1,149\n",
       "97               BRUTON    ₹359\n",
       "98              Numenzo    ₹499\n",
       "99                ASIAN    ₹499"
      ]
     },
     "execution_count": 22,
     "metadata": {},
     "output_type": "execute_result"
    }
   ],
   "source": [
    "#Making DataFrame\n",
    "sneakers= pd.DataFrame({'Brand': brand, 'Price':price})\n",
    "sneakers"
   ]
  },
  {
   "cell_type": "markdown",
   "metadata": {},
   "source": [
    "# 7- myntra/shoes"
   ]
  },
  {
   "cell_type": "code",
   "execution_count": 41,
   "metadata": {},
   "outputs": [
    {
     "data": {
      "text/plain": [
       "<selenium.webdriver.chrome.webdriver.WebDriver (session=\"73c52764a30aa23b68aba59251147069\")>"
      ]
     },
     "execution_count": 41,
     "metadata": {},
     "output_type": "execute_result"
    }
   ],
   "source": [
    "#importing chromedriver\n",
    "driver= webdriver.Chrome(\"D:\\Inernship\\chromedriver.exe\")\n",
    "driver"
   ]
  },
  {
   "cell_type": "code",
   "execution_count": 42,
   "metadata": {},
   "outputs": [],
   "source": [
    "#getting Url\n",
    "url= 'https://www.myntra.com/shoes'\n",
    "driver.get(url)"
   ]
  },
  {
   "cell_type": "code",
   "execution_count": 43,
   "metadata": {},
   "outputs": [
    {
     "data": {
      "text/plain": [
       "<selenium.webdriver.remote.webelement.WebElement (session=\"73c52764a30aa23b68aba59251147069\", element=\"6dbc1ee9-ecfa-4bcc-abf0-5f58c8a450d1\")>"
      ]
     },
     "execution_count": 43,
     "metadata": {},
     "output_type": "execute_result"
    }
   ],
   "source": [
    "price_filter= driver.find_element_by_xpath('/html/body/div[2]/div/div[1]/main/div[3]/div[1]/section/div/div[5]/ul/li[2]/label')\n",
    "price_filter"
   ]
  },
  {
   "cell_type": "code",
   "execution_count": 44,
   "metadata": {},
   "outputs": [],
   "source": [
    "price_filter.click()"
   ]
  },
  {
   "cell_type": "code",
   "execution_count": 45,
   "metadata": {},
   "outputs": [
    {
     "data": {
      "text/plain": [
       "<selenium.webdriver.remote.webelement.WebElement (session=\"73c52764a30aa23b68aba59251147069\", element=\"e89618bd-b065-4817-9929-db4faa76dc9c\")>"
      ]
     },
     "execution_count": 45,
     "metadata": {},
     "output_type": "execute_result"
    }
   ],
   "source": [
    "color_filter= driver.find_element_by_xpath(\"/html/body/div[2]/div/div[1]/main/div[3]/div[1]/section/div/div[6]/ul/li[1]/label\")\n",
    "color_filter"
   ]
  },
  {
   "cell_type": "code",
   "execution_count": 46,
   "metadata": {},
   "outputs": [],
   "source": [
    "color_filter.click()"
   ]
  },
  {
   "cell_type": "code",
   "execution_count": 59,
   "metadata": {},
   "outputs": [
    {
     "name": "stdout",
     "output_type": "stream",
     "text": [
      "50\n",
      "50\n",
      "50\n"
     ]
    }
   ],
   "source": [
    "# Page 1 \n",
    "\n",
    "a= []\n",
    "for i in driver.find_elements_by_xpath('//h3[@class=\"product-brand\"]'):      #product brand\n",
    "    a.append(i.text)\n",
    "print(len(a))\n",
    "    \n",
    "x=[]\n",
    "for j in driver.find_elements_by_xpath('//h4[@class=\"product-product\"]'):    #product description \n",
    "    x.append(j.text)\n",
    "print(len(x))\n",
    "\n",
    "p= []\n",
    "for k in driver.find_elements_by_xpath('//div[@class=\"product-price\"]'):     #product price\n",
    "    p.append(k.text)\n",
    "print(len(p))"
   ]
  },
  {
   "cell_type": "code",
   "execution_count": 49,
   "metadata": {},
   "outputs": [
    {
     "data": {
      "text/plain": [
       "<selenium.webdriver.remote.webelement.WebElement (session=\"73c52764a30aa23b68aba59251147069\", element=\"e35eb4fc-d83a-41fd-82d1-55d796cfd253\")>"
      ]
     },
     "execution_count": 49,
     "metadata": {},
     "output_type": "execute_result"
    }
   ],
   "source": [
    "next_btn= driver.find_element_by_xpath(\"/html/body/div[2]/div/div[1]/main/div[3]/div[2]/div/div[2]/section/div[2]/ul/li[12]\")\n",
    "next_btn"
   ]
  },
  {
   "cell_type": "code",
   "execution_count": 50,
   "metadata": {},
   "outputs": [],
   "source": [
    "#click on next button\n",
    "next_btn.click()"
   ]
  },
  {
   "cell_type": "code",
   "execution_count": 51,
   "metadata": {},
   "outputs": [
    {
     "name": "stdout",
     "output_type": "stream",
     "text": [
      "50\n",
      "50\n",
      "50\n"
     ]
    }
   ],
   "source": [
    "# Page 2\n",
    "\n",
    "b= []\n",
    "for i in driver.find_elements_by_xpath('//h3[@class=\"product-brand\"]'):\n",
    "    b.append(i.text)\n",
    "print(len(b))    \n",
    "    \n",
    "y=[]\n",
    "for j in driver.find_elements_by_xpath('//h4[@class=\"product-product\"]'):\n",
    "    y.append(j.text)\n",
    "print(len(y))\n",
    "\n",
    "q= []\n",
    "for k in driver.find_elements_by_xpath('//div[@class=\"product-price\"]'):\n",
    "    q.append(k.text)\n",
    "print(len(q))"
   ]
  },
  {
   "cell_type": "code",
   "execution_count": 52,
   "metadata": {},
   "outputs": [],
   "source": [
    "# combines the all 2 pages data\n",
    "brand= a+b"
   ]
  },
  {
   "cell_type": "code",
   "execution_count": 53,
   "metadata": {},
   "outputs": [],
   "source": [
    "# combines the all 2 pages data\n",
    "product_description= x+y"
   ]
  },
  {
   "cell_type": "code",
   "execution_count": 54,
   "metadata": {},
   "outputs": [],
   "source": [
    "# combines the all 2 pages data\n",
    "price= p+q"
   ]
  },
  {
   "cell_type": "code",
   "execution_count": 55,
   "metadata": {},
   "outputs": [
    {
     "name": "stdout",
     "output_type": "stream",
     "text": [
      "100 100 100\n"
     ]
    }
   ],
   "source": [
    "# Finding length\n",
    "print(len(brand), len(price), len(product_description))"
   ]
  },
  {
   "cell_type": "code",
   "execution_count": 56,
   "metadata": {},
   "outputs": [],
   "source": [
    "pd.set_option('display.max_rows', None)"
   ]
  },
  {
   "cell_type": "code",
   "execution_count": 57,
   "metadata": {},
   "outputs": [
    {
     "data": {
      "text/html": [
       "<div>\n",
       "<style scoped>\n",
       "    .dataframe tbody tr th:only-of-type {\n",
       "        vertical-align: middle;\n",
       "    }\n",
       "\n",
       "    .dataframe tbody tr th {\n",
       "        vertical-align: top;\n",
       "    }\n",
       "\n",
       "    .dataframe thead th {\n",
       "        text-align: right;\n",
       "    }\n",
       "</style>\n",
       "<table border=\"1\" class=\"dataframe\">\n",
       "  <thead>\n",
       "    <tr style=\"text-align: right;\">\n",
       "      <th></th>\n",
       "      <th>Brand</th>\n",
       "      <th>Product_Description</th>\n",
       "      <th>Price</th>\n",
       "    </tr>\n",
       "  </thead>\n",
       "  <tbody>\n",
       "    <tr>\n",
       "      <th>0</th>\n",
       "      <td>Puma</td>\n",
       "      <td>Men Running Shoes</td>\n",
       "      <td>Rs. 7149Rs. 12999(45% OFF)</td>\n",
       "    </tr>\n",
       "    <tr>\n",
       "      <th>1</th>\n",
       "      <td>Hush Puppies</td>\n",
       "      <td>Men Solid Leather Formal Slip-Ons</td>\n",
       "      <td>Rs. 8999</td>\n",
       "    </tr>\n",
       "    <tr>\n",
       "      <th>2</th>\n",
       "      <td>Puma</td>\n",
       "      <td>Men Magnify Nitro Running</td>\n",
       "      <td>Rs. 8449Rs. 12999(35% OFF)</td>\n",
       "    </tr>\n",
       "    <tr>\n",
       "      <th>3</th>\n",
       "      <td>Puma</td>\n",
       "      <td>Women Magnify Nitro Shoes</td>\n",
       "      <td>Rs. 8449Rs. 12999(35% OFF)</td>\n",
       "    </tr>\n",
       "    <tr>\n",
       "      <th>4</th>\n",
       "      <td>Saint G</td>\n",
       "      <td>Men Mid-Top Chelsea Boots</td>\n",
       "      <td>Rs. 9810Rs. 10900(10% OFF)</td>\n",
       "    </tr>\n",
       "    <tr>\n",
       "      <th>5</th>\n",
       "      <td>Calvin Klein</td>\n",
       "      <td>Men Solid Suede Sneakers</td>\n",
       "      <td>Rs. 7999</td>\n",
       "    </tr>\n",
       "    <tr>\n",
       "      <th>6</th>\n",
       "      <td>RARE RABBIT</td>\n",
       "      <td>Men Leather Flat Boots</td>\n",
       "      <td>Rs. 7999Rs. 9999(20% OFF)</td>\n",
       "    </tr>\n",
       "    <tr>\n",
       "      <th>7</th>\n",
       "      <td>MANGO</td>\n",
       "      <td>Women WovenDesign Sports Shoes</td>\n",
       "      <td>Rs. 7191Rs. 7990(10% OFF)</td>\n",
       "    </tr>\n",
       "    <tr>\n",
       "      <th>8</th>\n",
       "      <td>DAVINCHI</td>\n",
       "      <td>Men Solid Leather Formal Derbys</td>\n",
       "      <td>Rs. 8990</td>\n",
       "    </tr>\n",
       "    <tr>\n",
       "      <th>9</th>\n",
       "      <td>Bugatti</td>\n",
       "      <td>Men Textured Leather High-Top Flat Boots</td>\n",
       "      <td>Rs. 8399Rs. 11999(30% OFF)</td>\n",
       "    </tr>\n",
       "    <tr>\n",
       "      <th>10</th>\n",
       "      <td>Bugatti</td>\n",
       "      <td>Men Running Shoes</td>\n",
       "      <td>Rs. 7999Rs. 9999(20% OFF)</td>\n",
       "    </tr>\n",
       "    <tr>\n",
       "      <th>11</th>\n",
       "      <td>Bugatti</td>\n",
       "      <td>Men Black Walking Shoes</td>\n",
       "      <td>Rs. 7199Rs. 8999(20% OFF)</td>\n",
       "    </tr>\n",
       "    <tr>\n",
       "      <th>12</th>\n",
       "      <td>Saint G</td>\n",
       "      <td>Women Leather Heeled Boots</td>\n",
       "      <td>Rs. 13410Rs. 14900(10% OFF)</td>\n",
       "    </tr>\n",
       "    <tr>\n",
       "      <th>13</th>\n",
       "      <td>ASICS</td>\n",
       "      <td>Men Colourblocked PU Sneakers</td>\n",
       "      <td>Rs. 9999</td>\n",
       "    </tr>\n",
       "    <tr>\n",
       "      <th>14</th>\n",
       "      <td>Geox</td>\n",
       "      <td>Men Leather Flat Boots</td>\n",
       "      <td>Rs. 8399Rs. 11999(30% OFF)</td>\n",
       "    </tr>\n",
       "    <tr>\n",
       "      <th>15</th>\n",
       "      <td>J.FONTINI</td>\n",
       "      <td>Men Textured Leather Loafers</td>\n",
       "      <td>Rs. 7990</td>\n",
       "    </tr>\n",
       "    <tr>\n",
       "      <th>16</th>\n",
       "      <td>DAVINCHI</td>\n",
       "      <td>Men Textured Formal Leather Loafers</td>\n",
       "      <td>Rs. 8990</td>\n",
       "    </tr>\n",
       "    <tr>\n",
       "      <th>17</th>\n",
       "      <td>RARE RABBIT</td>\n",
       "      <td>Men Textured Leather Loafers</td>\n",
       "      <td>Rs. 7149Rs. 10999(35% OFF)</td>\n",
       "    </tr>\n",
       "    <tr>\n",
       "      <th>18</th>\n",
       "      <td>Heel &amp; Buckle London</td>\n",
       "      <td>Men Formal Leather Derby</td>\n",
       "      <td>Rs. 7990</td>\n",
       "    </tr>\n",
       "    <tr>\n",
       "      <th>19</th>\n",
       "      <td>MANGO</td>\n",
       "      <td>Women Leather Penny Loafers</td>\n",
       "      <td>Rs. 7191Rs. 7990(10% OFF)</td>\n",
       "    </tr>\n",
       "    <tr>\n",
       "      <th>20</th>\n",
       "      <td>Saint G</td>\n",
       "      <td>Suede High-Top Flatform Heeled Boots</td>\n",
       "      <td>Rs. 12150Rs. 13500(10% OFF)</td>\n",
       "    </tr>\n",
       "    <tr>\n",
       "      <th>21</th>\n",
       "      <td>Saint G</td>\n",
       "      <td>Leather Platform Heeled Boots</td>\n",
       "      <td>Rs. 9810Rs. 10900(10% OFF)</td>\n",
       "    </tr>\n",
       "    <tr>\n",
       "      <th>22</th>\n",
       "      <td>Saint G</td>\n",
       "      <td>Embellished Leather Block Heeled Boots</td>\n",
       "      <td>Rs. 9546Rs. 12900(26% OFF)</td>\n",
       "    </tr>\n",
       "    <tr>\n",
       "      <th>23</th>\n",
       "      <td>Geox</td>\n",
       "      <td>Women Leather Pumps</td>\n",
       "      <td>Rs. 8999</td>\n",
       "    </tr>\n",
       "    <tr>\n",
       "      <th>24</th>\n",
       "      <td>Puma</td>\n",
       "      <td>Women Velocity NITRO Runners</td>\n",
       "      <td>Rs. 7699Rs. 10999(30% OFF)</td>\n",
       "    </tr>\n",
       "    <tr>\n",
       "      <th>25</th>\n",
       "      <td>Columbia</td>\n",
       "      <td>PEAKFREAK OUTDRY Trekking Shoe</td>\n",
       "      <td>Rs. 9999</td>\n",
       "    </tr>\n",
       "    <tr>\n",
       "      <th>26</th>\n",
       "      <td>Tommy Hilfiger</td>\n",
       "      <td>Women Hybrid Leather Sneakers</td>\n",
       "      <td>Rs. 7999</td>\n",
       "    </tr>\n",
       "    <tr>\n",
       "      <th>27</th>\n",
       "      <td>Cole Haan</td>\n",
       "      <td>Men GENERATION ZEROGRAND STITCHLITE</td>\n",
       "      <td>Rs. 11999</td>\n",
       "    </tr>\n",
       "    <tr>\n",
       "      <th>28</th>\n",
       "      <td>Xtep</td>\n",
       "      <td>Men Running Shoes</td>\n",
       "      <td>Rs. 7699</td>\n",
       "    </tr>\n",
       "    <tr>\n",
       "      <th>29</th>\n",
       "      <td>J.FONTINI</td>\n",
       "      <td>Men Textured Leather Loafers</td>\n",
       "      <td>Rs. 7990</td>\n",
       "    </tr>\n",
       "    <tr>\n",
       "      <th>30</th>\n",
       "      <td>J.FONTINI</td>\n",
       "      <td>Men Black Leather Loafers</td>\n",
       "      <td>Rs. 8490</td>\n",
       "    </tr>\n",
       "    <tr>\n",
       "      <th>31</th>\n",
       "      <td>Geox</td>\n",
       "      <td>Men Leather Loafers</td>\n",
       "      <td>Rs. 9999</td>\n",
       "    </tr>\n",
       "    <tr>\n",
       "      <th>32</th>\n",
       "      <td>Geox</td>\n",
       "      <td>Women Solid Leather Pumps</td>\n",
       "      <td>Rs. 7999</td>\n",
       "    </tr>\n",
       "    <tr>\n",
       "      <th>33</th>\n",
       "      <td>DAVINCHI</td>\n",
       "      <td>Ustraa black</td>\n",
       "      <td>Rs. 8990</td>\n",
       "    </tr>\n",
       "    <tr>\n",
       "      <th>34</th>\n",
       "      <td>DAVINCHI</td>\n",
       "      <td>Men Formal Leather Slip-Ons</td>\n",
       "      <td>Rs. 8990</td>\n",
       "    </tr>\n",
       "    <tr>\n",
       "      <th>35</th>\n",
       "      <td>Geox</td>\n",
       "      <td>Women Solid Leather Pumps</td>\n",
       "      <td>Rs. 10990</td>\n",
       "    </tr>\n",
       "    <tr>\n",
       "      <th>36</th>\n",
       "      <td>Pavers England</td>\n",
       "      <td>Men Leather Driving Shoes</td>\n",
       "      <td>Rs. 7499</td>\n",
       "    </tr>\n",
       "    <tr>\n",
       "      <th>37</th>\n",
       "      <td>DAVINCHI</td>\n",
       "      <td>Men Textured Formal Leather Loafers</td>\n",
       "      <td>Rs. 8990</td>\n",
       "    </tr>\n",
       "    <tr>\n",
       "      <th>38</th>\n",
       "      <td>Saint G</td>\n",
       "      <td>Men Leather Chelsea Boots</td>\n",
       "      <td>Rs. 10710Rs. 11900(10% OFF)</td>\n",
       "    </tr>\n",
       "    <tr>\n",
       "      <th>39</th>\n",
       "      <td>Geox</td>\n",
       "      <td>Men Leather Formal Derbys</td>\n",
       "      <td>Rs. 8399Rs. 11999(30% OFF)</td>\n",
       "    </tr>\n",
       "    <tr>\n",
       "      <th>40</th>\n",
       "      <td>Cole Haan</td>\n",
       "      <td>Women Open Toe Flats</td>\n",
       "      <td>Rs. 11999</td>\n",
       "    </tr>\n",
       "    <tr>\n",
       "      <th>41</th>\n",
       "      <td>Geox</td>\n",
       "      <td>Women Solid Leather Ballerinas</td>\n",
       "      <td>Rs. 8999</td>\n",
       "    </tr>\n",
       "    <tr>\n",
       "      <th>42</th>\n",
       "      <td>Cole Haan</td>\n",
       "      <td>Women Solid Leather Ballerinas</td>\n",
       "      <td>Rs. 13999</td>\n",
       "    </tr>\n",
       "    <tr>\n",
       "      <th>43</th>\n",
       "      <td>DAVINCHI</td>\n",
       "      <td>Men Textured Leather Formal Slip-Ons</td>\n",
       "      <td>Rs. 8990</td>\n",
       "    </tr>\n",
       "    <tr>\n",
       "      <th>44</th>\n",
       "      <td>Saint G</td>\n",
       "      <td>Leather Wedge Heeled Boots with Buckles</td>\n",
       "      <td>Rs. 13410Rs. 14900(10% OFF)</td>\n",
       "    </tr>\n",
       "    <tr>\n",
       "      <th>45</th>\n",
       "      <td>Saint G</td>\n",
       "      <td>Leather Block Heeled Boots</td>\n",
       "      <td>Rs. 8550Rs. 9500(Rs. 950 OFF)</td>\n",
       "    </tr>\n",
       "    <tr>\n",
       "      <th>46</th>\n",
       "      <td>Saint G</td>\n",
       "      <td>Leather Kitten Heeled Boots</td>\n",
       "      <td>Rs. 8910Rs. 9900(Rs. 990 OFF)</td>\n",
       "    </tr>\n",
       "    <tr>\n",
       "      <th>47</th>\n",
       "      <td>Saint G</td>\n",
       "      <td>Leather Block Heeled Boots with Bows</td>\n",
       "      <td>Rs. 12510Rs. 13900(10% OFF)</td>\n",
       "    </tr>\n",
       "    <tr>\n",
       "      <th>48</th>\n",
       "      <td>Saint G</td>\n",
       "      <td>Suede Party High-Top Block Heeled Boots</td>\n",
       "      <td>Rs. 9450Rs. 10500(10% OFF)</td>\n",
       "    </tr>\n",
       "    <tr>\n",
       "      <th>49</th>\n",
       "      <td>Saint G</td>\n",
       "      <td>Textured Leather Party Kitten Heeled Boots</td>\n",
       "      <td>Rs. 11954Rs. 13900(14% OFF)</td>\n",
       "    </tr>\n",
       "    <tr>\n",
       "      <th>50</th>\n",
       "      <td>Saint G</td>\n",
       "      <td>Textured Leather Party Kitten Heeled Boots</td>\n",
       "      <td>Rs. 11954Rs. 13900(14% OFF)</td>\n",
       "    </tr>\n",
       "    <tr>\n",
       "      <th>51</th>\n",
       "      <td>Pavers England</td>\n",
       "      <td>Men Textured Leather Formal Slip-On Shoes</td>\n",
       "      <td>Rs. 9999</td>\n",
       "    </tr>\n",
       "    <tr>\n",
       "      <th>52</th>\n",
       "      <td>Pavers England</td>\n",
       "      <td>Men Solid Leather Formal Loafers</td>\n",
       "      <td>Rs. 7999</td>\n",
       "    </tr>\n",
       "    <tr>\n",
       "      <th>53</th>\n",
       "      <td>Saint G</td>\n",
       "      <td>Leather Boots with Buckles</td>\n",
       "      <td>Rs. 8505Rs. 10500(19% OFF)</td>\n",
       "    </tr>\n",
       "    <tr>\n",
       "      <th>54</th>\n",
       "      <td>Pavers England</td>\n",
       "      <td>Men Solid Leather Formal Derbys</td>\n",
       "      <td>Rs. 8999</td>\n",
       "    </tr>\n",
       "    <tr>\n",
       "      <th>55</th>\n",
       "      <td>Saint G</td>\n",
       "      <td>Woman Black Leather Boots</td>\n",
       "      <td>Rs. 11250Rs. 12500(10% OFF)</td>\n",
       "    </tr>\n",
       "    <tr>\n",
       "      <th>56</th>\n",
       "      <td>Saint G</td>\n",
       "      <td>Women High-Top Heeled Boots</td>\n",
       "      <td>Rs. 9869Rs. 13900(29% OFF)</td>\n",
       "    </tr>\n",
       "    <tr>\n",
       "      <th>57</th>\n",
       "      <td>Geox</td>\n",
       "      <td>Women Chunky Sneakers</td>\n",
       "      <td>Rs. 9999</td>\n",
       "    </tr>\n",
       "    <tr>\n",
       "      <th>58</th>\n",
       "      <td>Saint G</td>\n",
       "      <td>Leather Block Heeled Boots with Buckles</td>\n",
       "      <td>Rs. 9810Rs. 10900(10% OFF)</td>\n",
       "    </tr>\n",
       "    <tr>\n",
       "      <th>59</th>\n",
       "      <td>Saint G</td>\n",
       "      <td>Embellished Flatform Boots</td>\n",
       "      <td>Rs. 8505Rs. 10500(19% OFF)</td>\n",
       "    </tr>\n",
       "    <tr>\n",
       "      <th>60</th>\n",
       "      <td>Heel &amp; Buckle London</td>\n",
       "      <td>Men Solid Leather Formal Loafers</td>\n",
       "      <td>Rs. 11990</td>\n",
       "    </tr>\n",
       "    <tr>\n",
       "      <th>61</th>\n",
       "      <td>Saint G</td>\n",
       "      <td>Leather Block Heeled Boots</td>\n",
       "      <td>Rs. 9810Rs. 10900(Rs. 1090 OFF)</td>\n",
       "    </tr>\n",
       "    <tr>\n",
       "      <th>62</th>\n",
       "      <td>Geox</td>\n",
       "      <td>Women Leather High-Top Flat Boots</td>\n",
       "      <td>Rs. 10499Rs. 14999(30% OFF)</td>\n",
       "    </tr>\n",
       "    <tr>\n",
       "      <th>63</th>\n",
       "      <td>fitflop</td>\n",
       "      <td>Women Textured Slip-On Sneakers</td>\n",
       "      <td>Rs. 7999</td>\n",
       "    </tr>\n",
       "    <tr>\n",
       "      <th>64</th>\n",
       "      <td>Cole Haan</td>\n",
       "      <td>Women Leather Sneakers</td>\n",
       "      <td>Rs. 10999</td>\n",
       "    </tr>\n",
       "    <tr>\n",
       "      <th>65</th>\n",
       "      <td>Nike</td>\n",
       "      <td>Men Zoom Span 4 Running Shoes</td>\n",
       "      <td>Rs. 7195</td>\n",
       "    </tr>\n",
       "    <tr>\n",
       "      <th>66</th>\n",
       "      <td>ALDO</td>\n",
       "      <td>Men Printed Sneakers</td>\n",
       "      <td>Rs. 9099Rs. 12999(30% OFF)</td>\n",
       "    </tr>\n",
       "    <tr>\n",
       "      <th>67</th>\n",
       "      <td>Hush Puppies</td>\n",
       "      <td>Men Solid Leather Formal Slip-Ons</td>\n",
       "      <td>Rs. 9999</td>\n",
       "    </tr>\n",
       "    <tr>\n",
       "      <th>68</th>\n",
       "      <td>Skechers</td>\n",
       "      <td>Men Balance Anchor Walking</td>\n",
       "      <td>Rs. 8499Rs. 9999(15% OFF)</td>\n",
       "    </tr>\n",
       "    <tr>\n",
       "      <th>69</th>\n",
       "      <td>Nike</td>\n",
       "      <td>Men BlazerLow '77 Sneakers</td>\n",
       "      <td>Rs. 7195</td>\n",
       "    </tr>\n",
       "    <tr>\n",
       "      <th>70</th>\n",
       "      <td>Skechers</td>\n",
       "      <td>Men Go Run Hyper Burst Running</td>\n",
       "      <td>Rs. 7224Rs. 8499(15% OFF)</td>\n",
       "    </tr>\n",
       "    <tr>\n",
       "      <th>71</th>\n",
       "      <td>Hush Puppies</td>\n",
       "      <td>Men Leather Derbys</td>\n",
       "      <td>Rs. 7999</td>\n",
       "    </tr>\n",
       "    <tr>\n",
       "      <th>72</th>\n",
       "      <td>Hush Puppies</td>\n",
       "      <td>Men Formal Derbys</td>\n",
       "      <td>Rs. 9999</td>\n",
       "    </tr>\n",
       "    <tr>\n",
       "      <th>73</th>\n",
       "      <td>Hush Puppies</td>\n",
       "      <td>Men Solid Leather Formal Derbys</td>\n",
       "      <td>Rs. 9999</td>\n",
       "    </tr>\n",
       "    <tr>\n",
       "      <th>74</th>\n",
       "      <td>Hush Puppies</td>\n",
       "      <td>Men Solid Formal Slip-Ons</td>\n",
       "      <td>Rs. 9999</td>\n",
       "    </tr>\n",
       "    <tr>\n",
       "      <th>75</th>\n",
       "      <td>Hush Puppies</td>\n",
       "      <td>Men Solid Leather Formal Slip-Ons</td>\n",
       "      <td>Rs. 8999</td>\n",
       "    </tr>\n",
       "    <tr>\n",
       "      <th>76</th>\n",
       "      <td>ECCO</td>\n",
       "      <td>Helsinki Bike Toe Lace Shoes</td>\n",
       "      <td>Rs. 12999</td>\n",
       "    </tr>\n",
       "    <tr>\n",
       "      <th>77</th>\n",
       "      <td>Clarks</td>\n",
       "      <td>Men Solid Formal Leather Derbys</td>\n",
       "      <td>Rs. 9999</td>\n",
       "    </tr>\n",
       "    <tr>\n",
       "      <th>78</th>\n",
       "      <td>Saint G</td>\n",
       "      <td>Women Leather Heeled Boots</td>\n",
       "      <td>Rs. 13674Rs. 15900(14% OFF)</td>\n",
       "    </tr>\n",
       "    <tr>\n",
       "      <th>79</th>\n",
       "      <td>ALDO</td>\n",
       "      <td>Men Solid Leather Formal Derbys</td>\n",
       "      <td>Rs. 7799Rs. 12999(40% OFF)</td>\n",
       "    </tr>\n",
       "    <tr>\n",
       "      <th>80</th>\n",
       "      <td>Saint G</td>\n",
       "      <td>Leather Block Heeled Boots</td>\n",
       "      <td>Rs. 12675Rs. 16900(Rs. 4225 OFF)</td>\n",
       "    </tr>\n",
       "    <tr>\n",
       "      <th>81</th>\n",
       "      <td>Bugatti</td>\n",
       "      <td>Men Walking Shoes</td>\n",
       "      <td>Rs. 7199Rs. 8999(20% OFF)</td>\n",
       "    </tr>\n",
       "    <tr>\n",
       "      <th>82</th>\n",
       "      <td>Heel &amp; Buckle London</td>\n",
       "      <td>Men Solid Leather Formal Penny Loafers</td>\n",
       "      <td>Rs. 7693Rs. 10990(30% OFF)</td>\n",
       "    </tr>\n",
       "    <tr>\n",
       "      <th>83</th>\n",
       "      <td>Bugatti</td>\n",
       "      <td>Men Sneakers</td>\n",
       "      <td>Rs. 8799Rs. 10999(20% OFF)</td>\n",
       "    </tr>\n",
       "    <tr>\n",
       "      <th>84</th>\n",
       "      <td>Saint G</td>\n",
       "      <td>Women Leather Heeled Boots</td>\n",
       "      <td>Rs. 10710Rs. 11900(10% OFF)</td>\n",
       "    </tr>\n",
       "    <tr>\n",
       "      <th>85</th>\n",
       "      <td>Saint G</td>\n",
       "      <td>Women Leather Heeled Boots</td>\n",
       "      <td>Rs. 13050Rs. 14500(10% OFF)</td>\n",
       "    </tr>\n",
       "    <tr>\n",
       "      <th>86</th>\n",
       "      <td>Saint G</td>\n",
       "      <td>Women Leather Heeled Boots</td>\n",
       "      <td>Rs. 12905Rs. 14500(11% OFF)</td>\n",
       "    </tr>\n",
       "    <tr>\n",
       "      <th>87</th>\n",
       "      <td>Saint G</td>\n",
       "      <td>Women Kitten Heeled Boots</td>\n",
       "      <td>Rs. 7921Rs. 8900(11% OFF)</td>\n",
       "    </tr>\n",
       "    <tr>\n",
       "      <th>88</th>\n",
       "      <td>Saint G</td>\n",
       "      <td>Women Leather Heeled Boots</td>\n",
       "      <td>Rs. 12510Rs. 13900(10% OFF)</td>\n",
       "    </tr>\n",
       "    <tr>\n",
       "      <th>89</th>\n",
       "      <td>DAVINCHI</td>\n",
       "      <td>Men Solid Leather Formal Loafers</td>\n",
       "      <td>Rs. 8490</td>\n",
       "    </tr>\n",
       "    <tr>\n",
       "      <th>90</th>\n",
       "      <td>ECCO</td>\n",
       "      <td>Leather Stiletto Pumps</td>\n",
       "      <td>Rs. 12999</td>\n",
       "    </tr>\n",
       "    <tr>\n",
       "      <th>91</th>\n",
       "      <td>ECCO</td>\n",
       "      <td>Women Textured Leather Sneakers</td>\n",
       "      <td>Rs. 13999</td>\n",
       "    </tr>\n",
       "    <tr>\n",
       "      <th>92</th>\n",
       "      <td>MANGO</td>\n",
       "      <td>Women Mid Top Chunky Flat Boot</td>\n",
       "      <td>Rs. 7590Rs. 7990(5% OFF)</td>\n",
       "    </tr>\n",
       "    <tr>\n",
       "      <th>93</th>\n",
       "      <td>ECCO</td>\n",
       "      <td>Women Ballerinas Flats</td>\n",
       "      <td>Rs. 8999</td>\n",
       "    </tr>\n",
       "    <tr>\n",
       "      <th>94</th>\n",
       "      <td>Puma</td>\n",
       "      <td>Women Eternity NITRO Shoes</td>\n",
       "      <td>Rs. 7799Rs. 12999(40% OFF)</td>\n",
       "    </tr>\n",
       "    <tr>\n",
       "      <th>95</th>\n",
       "      <td>J.FONTINI</td>\n",
       "      <td>Men Solid Loafers</td>\n",
       "      <td>Rs. 8990</td>\n",
       "    </tr>\n",
       "    <tr>\n",
       "      <th>96</th>\n",
       "      <td>Geox</td>\n",
       "      <td>Women Leather High-Top Flat Boots</td>\n",
       "      <td>Rs. 12599Rs. 17999(30% OFF)</td>\n",
       "    </tr>\n",
       "    <tr>\n",
       "      <th>97</th>\n",
       "      <td>Pavers England</td>\n",
       "      <td>Men Textured Leather Loafers</td>\n",
       "      <td>Rs. 10999</td>\n",
       "    </tr>\n",
       "    <tr>\n",
       "      <th>98</th>\n",
       "      <td>MANGO</td>\n",
       "      <td>Textured High-Top Flat Boots</td>\n",
       "      <td>Rs. 7990</td>\n",
       "    </tr>\n",
       "    <tr>\n",
       "      <th>99</th>\n",
       "      <td>Saint G</td>\n",
       "      <td>Suede Block Heeled Boots</td>\n",
       "      <td>Rs. 10350Rs. 11500(10% OFF)</td>\n",
       "    </tr>\n",
       "  </tbody>\n",
       "</table>\n",
       "</div>"
      ],
      "text/plain": [
       "                   Brand                         Product_Description  \\\n",
       "0                   Puma                           Men Running Shoes   \n",
       "1           Hush Puppies           Men Solid Leather Formal Slip-Ons   \n",
       "2                   Puma                   Men Magnify Nitro Running   \n",
       "3                   Puma                   Women Magnify Nitro Shoes   \n",
       "4                Saint G                   Men Mid-Top Chelsea Boots   \n",
       "5           Calvin Klein                    Men Solid Suede Sneakers   \n",
       "6            RARE RABBIT                      Men Leather Flat Boots   \n",
       "7                  MANGO              Women WovenDesign Sports Shoes   \n",
       "8               DAVINCHI             Men Solid Leather Formal Derbys   \n",
       "9                Bugatti    Men Textured Leather High-Top Flat Boots   \n",
       "10               Bugatti                           Men Running Shoes   \n",
       "11               Bugatti                     Men Black Walking Shoes   \n",
       "12               Saint G                  Women Leather Heeled Boots   \n",
       "13                 ASICS               Men Colourblocked PU Sneakers   \n",
       "14                  Geox                      Men Leather Flat Boots   \n",
       "15             J.FONTINI                Men Textured Leather Loafers   \n",
       "16              DAVINCHI         Men Textured Formal Leather Loafers   \n",
       "17           RARE RABBIT                Men Textured Leather Loafers   \n",
       "18  Heel & Buckle London                    Men Formal Leather Derby   \n",
       "19                 MANGO                 Women Leather Penny Loafers   \n",
       "20               Saint G        Suede High-Top Flatform Heeled Boots   \n",
       "21               Saint G               Leather Platform Heeled Boots   \n",
       "22               Saint G      Embellished Leather Block Heeled Boots   \n",
       "23                  Geox                         Women Leather Pumps   \n",
       "24                  Puma                Women Velocity NITRO Runners   \n",
       "25              Columbia              PEAKFREAK OUTDRY Trekking Shoe   \n",
       "26        Tommy Hilfiger               Women Hybrid Leather Sneakers   \n",
       "27             Cole Haan         Men GENERATION ZEROGRAND STITCHLITE   \n",
       "28                  Xtep                           Men Running Shoes   \n",
       "29             J.FONTINI                Men Textured Leather Loafers   \n",
       "30             J.FONTINI                   Men Black Leather Loafers   \n",
       "31                  Geox                         Men Leather Loafers   \n",
       "32                  Geox                   Women Solid Leather Pumps   \n",
       "33              DAVINCHI                                Ustraa black   \n",
       "34              DAVINCHI                 Men Formal Leather Slip-Ons   \n",
       "35                  Geox                   Women Solid Leather Pumps   \n",
       "36        Pavers England                   Men Leather Driving Shoes   \n",
       "37              DAVINCHI         Men Textured Formal Leather Loafers   \n",
       "38               Saint G                   Men Leather Chelsea Boots   \n",
       "39                  Geox                   Men Leather Formal Derbys   \n",
       "40             Cole Haan                        Women Open Toe Flats   \n",
       "41                  Geox              Women Solid Leather Ballerinas   \n",
       "42             Cole Haan              Women Solid Leather Ballerinas   \n",
       "43              DAVINCHI        Men Textured Leather Formal Slip-Ons   \n",
       "44               Saint G     Leather Wedge Heeled Boots with Buckles   \n",
       "45               Saint G                  Leather Block Heeled Boots   \n",
       "46               Saint G                 Leather Kitten Heeled Boots   \n",
       "47               Saint G        Leather Block Heeled Boots with Bows   \n",
       "48               Saint G     Suede Party High-Top Block Heeled Boots   \n",
       "49               Saint G  Textured Leather Party Kitten Heeled Boots   \n",
       "50               Saint G  Textured Leather Party Kitten Heeled Boots   \n",
       "51        Pavers England   Men Textured Leather Formal Slip-On Shoes   \n",
       "52        Pavers England            Men Solid Leather Formal Loafers   \n",
       "53               Saint G                  Leather Boots with Buckles   \n",
       "54        Pavers England             Men Solid Leather Formal Derbys   \n",
       "55               Saint G                   Woman Black Leather Boots   \n",
       "56               Saint G                 Women High-Top Heeled Boots   \n",
       "57                  Geox                       Women Chunky Sneakers   \n",
       "58               Saint G     Leather Block Heeled Boots with Buckles   \n",
       "59               Saint G                  Embellished Flatform Boots   \n",
       "60  Heel & Buckle London            Men Solid Leather Formal Loafers   \n",
       "61               Saint G                  Leather Block Heeled Boots   \n",
       "62                  Geox           Women Leather High-Top Flat Boots   \n",
       "63               fitflop             Women Textured Slip-On Sneakers   \n",
       "64             Cole Haan                      Women Leather Sneakers   \n",
       "65                  Nike               Men Zoom Span 4 Running Shoes   \n",
       "66                  ALDO                        Men Printed Sneakers   \n",
       "67          Hush Puppies           Men Solid Leather Formal Slip-Ons   \n",
       "68              Skechers                  Men Balance Anchor Walking   \n",
       "69                  Nike                  Men BlazerLow '77 Sneakers   \n",
       "70              Skechers              Men Go Run Hyper Burst Running   \n",
       "71          Hush Puppies                          Men Leather Derbys   \n",
       "72          Hush Puppies                           Men Formal Derbys   \n",
       "73          Hush Puppies             Men Solid Leather Formal Derbys   \n",
       "74          Hush Puppies                   Men Solid Formal Slip-Ons   \n",
       "75          Hush Puppies           Men Solid Leather Formal Slip-Ons   \n",
       "76                  ECCO                Helsinki Bike Toe Lace Shoes   \n",
       "77                Clarks             Men Solid Formal Leather Derbys   \n",
       "78               Saint G                  Women Leather Heeled Boots   \n",
       "79                  ALDO             Men Solid Leather Formal Derbys   \n",
       "80               Saint G                  Leather Block Heeled Boots   \n",
       "81               Bugatti                           Men Walking Shoes   \n",
       "82  Heel & Buckle London      Men Solid Leather Formal Penny Loafers   \n",
       "83               Bugatti                                Men Sneakers   \n",
       "84               Saint G                  Women Leather Heeled Boots   \n",
       "85               Saint G                  Women Leather Heeled Boots   \n",
       "86               Saint G                  Women Leather Heeled Boots   \n",
       "87               Saint G                   Women Kitten Heeled Boots   \n",
       "88               Saint G                  Women Leather Heeled Boots   \n",
       "89              DAVINCHI            Men Solid Leather Formal Loafers   \n",
       "90                  ECCO                      Leather Stiletto Pumps   \n",
       "91                  ECCO             Women Textured Leather Sneakers   \n",
       "92                 MANGO              Women Mid Top Chunky Flat Boot   \n",
       "93                  ECCO                      Women Ballerinas Flats   \n",
       "94                  Puma                  Women Eternity NITRO Shoes   \n",
       "95             J.FONTINI                           Men Solid Loafers   \n",
       "96                  Geox           Women Leather High-Top Flat Boots   \n",
       "97        Pavers England                Men Textured Leather Loafers   \n",
       "98                 MANGO                Textured High-Top Flat Boots   \n",
       "99               Saint G                    Suede Block Heeled Boots   \n",
       "\n",
       "                               Price  \n",
       "0         Rs. 7149Rs. 12999(45% OFF)  \n",
       "1                           Rs. 8999  \n",
       "2         Rs. 8449Rs. 12999(35% OFF)  \n",
       "3         Rs. 8449Rs. 12999(35% OFF)  \n",
       "4         Rs. 9810Rs. 10900(10% OFF)  \n",
       "5                           Rs. 7999  \n",
       "6          Rs. 7999Rs. 9999(20% OFF)  \n",
       "7          Rs. 7191Rs. 7990(10% OFF)  \n",
       "8                           Rs. 8990  \n",
       "9         Rs. 8399Rs. 11999(30% OFF)  \n",
       "10         Rs. 7999Rs. 9999(20% OFF)  \n",
       "11         Rs. 7199Rs. 8999(20% OFF)  \n",
       "12       Rs. 13410Rs. 14900(10% OFF)  \n",
       "13                          Rs. 9999  \n",
       "14        Rs. 8399Rs. 11999(30% OFF)  \n",
       "15                          Rs. 7990  \n",
       "16                          Rs. 8990  \n",
       "17        Rs. 7149Rs. 10999(35% OFF)  \n",
       "18                          Rs. 7990  \n",
       "19         Rs. 7191Rs. 7990(10% OFF)  \n",
       "20       Rs. 12150Rs. 13500(10% OFF)  \n",
       "21        Rs. 9810Rs. 10900(10% OFF)  \n",
       "22        Rs. 9546Rs. 12900(26% OFF)  \n",
       "23                          Rs. 8999  \n",
       "24        Rs. 7699Rs. 10999(30% OFF)  \n",
       "25                          Rs. 9999  \n",
       "26                          Rs. 7999  \n",
       "27                         Rs. 11999  \n",
       "28                          Rs. 7699  \n",
       "29                          Rs. 7990  \n",
       "30                          Rs. 8490  \n",
       "31                          Rs. 9999  \n",
       "32                          Rs. 7999  \n",
       "33                          Rs. 8990  \n",
       "34                          Rs. 8990  \n",
       "35                         Rs. 10990  \n",
       "36                          Rs. 7499  \n",
       "37                          Rs. 8990  \n",
       "38       Rs. 10710Rs. 11900(10% OFF)  \n",
       "39        Rs. 8399Rs. 11999(30% OFF)  \n",
       "40                         Rs. 11999  \n",
       "41                          Rs. 8999  \n",
       "42                         Rs. 13999  \n",
       "43                          Rs. 8990  \n",
       "44       Rs. 13410Rs. 14900(10% OFF)  \n",
       "45     Rs. 8550Rs. 9500(Rs. 950 OFF)  \n",
       "46     Rs. 8910Rs. 9900(Rs. 990 OFF)  \n",
       "47       Rs. 12510Rs. 13900(10% OFF)  \n",
       "48        Rs. 9450Rs. 10500(10% OFF)  \n",
       "49       Rs. 11954Rs. 13900(14% OFF)  \n",
       "50       Rs. 11954Rs. 13900(14% OFF)  \n",
       "51                          Rs. 9999  \n",
       "52                          Rs. 7999  \n",
       "53        Rs. 8505Rs. 10500(19% OFF)  \n",
       "54                          Rs. 8999  \n",
       "55       Rs. 11250Rs. 12500(10% OFF)  \n",
       "56        Rs. 9869Rs. 13900(29% OFF)  \n",
       "57                          Rs. 9999  \n",
       "58        Rs. 9810Rs. 10900(10% OFF)  \n",
       "59        Rs. 8505Rs. 10500(19% OFF)  \n",
       "60                         Rs. 11990  \n",
       "61   Rs. 9810Rs. 10900(Rs. 1090 OFF)  \n",
       "62       Rs. 10499Rs. 14999(30% OFF)  \n",
       "63                          Rs. 7999  \n",
       "64                         Rs. 10999  \n",
       "65                          Rs. 7195  \n",
       "66        Rs. 9099Rs. 12999(30% OFF)  \n",
       "67                          Rs. 9999  \n",
       "68         Rs. 8499Rs. 9999(15% OFF)  \n",
       "69                          Rs. 7195  \n",
       "70         Rs. 7224Rs. 8499(15% OFF)  \n",
       "71                          Rs. 7999  \n",
       "72                          Rs. 9999  \n",
       "73                          Rs. 9999  \n",
       "74                          Rs. 9999  \n",
       "75                          Rs. 8999  \n",
       "76                         Rs. 12999  \n",
       "77                          Rs. 9999  \n",
       "78       Rs. 13674Rs. 15900(14% OFF)  \n",
       "79        Rs. 7799Rs. 12999(40% OFF)  \n",
       "80  Rs. 12675Rs. 16900(Rs. 4225 OFF)  \n",
       "81         Rs. 7199Rs. 8999(20% OFF)  \n",
       "82        Rs. 7693Rs. 10990(30% OFF)  \n",
       "83        Rs. 8799Rs. 10999(20% OFF)  \n",
       "84       Rs. 10710Rs. 11900(10% OFF)  \n",
       "85       Rs. 13050Rs. 14500(10% OFF)  \n",
       "86       Rs. 12905Rs. 14500(11% OFF)  \n",
       "87         Rs. 7921Rs. 8900(11% OFF)  \n",
       "88       Rs. 12510Rs. 13900(10% OFF)  \n",
       "89                          Rs. 8490  \n",
       "90                         Rs. 12999  \n",
       "91                         Rs. 13999  \n",
       "92          Rs. 7590Rs. 7990(5% OFF)  \n",
       "93                          Rs. 8999  \n",
       "94        Rs. 7799Rs. 12999(40% OFF)  \n",
       "95                          Rs. 8990  \n",
       "96       Rs. 12599Rs. 17999(30% OFF)  \n",
       "97                         Rs. 10999  \n",
       "98                          Rs. 7990  \n",
       "99       Rs. 10350Rs. 11500(10% OFF)  "
      ]
     },
     "execution_count": 57,
     "metadata": {},
     "output_type": "execute_result"
    }
   ],
   "source": [
    "#Making DataFrame\n",
    "sneakers= pd.DataFrame({'Brand': brand, 'Product_Description':product_description, 'Price':price})\n",
    "sneakers"
   ]
  },
  {
   "cell_type": "markdown",
   "metadata": {},
   "source": [
    "# 8- Amazon/ laptop"
   ]
  },
  {
   "cell_type": "code",
   "execution_count": 2,
   "metadata": {},
   "outputs": [],
   "source": [
    "# Lets connect first to webdriver\n",
    "driver= webdriver.Chrome(\"D:\\Inernship\\chromedriver.exe\")"
   ]
  },
  {
   "cell_type": "code",
   "execution_count": 3,
   "metadata": {},
   "outputs": [],
   "source": [
    "#getting Url\n",
    "url= \"https://www.amazon.in/\"\n",
    "driver.get(url)"
   ]
  },
  {
   "cell_type": "code",
   "execution_count": 4,
   "metadata": {},
   "outputs": [
    {
     "data": {
      "text/plain": [
       "<selenium.webdriver.remote.webelement.WebElement (session=\"9d02e55f6a3ec4e1e94a0da3460ec4d7\", element=\"f0d5c143-af31-46a8-aa86-22cb23d15cad\")>"
      ]
     },
     "execution_count": 4,
     "metadata": {},
     "output_type": "execute_result"
    }
   ],
   "source": [
    "# Finding webelement for search job bar using id\n",
    "search_bar= driver.find_element_by_id('twotabsearchtextbox')\n",
    "search_bar"
   ]
  },
  {
   "cell_type": "code",
   "execution_count": 5,
   "metadata": {},
   "outputs": [],
   "source": [
    "#writing on search bar\n",
    "search_bar.send_keys('Laptop')"
   ]
  },
  {
   "cell_type": "code",
   "execution_count": 6,
   "metadata": {},
   "outputs": [
    {
     "data": {
      "text/plain": [
       "<selenium.webdriver.remote.webelement.WebElement (session=\"9d02e55f6a3ec4e1e94a0da3460ec4d7\", element=\"d745f99c-6adf-4d47-beb3-b7040348afd0\")>"
      ]
     },
     "execution_count": 6,
     "metadata": {},
     "output_type": "execute_result"
    }
   ],
   "source": [
    "# Clicking using absolute x path function\n",
    "search_btn= driver.find_element_by_id('nav-search-submit-button')\n",
    "search_btn"
   ]
  },
  {
   "cell_type": "code",
   "execution_count": 7,
   "metadata": {},
   "outputs": [],
   "source": [
    "search_btn.click()"
   ]
  },
  {
   "cell_type": "code",
   "execution_count": 8,
   "metadata": {},
   "outputs": [
    {
     "data": {
      "text/plain": [
       "<selenium.webdriver.remote.webelement.WebElement (session=\"9d02e55f6a3ec4e1e94a0da3460ec4d7\", element=\"0355a806-9e60-41b7-9fca-0375ca3d7955\")>"
      ]
     },
     "execution_count": 8,
     "metadata": {},
     "output_type": "execute_result"
    }
   ],
   "source": [
    "# applying filter i7\n",
    "i7= driver.find_element_by_xpath(\"/html/body/div[1]/div[2]/div[1]/div[2]/div/div[3]/span/div[1]/span/div/div/div[5]/ul[1]/li[12]/span/a/span\")\n",
    "i7"
   ]
  },
  {
   "cell_type": "code",
   "execution_count": 9,
   "metadata": {},
   "outputs": [],
   "source": [
    "i7.click()"
   ]
  },
  {
   "cell_type": "code",
   "execution_count": 10,
   "metadata": {
    "collapsed": true
   },
   "outputs": [
    {
     "data": {
      "text/plain": [
       "['Dell 14 (2021) i7-1195G7 2in1 Touch Screen Laptop, 16GB, 512GB SSD, Win 10 + MS Office, 14.0\" (35.56 cms) FHD Display, Backlit KB, FPR + Active Pen, Platinum Silver (Inspiron 5410, D560596WIN9S)',\n",
       " 'LG Gram 17-inches Ultra-Light Intel Evo 11th Gen Core i7,16 GB RAM, 512 GB SSD, New Win-11 Preload, Iris Xe Graphics, USC -C x 2 (with Power), 1.35 kg, 3 Yr Warranty (17Z90P-G.AH85A2, Black)',\n",
       " 'ASUS VivoBook 14 (2021), 14-inch (35.56 cms) FHD, Intel Core i7-1065G7 10th Gen, Thin and Light Laptop (16GB/512GB SSD/Integrated Graphics/Office 2021/Windows 11/Silver/1.6 Kg), X415JA-EK701WS',\n",
       " 'Acer Nitro 5 AN515-57 Gaming Laptop | Intel Core i7-11800H |NVIDIA GeForce RTX 3050 Ti Laptop Graphics |15.6\" FHD 144Hz IPS Display |16GB DDR4 |256GB SSD+1TB HDD |Killer Wi-Fi 6 |RGB Backlit Keyboard',\n",
       " 'HP Pavilion 13, 11th Gen Intel Core i7, 13.3-inch(33.8 cm) FHD,IPS, Micro-Edge Laptop (16GB RAM/ 1TB SSD/ Win 10/ FPR/Audio B&O/Alexa Built-in/MS Office/ Ceramic White/ 1.24 Kg) -13-bb0078TU',\n",
       " 'ASUS TUF Gaming F15 (2021) 15.6-inch (39.62 cms) FHD 144Hz, Intel Core i7-11800H 11th Gen, RTX 3060 6GB Graphics, Gaming Laptop (16GB/1TB SSD/Windows 10/Gray/2.3 Kg), FX566HM-HN100T',\n",
       " 'HP Pavilion 14, Intel 11th Gen Core i7 16GB RAM/1TB SSD 14-inch Laptop, FHD Micro-Edge Anti-Glare Display/Iris Xᵉ Graphics/Backlit KB/B&O Audio/Fingerprint Reader/ Win 11 Ready/1.41kg, 14-dv0058TU',\n",
       " 'Lenovo ThinkBook 13s Intel 11th Gen Core i7 13.3\"(33.78 cm) WQXGA IPS 300 nits 100% sRGB Dolby Vision Thin and Light Laptop (16GB/512GB SSD/Windows 10/MS Office/FPR/Mineral Grey/1.26 Kg), 20V9A05FIH',\n",
       " 'Dell 14 (2021) i7-1195G7 2in1 Touch Screen Laptop, 16GB, 512GB SSD, Win 10 + MS Office, 14.0\" (35.56 cms) FHD Display, Backlit KB, FPR + Active Pen, Platinum Silver (Inspiron 5410, D560596WIN9S)',\n",
       " 'ASUS TUF Dash F15 (2021), 15.6\" (39.62 cms) FHD 144Hz, Intel Core i7-11370H 11th Gen, RTX 3050 Ti 4GB Graphics, Gaming Laptop (16GB/1TB SSD/Office 2019/Windows 10/Eclipse Gray/2 kg), FX516PE-HN088TS']"
      ]
     },
     "execution_count": 10,
     "metadata": {},
     "output_type": "execute_result"
    }
   ],
   "source": [
    "#scraping titles\n",
    "title= []\n",
    "for i in driver.find_elements_by_xpath('//span[@class=\"a-size-medium a-color-base a-text-normal\"]'):\n",
    "    title.append(i.text)\n",
    "title= title[:10]\n",
    "title"
   ]
  },
  {
   "cell_type": "code",
   "execution_count": 11,
   "metadata": {
    "collapsed": true
   },
   "outputs": [
    {
     "data": {
      "text/plain": [
       "['95,300',\n",
       " '99,990',\n",
       " '59,990',\n",
       " '89,990',\n",
       " '87,990',\n",
       " '1,14,990',\n",
       " '97,000',\n",
       " '79,990',\n",
       " '95,300',\n",
       " '95,990']"
      ]
     },
     "execution_count": 11,
     "metadata": {},
     "output_type": "execute_result"
    }
   ],
   "source": [
    "# Scraping price\n",
    "price= []\n",
    "for i in driver.find_elements_by_xpath('//span[@class=\"a-price-whole\"]'):\n",
    "    price.append(i.text)\n",
    "price= price[:10]\n",
    "price"
   ]
  },
  {
   "cell_type": "code",
   "execution_count": null,
   "metadata": {},
   "outputs": [],
   "source": [
    "# In question 8 apply only one filter that is for i7, leave ratings for now , to fetch rating you should know about exception handling about which you will study later.\n",
    "# I got this response from ticket, so I didn't scrap data for rating and I didn't apply i9 filter."
   ]
  },
  {
   "cell_type": "code",
   "execution_count": 12,
   "metadata": {},
   "outputs": [
    {
     "name": "stdout",
     "output_type": "stream",
     "text": [
      "10 10\n"
     ]
    }
   ],
   "source": [
    "print(len(title), len(price))"
   ]
  },
  {
   "cell_type": "code",
   "execution_count": 14,
   "metadata": {},
   "outputs": [
    {
     "data": {
      "text/html": [
       "<div>\n",
       "<style scoped>\n",
       "    .dataframe tbody tr th:only-of-type {\n",
       "        vertical-align: middle;\n",
       "    }\n",
       "\n",
       "    .dataframe tbody tr th {\n",
       "        vertical-align: top;\n",
       "    }\n",
       "\n",
       "    .dataframe thead th {\n",
       "        text-align: right;\n",
       "    }\n",
       "</style>\n",
       "<table border=\"1\" class=\"dataframe\">\n",
       "  <thead>\n",
       "    <tr style=\"text-align: right;\">\n",
       "      <th></th>\n",
       "      <th>Tiitle</th>\n",
       "      <th>Price</th>\n",
       "    </tr>\n",
       "  </thead>\n",
       "  <tbody>\n",
       "    <tr>\n",
       "      <th>0</th>\n",
       "      <td>Dell 14 (2021) i7-1195G7 2in1 Touch Screen Lap...</td>\n",
       "      <td>95,300</td>\n",
       "    </tr>\n",
       "    <tr>\n",
       "      <th>1</th>\n",
       "      <td>LG Gram 17-inches Ultra-Light Intel Evo 11th G...</td>\n",
       "      <td>99,990</td>\n",
       "    </tr>\n",
       "    <tr>\n",
       "      <th>2</th>\n",
       "      <td>ASUS VivoBook 14 (2021), 14-inch (35.56 cms) F...</td>\n",
       "      <td>59,990</td>\n",
       "    </tr>\n",
       "    <tr>\n",
       "      <th>3</th>\n",
       "      <td>Acer Nitro 5 AN515-57 Gaming Laptop | Intel Co...</td>\n",
       "      <td>89,990</td>\n",
       "    </tr>\n",
       "    <tr>\n",
       "      <th>4</th>\n",
       "      <td>HP Pavilion 13, 11th Gen Intel Core i7, 13.3-i...</td>\n",
       "      <td>87,990</td>\n",
       "    </tr>\n",
       "    <tr>\n",
       "      <th>5</th>\n",
       "      <td>ASUS TUF Gaming F15 (2021) 15.6-inch (39.62 cm...</td>\n",
       "      <td>1,14,990</td>\n",
       "    </tr>\n",
       "    <tr>\n",
       "      <th>6</th>\n",
       "      <td>HP Pavilion 14, Intel 11th Gen Core i7 16GB RA...</td>\n",
       "      <td>97,000</td>\n",
       "    </tr>\n",
       "    <tr>\n",
       "      <th>7</th>\n",
       "      <td>Lenovo ThinkBook 13s Intel 11th Gen Core i7 13...</td>\n",
       "      <td>79,990</td>\n",
       "    </tr>\n",
       "    <tr>\n",
       "      <th>8</th>\n",
       "      <td>Dell 14 (2021) i7-1195G7 2in1 Touch Screen Lap...</td>\n",
       "      <td>95,300</td>\n",
       "    </tr>\n",
       "    <tr>\n",
       "      <th>9</th>\n",
       "      <td>ASUS TUF Dash F15 (2021), 15.6\" (39.62 cms) FH...</td>\n",
       "      <td>95,990</td>\n",
       "    </tr>\n",
       "  </tbody>\n",
       "</table>\n",
       "</div>"
      ],
      "text/plain": [
       "                                              Tiitle     Price\n",
       "0  Dell 14 (2021) i7-1195G7 2in1 Touch Screen Lap...    95,300\n",
       "1  LG Gram 17-inches Ultra-Light Intel Evo 11th G...    99,990\n",
       "2  ASUS VivoBook 14 (2021), 14-inch (35.56 cms) F...    59,990\n",
       "3  Acer Nitro 5 AN515-57 Gaming Laptop | Intel Co...    89,990\n",
       "4  HP Pavilion 13, 11th Gen Intel Core i7, 13.3-i...    87,990\n",
       "5  ASUS TUF Gaming F15 (2021) 15.6-inch (39.62 cm...  1,14,990\n",
       "6  HP Pavilion 14, Intel 11th Gen Core i7 16GB RA...    97,000\n",
       "7  Lenovo ThinkBook 13s Intel 11th Gen Core i7 13...    79,990\n",
       "8  Dell 14 (2021) i7-1195G7 2in1 Touch Screen Lap...    95,300\n",
       "9  ASUS TUF Dash F15 (2021), 15.6\" (39.62 cms) FH...    95,990"
      ]
     },
     "execution_count": 14,
     "metadata": {},
     "output_type": "execute_result"
    }
   ],
   "source": [
    "laptop= pd.DataFrame({'Tiitle':title, 'Price':price})\n",
    "laptop"
   ]
  },
  {
   "cell_type": "markdown",
   "metadata": {},
   "source": [
    "# 9- Data Scientist in Noida\n"
   ]
  },
  {
   "cell_type": "code",
   "execution_count": 43,
   "metadata": {},
   "outputs": [],
   "source": [
    "# Lets connect first to webdriver\n",
    "driver= webdriver.Chrome(\"D:\\Inernship\\chromedriver.exe\")"
   ]
  },
  {
   "cell_type": "code",
   "execution_count": 44,
   "metadata": {},
   "outputs": [],
   "source": [
    "#getting Url\n",
    "url= 'https://www.ambitionbox.com/'\n",
    "driver.get(url)"
   ]
  },
  {
   "cell_type": "code",
   "execution_count": 45,
   "metadata": {},
   "outputs": [
    {
     "data": {
      "text/plain": [
       "<selenium.webdriver.remote.webelement.WebElement (session=\"d245266cf48221520ff88083a43daaee\", element=\"6bc07124-b89c-4f81-a39e-a72fc68f7ee5\")>"
      ]
     },
     "execution_count": 45,
     "metadata": {},
     "output_type": "execute_result"
    }
   ],
   "source": [
    "# Finding webelement for search job bar \n",
    "search_job= driver.find_element_by_xpath('/html/body/div[1]/nav/nav/a[6]')\n",
    "search_job"
   ]
  },
  {
   "cell_type": "code",
   "execution_count": 46,
   "metadata": {},
   "outputs": [],
   "source": [
    "search_job.click()"
   ]
  },
  {
   "cell_type": "code",
   "execution_count": 47,
   "metadata": {},
   "outputs": [
    {
     "data": {
      "text/plain": [
       "<selenium.webdriver.remote.webelement.WebElement (session=\"d245266cf48221520ff88083a43daaee\", element=\"ea502237-5596-4e1a-98ea-7f40ad310ea8\")>"
      ]
     },
     "execution_count": 47,
     "metadata": {},
     "output_type": "execute_result"
    }
   ],
   "source": [
    "# Finding webelement for search job bar using id\n",
    "search_jobs= driver.find_element_by_xpath('/html/body/div/div/div/div[2]/div[1]/div/div/div/div/span/input')\n",
    "search_jobs"
   ]
  },
  {
   "cell_type": "code",
   "execution_count": 48,
   "metadata": {},
   "outputs": [],
   "source": [
    "#writing on search bar\n",
    "search_jobs.send_keys('Data Scientist')"
   ]
  },
  {
   "cell_type": "code",
   "execution_count": 49,
   "metadata": {},
   "outputs": [
    {
     "data": {
      "text/plain": [
       "<selenium.webdriver.remote.webelement.WebElement (session=\"d245266cf48221520ff88083a43daaee\", element=\"4ed4ff88-e02b-4bb4-8c61-01cbc46554e7\")>"
      ]
     },
     "execution_count": 49,
     "metadata": {},
     "output_type": "execute_result"
    }
   ],
   "source": [
    "search_btn= driver.find_element_by_xpath('/html/body/div/div/div/div[2]/div[1]/div/div/div/button')\n",
    "search_btn"
   ]
  },
  {
   "cell_type": "code",
   "execution_count": 50,
   "metadata": {},
   "outputs": [],
   "source": [
    "search_btn.click() # get job"
   ]
  },
  {
   "cell_type": "code",
   "execution_count": 51,
   "metadata": {},
   "outputs": [
    {
     "data": {
      "text/plain": [
       "<selenium.webdriver.remote.webelement.WebElement (session=\"d245266cf48221520ff88083a43daaee\", element=\"6db1a562-cdbd-4e39-b2a1-a60becbe7456\")>"
      ]
     },
     "execution_count": 51,
     "metadata": {},
     "output_type": "execute_result"
    }
   ],
   "source": [
    "# Finding web element for search location bar using xpath\n",
    "search_loc= driver.find_element_by_xpath('/html/body/div/div/div/div[2]/div[2]/div[1]/div/div/div/div[2]/div[1]')\n",
    "search_loc"
   ]
  },
  {
   "cell_type": "code",
   "execution_count": 52,
   "metadata": {},
   "outputs": [],
   "source": [
    "# click on location button\n",
    "search_loc.click()"
   ]
  },
  {
   "cell_type": "code",
   "execution_count": 53,
   "metadata": {},
   "outputs": [
    {
     "data": {
      "text/plain": [
       "<selenium.webdriver.remote.webelement.WebElement (session=\"d245266cf48221520ff88083a43daaee\", element=\"b77aeb86-4b20-45b9-bdb1-66c3814f071d\")>"
      ]
     },
     "execution_count": 53,
     "metadata": {},
     "output_type": "execute_result"
    }
   ],
   "source": [
    "search_locs= driver.find_element_by_xpath('/html/body/div/div/div/div[2]/div[2]/div[1]/div/div/div/div[2]/div[2]/div/div[2]/input')\n",
    "search_locs"
   ]
  },
  {
   "cell_type": "code",
   "execution_count": 54,
   "metadata": {},
   "outputs": [],
   "source": [
    "#writing on location bar\n",
    "search_locs.send_keys('Noida')"
   ]
  },
  {
   "cell_type": "code",
   "execution_count": 60,
   "metadata": {},
   "outputs": [
    {
     "data": {
      "text/plain": [
       "<selenium.webdriver.remote.webelement.WebElement (session=\"d245266cf48221520ff88083a43daaee\", element=\"4bbeaf6d-0232-42b3-ba47-e42fdef6a81e\")>"
      ]
     },
     "execution_count": 60,
     "metadata": {},
     "output_type": "execute_result"
    }
   ],
   "source": [
    "n= driver.find_element_by_xpath('/html/body/div/div/div/div[2]/div[2]/div[1]/div/div/div/div[2]/div[2]/div/div[3]/div[1]/div[1]/div/input')\n",
    "n"
   ]
  },
  {
   "cell_type": "code",
   "execution_count": 61,
   "metadata": {},
   "outputs": [],
   "source": [
    "# choosing location\n",
    "n.click()"
   ]
  },
  {
   "cell_type": "code",
   "execution_count": 67,
   "metadata": {},
   "outputs": [
    {
     "data": {
      "text/plain": [
       "['Nokia Solutions and Networks India (P)Ltd.',\n",
       " 'Paytm',\n",
       " 'Jubilant Foodworks Limited',\n",
       " 'CHT Sapiense',\n",
       " 'CHT Sapiense',\n",
       " 'GI Group',\n",
       " 'GI Group',\n",
       " 'GI Group',\n",
       " 'RMS Risk Management Solutions',\n",
       " 'Paytm']"
      ]
     },
     "execution_count": 67,
     "metadata": {},
     "output_type": "execute_result"
    }
   ],
   "source": [
    "#extracting companies names\n",
    "nam= []\n",
    "for i in driver.find_elements_by_xpath('//p[@class=\"company body-medium\"]'):\n",
    "    nam.append(i.text)\n",
    "nam= nam[:10]\n",
    "nam"
   ]
  },
  {
   "cell_type": "code",
   "execution_count": 68,
   "metadata": {},
   "outputs": [
    {
     "data": {
      "text/plain": [
       "['4.3', '3.7', '3.9', '3.7', '3.7', '4.1', '4.1', '4.1', '3.5', '3.7']"
      ]
     },
     "execution_count": 68,
     "metadata": {},
     "output_type": "execute_result"
    }
   ],
   "source": [
    "#extracting companies ratings\n",
    "rat= []\n",
    "for i in driver.find_elements_by_xpath('//span[@class=\"body-small\"]'):\n",
    "    rat.append(i.text)\n",
    "rat= rat[:10]\n",
    "rat"
   ]
  },
  {
   "cell_type": "code",
   "execution_count": 73,
   "metadata": {},
   "outputs": [
    {
     "data": {
      "text/plain": [
       "['12d ago',\n",
       " '6d ago',\n",
       " '23d ago',\n",
       " '7d ago',\n",
       " '8d ago',\n",
       " '19d ago',\n",
       " '19d ago',\n",
       " '19d ago',\n",
       " '1d ago',\n",
       " '27d ago']"
      ]
     },
     "execution_count": 73,
     "metadata": {},
     "output_type": "execute_result"
    }
   ],
   "source": [
    "#extracting job post days\n",
    "post= []\n",
    "for i in driver.find_elements_by_xpath('//span[@class=\"body-small-l\"]'):\n",
    "    post.append(i.text)\n",
    "post= post[::2]\n",
    "post= post[:10]\n",
    "post"
   ]
  },
  {
   "cell_type": "code",
   "execution_count": 74,
   "metadata": {},
   "outputs": [
    {
     "name": "stdout",
     "output_type": "stream",
     "text": [
      "10 10 10\n"
     ]
    }
   ],
   "source": [
    "# Finding length\n",
    "print(len(nam), len(rat), len(post))"
   ]
  },
  {
   "cell_type": "code",
   "execution_count": 75,
   "metadata": {},
   "outputs": [
    {
     "data": {
      "text/html": [
       "<div>\n",
       "<style scoped>\n",
       "    .dataframe tbody tr th:only-of-type {\n",
       "        vertical-align: middle;\n",
       "    }\n",
       "\n",
       "    .dataframe tbody tr th {\n",
       "        vertical-align: top;\n",
       "    }\n",
       "\n",
       "    .dataframe thead th {\n",
       "        text-align: right;\n",
       "    }\n",
       "</style>\n",
       "<table border=\"1\" class=\"dataframe\">\n",
       "  <thead>\n",
       "    <tr style=\"text-align: right;\">\n",
       "      <th></th>\n",
       "      <th>Company_Name</th>\n",
       "      <th>Rating</th>\n",
       "      <th>Post</th>\n",
       "    </tr>\n",
       "  </thead>\n",
       "  <tbody>\n",
       "    <tr>\n",
       "      <th>0</th>\n",
       "      <td>Nokia Solutions and Networks India (P)Ltd.</td>\n",
       "      <td>4.3</td>\n",
       "      <td>12d ago</td>\n",
       "    </tr>\n",
       "    <tr>\n",
       "      <th>1</th>\n",
       "      <td>Paytm</td>\n",
       "      <td>3.7</td>\n",
       "      <td>6d ago</td>\n",
       "    </tr>\n",
       "    <tr>\n",
       "      <th>2</th>\n",
       "      <td>Jubilant Foodworks Limited</td>\n",
       "      <td>3.9</td>\n",
       "      <td>23d ago</td>\n",
       "    </tr>\n",
       "    <tr>\n",
       "      <th>3</th>\n",
       "      <td>CHT Sapiense</td>\n",
       "      <td>3.7</td>\n",
       "      <td>7d ago</td>\n",
       "    </tr>\n",
       "    <tr>\n",
       "      <th>4</th>\n",
       "      <td>CHT Sapiense</td>\n",
       "      <td>3.7</td>\n",
       "      <td>8d ago</td>\n",
       "    </tr>\n",
       "    <tr>\n",
       "      <th>5</th>\n",
       "      <td>GI Group</td>\n",
       "      <td>4.1</td>\n",
       "      <td>19d ago</td>\n",
       "    </tr>\n",
       "    <tr>\n",
       "      <th>6</th>\n",
       "      <td>GI Group</td>\n",
       "      <td>4.1</td>\n",
       "      <td>19d ago</td>\n",
       "    </tr>\n",
       "    <tr>\n",
       "      <th>7</th>\n",
       "      <td>GI Group</td>\n",
       "      <td>4.1</td>\n",
       "      <td>19d ago</td>\n",
       "    </tr>\n",
       "    <tr>\n",
       "      <th>8</th>\n",
       "      <td>RMS Risk Management Solutions</td>\n",
       "      <td>3.5</td>\n",
       "      <td>1d ago</td>\n",
       "    </tr>\n",
       "    <tr>\n",
       "      <th>9</th>\n",
       "      <td>Paytm</td>\n",
       "      <td>3.7</td>\n",
       "      <td>27d ago</td>\n",
       "    </tr>\n",
       "  </tbody>\n",
       "</table>\n",
       "</div>"
      ],
      "text/plain": [
       "                                 Company_Name Rating     Post\n",
       "0  Nokia Solutions and Networks India (P)Ltd.    4.3  12d ago\n",
       "1                                       Paytm    3.7   6d ago\n",
       "2                  Jubilant Foodworks Limited    3.9  23d ago\n",
       "3                                CHT Sapiense    3.7   7d ago\n",
       "4                                CHT Sapiense    3.7   8d ago\n",
       "5                                    GI Group    4.1  19d ago\n",
       "6                                    GI Group    4.1  19d ago\n",
       "7                                    GI Group    4.1  19d ago\n",
       "8               RMS Risk Management Solutions    3.5   1d ago\n",
       "9                                       Paytm    3.7  27d ago"
      ]
     },
     "execution_count": 75,
     "metadata": {},
     "output_type": "execute_result"
    }
   ],
   "source": [
    "#Making DataFrame\n",
    "jobs= pd.DataFrame({'Company_Name':nam, 'Rating': rat, 'Post':post})\n",
    "jobs"
   ]
  },
  {
   "cell_type": "markdown",
   "metadata": {},
   "source": [
    "# 10- salary data for Data Scientist designation"
   ]
  },
  {
   "cell_type": "code",
   "execution_count": 3,
   "metadata": {},
   "outputs": [],
   "source": [
    "#importing chromedriver\n",
    "driver= webdriver.Chrome(\"D:\\Inernship\\chromedriver.exe\") "
   ]
  },
  {
   "cell_type": "code",
   "execution_count": 4,
   "metadata": {},
   "outputs": [],
   "source": [
    "#getting Url\n",
    "url= 'https://www.ambitionbox.com/'\n",
    "driver.get(url)"
   ]
  },
  {
   "cell_type": "code",
   "execution_count": 5,
   "metadata": {},
   "outputs": [
    {
     "data": {
      "text/plain": [
       "<selenium.webdriver.remote.webelement.WebElement (session=\"3c36226aabf3ed568f94341aede4d9a5\", element=\"f42cb0b5-1296-4783-9ba8-aba6c1e97089\")>"
      ]
     },
     "execution_count": 5,
     "metadata": {},
     "output_type": "execute_result"
    }
   ],
   "source": [
    "search_salaries= driver.find_element_by_xpath('/html/body/div[1]/nav/nav/a[4]')\n",
    "search_salaries"
   ]
  },
  {
   "cell_type": "code",
   "execution_count": 6,
   "metadata": {},
   "outputs": [],
   "source": [
    "#Click on the salaries option\n",
    "search_salaries.click()"
   ]
  },
  {
   "cell_type": "code",
   "execution_count": 7,
   "metadata": {},
   "outputs": [
    {
     "data": {
      "text/plain": [
       "<selenium.webdriver.remote.webelement.WebElement (session=\"3c36226aabf3ed568f94341aede4d9a5\", element=\"dd5e112a-6b6a-4097-a4a2-7a25ecf71fc0\")>"
      ]
     },
     "execution_count": 7,
     "metadata": {},
     "output_type": "execute_result"
    }
   ],
   "source": [
    "#search bar\n",
    "search_designation= driver.find_element_by_xpath('/html/body/div/div/div/main/section[1]/div[2]/div[1]/span/input')\n",
    "search_designation"
   ]
  },
  {
   "cell_type": "code",
   "execution_count": 8,
   "metadata": {},
   "outputs": [],
   "source": [
    "#writing on search bar\n",
    "search_designation.send_keys('Data Scientist')"
   ]
  },
  {
   "cell_type": "code",
   "execution_count": 9,
   "metadata": {},
   "outputs": [
    {
     "data": {
      "text/plain": [
       "<selenium.webdriver.remote.webelement.WebElement (session=\"3c36226aabf3ed568f94341aede4d9a5\", element=\"9e066e73-27ce-4064-9349-90333bf6764f\")>"
      ]
     },
     "execution_count": 9,
     "metadata": {},
     "output_type": "execute_result"
    }
   ],
   "source": [
    "n= driver.find_element_by_xpath('/html/body/div/div/div/main/section[1]/div[2]/div[1]/span/div/div/div[1]/div')\n",
    "n"
   ]
  },
  {
   "cell_type": "code",
   "execution_count": 10,
   "metadata": {},
   "outputs": [],
   "source": [
    "# choosing Data Scientist\n",
    "n.click()"
   ]
  },
  {
   "cell_type": "code",
   "execution_count": 72,
   "metadata": {},
   "outputs": [
    {
     "data": {
      "text/plain": [
       "['Walmart',\n",
       " 'Ab',\n",
       " 'ZS',\n",
       " 'Fractal',\n",
       " 'Optum',\n",
       " 'UnitedHealth',\n",
       " 'Tiger',\n",
       " 'Verizon',\n",
       " 'Ganit',\n",
       " 'Ericsson']"
      ]
     },
     "execution_count": 72,
     "metadata": {},
     "output_type": "execute_result"
    }
   ],
   "source": [
    "#extracting companies names\n",
    "company_names= []\n",
    "for i in driver.find_elements_by_xpath('//div[@class=\"name\"]'):\n",
    "    company_names.append(i.text.replace(\"(\\)\", \"\").split()[0])\n",
    "\n",
    "company_names"
   ]
  },
  {
   "cell_type": "code",
   "execution_count": 41,
   "metadata": {},
   "outputs": [
    {
     "data": {
      "text/plain": [
       "[]"
      ]
     },
     "execution_count": 41,
     "metadata": {},
     "output_type": "execute_result"
    }
   ],
   "source": [
    "# extracting experiance data\n",
    "experience= []\n",
    "for i in driver.find_elements_by_xpath('//div[@class=\"salaries sbold-list-header\"]'):\n",
    "    experience.append(i.text.replace(\"(\\)\", \"\").split()[-3])\n",
    "experience= experience[:10]\n",
    "experience"
   ]
  },
  {
   "cell_type": "code",
   "execution_count": 61,
   "metadata": {},
   "outputs": [
    {
     "data": {
      "text/plain": [
       "['17.7L',\n",
       " '15.0L',\n",
       " '9.8L',\n",
       " '9.5L',\n",
       " '11.0L',\n",
       " '7.2L',\n",
       " '8.3L',\n",
       " '10.0L',\n",
       " '8.5L',\n",
       " '5.8L']"
      ]
     },
     "execution_count": 61,
     "metadata": {},
     "output_type": "execute_result"
    }
   ],
   "source": [
    "# extracting minimum salary\n",
    "minimum_salary= []\n",
    "for i in driver.find_elements_by_xpath('//div[@class= \"salary-values\"]'):\n",
    "    minimum_salary.append(i.text.replace(\"(\\)\", \"\").split()[1])\n",
    "minimum_salary= minimum_salary[:10]\n",
    "minimum_salary"
   ]
  },
  {
   "cell_type": "code",
   "execution_count": 62,
   "metadata": {},
   "outputs": [
    {
     "data": {
      "text/plain": [
       "['35.0L',\n",
       " '25.0L',\n",
       " '20.0L',\n",
       " '22.0L',\n",
       " '21.3L',\n",
       " '20.5L',\n",
       " '18.5L',\n",
       " '21.0L',\n",
       " '15.0L',\n",
       " '21.5L']"
      ]
     },
     "execution_count": 62,
     "metadata": {},
     "output_type": "execute_result"
    }
   ],
   "source": [
    "# extracting maximum salary\n",
    "maximum_salary= []\n",
    "for i in driver.find_elements_by_xpath('//div[@class= \"salary-values\"]'):\n",
    "    maximum_salary.append(i.text.replace(\"(\\)\", \"\").split()[-1])\n",
    "maximum_salary= maximum_salary[:10]\n",
    "maximum_salary"
   ]
  },
  {
   "cell_type": "code",
   "execution_count": 63,
   "metadata": {},
   "outputs": [
    {
     "data": {
      "text/plain": [
       "['₹ 28.7L',\n",
       " '₹ 19.5L',\n",
       " '₹ 15.8L',\n",
       " '₹ 15.0L',\n",
       " '₹ 15.0L',\n",
       " '₹ 13.5L',\n",
       " '₹ 13.5L',\n",
       " '₹ 12.7L',\n",
       " '₹ 12.4L',\n",
       " '₹ 11.9L']"
      ]
     },
     "execution_count": 63,
     "metadata": {},
     "output_type": "execute_result"
    }
   ],
   "source": [
    "# extracting average salary \n",
    "avg_salary= []\n",
    "for i in driver.find_elements_by_xpath('//div[@class= \"average-indicator-wrapper\"]'):\n",
    "    avg_salary.append(i.text)\n",
    "avg_salary= avg_salary[:10]\n",
    "avg_salary"
   ]
  },
  {
   "cell_type": "code",
   "execution_count": 64,
   "metadata": {},
   "outputs": [
    {
     "data": {
      "text/plain": [
       "['10', '22', '14', '72', '23', '49', '27', '14', '13', '42']"
      ]
     },
     "execution_count": 64,
     "metadata": {},
     "output_type": "execute_result"
    }
   ],
   "source": [
    "# extracting total salary record\n",
    "total_salary_record= []\n",
    "for i in driver.find_elements_by_xpath('//div[@class= \"name\"]'):\n",
    "    total_salary_record.append(i.text.replace(\"(\\)\", \"\").split()[-2])\n",
    "total_salary_record= total_salary_record[:10]\n",
    "total_salary_record"
   ]
  },
  {
   "cell_type": "code",
   "execution_count": 65,
   "metadata": {},
   "outputs": [
    {
     "name": "stdout",
     "output_type": "stream",
     "text": [
      "10 10 10 10 10 10\n"
     ]
    }
   ],
   "source": [
    "# Finding length\n",
    "print(len(company_names), len(experience), len(minimum_salary), len(maximum_salary), len(avg_salary), len(total_salary_record) )"
   ]
  },
  {
   "cell_type": "code",
   "execution_count": 73,
   "metadata": {
    "scrolled": true
   },
   "outputs": [],
   "source": [
    "#Making DataFrame\n",
    "jobs= pd.DataFrame({'Company_Name':company_names,'Total_Salary_Record':total_salary_record,'Minimum_Salary':minimum_salary,'Maximum_Salary':maximum_salary,'Average_Salary':avg_salary,'Experience': experience})"
   ]
  },
  {
   "cell_type": "code",
   "execution_count": 74,
   "metadata": {},
   "outputs": [
    {
     "data": {
      "text/html": [
       "<div>\n",
       "<style scoped>\n",
       "    .dataframe tbody tr th:only-of-type {\n",
       "        vertical-align: middle;\n",
       "    }\n",
       "\n",
       "    .dataframe tbody tr th {\n",
       "        vertical-align: top;\n",
       "    }\n",
       "\n",
       "    .dataframe thead th {\n",
       "        text-align: right;\n",
       "    }\n",
       "</style>\n",
       "<table border=\"1\" class=\"dataframe\">\n",
       "  <thead>\n",
       "    <tr style=\"text-align: right;\">\n",
       "      <th></th>\n",
       "      <th>Company_Name</th>\n",
       "      <th>Total_Salary_Record</th>\n",
       "      <th>Minimum_Salary</th>\n",
       "      <th>Maximum_Salary</th>\n",
       "      <th>Average_Salary</th>\n",
       "      <th>Experience</th>\n",
       "    </tr>\n",
       "  </thead>\n",
       "  <tbody>\n",
       "    <tr>\n",
       "      <th>0</th>\n",
       "      <td>Walmart</td>\n",
       "      <td>10</td>\n",
       "      <td>17.7L</td>\n",
       "      <td>35.0L</td>\n",
       "      <td>₹ 28.7L</td>\n",
       "      <td>3</td>\n",
       "    </tr>\n",
       "    <tr>\n",
       "      <th>1</th>\n",
       "      <td>Ab</td>\n",
       "      <td>22</td>\n",
       "      <td>15.0L</td>\n",
       "      <td>25.0L</td>\n",
       "      <td>₹ 19.5L</td>\n",
       "      <td>3-4</td>\n",
       "    </tr>\n",
       "    <tr>\n",
       "      <th>2</th>\n",
       "      <td>ZS</td>\n",
       "      <td>14</td>\n",
       "      <td>9.8L</td>\n",
       "      <td>20.0L</td>\n",
       "      <td>₹ 15.8L</td>\n",
       "      <td>2</td>\n",
       "    </tr>\n",
       "    <tr>\n",
       "      <th>3</th>\n",
       "      <td>Fractal</td>\n",
       "      <td>72</td>\n",
       "      <td>9.5L</td>\n",
       "      <td>22.0L</td>\n",
       "      <td>₹ 15.0L</td>\n",
       "      <td>2-4</td>\n",
       "    </tr>\n",
       "    <tr>\n",
       "      <th>4</th>\n",
       "      <td>Optum</td>\n",
       "      <td>23</td>\n",
       "      <td>11.0L</td>\n",
       "      <td>21.3L</td>\n",
       "      <td>₹ 15.0L</td>\n",
       "      <td>3-4</td>\n",
       "    </tr>\n",
       "    <tr>\n",
       "      <th>5</th>\n",
       "      <td>UnitedHealth</td>\n",
       "      <td>49</td>\n",
       "      <td>7.2L</td>\n",
       "      <td>20.5L</td>\n",
       "      <td>₹ 13.5L</td>\n",
       "      <td>2-4</td>\n",
       "    </tr>\n",
       "    <tr>\n",
       "      <th>6</th>\n",
       "      <td>Tiger</td>\n",
       "      <td>27</td>\n",
       "      <td>8.3L</td>\n",
       "      <td>18.5L</td>\n",
       "      <td>₹ 13.5L</td>\n",
       "      <td>3-4</td>\n",
       "    </tr>\n",
       "    <tr>\n",
       "      <th>7</th>\n",
       "      <td>Verizon</td>\n",
       "      <td>14</td>\n",
       "      <td>10.0L</td>\n",
       "      <td>21.0L</td>\n",
       "      <td>₹ 12.7L</td>\n",
       "      <td>4</td>\n",
       "    </tr>\n",
       "    <tr>\n",
       "      <th>8</th>\n",
       "      <td>Ganit</td>\n",
       "      <td>13</td>\n",
       "      <td>8.5L</td>\n",
       "      <td>15.0L</td>\n",
       "      <td>₹ 12.4L</td>\n",
       "      <td>4</td>\n",
       "    </tr>\n",
       "    <tr>\n",
       "      <th>9</th>\n",
       "      <td>Ericsson</td>\n",
       "      <td>42</td>\n",
       "      <td>5.8L</td>\n",
       "      <td>21.5L</td>\n",
       "      <td>₹ 11.9L</td>\n",
       "      <td>3-4</td>\n",
       "    </tr>\n",
       "  </tbody>\n",
       "</table>\n",
       "</div>"
      ],
      "text/plain": [
       "   Company_Name Total_Salary_Record Minimum_Salary Maximum_Salary  \\\n",
       "0       Walmart                  10          17.7L          35.0L   \n",
       "1            Ab                  22          15.0L          25.0L   \n",
       "2            ZS                  14           9.8L          20.0L   \n",
       "3       Fractal                  72           9.5L          22.0L   \n",
       "4         Optum                  23          11.0L          21.3L   \n",
       "5  UnitedHealth                  49           7.2L          20.5L   \n",
       "6         Tiger                  27           8.3L          18.5L   \n",
       "7       Verizon                  14          10.0L          21.0L   \n",
       "8         Ganit                  13           8.5L          15.0L   \n",
       "9      Ericsson                  42           5.8L          21.5L   \n",
       "\n",
       "  Average_Salary Experience  \n",
       "0        ₹ 28.7L          3  \n",
       "1        ₹ 19.5L        3-4  \n",
       "2        ₹ 15.8L          2  \n",
       "3        ₹ 15.0L        2-4  \n",
       "4        ₹ 15.0L        3-4  \n",
       "5        ₹ 13.5L        2-4  \n",
       "6        ₹ 13.5L        3-4  \n",
       "7        ₹ 12.7L          4  \n",
       "8        ₹ 12.4L          4  \n",
       "9        ₹ 11.9L        3-4  "
      ]
     },
     "execution_count": 74,
     "metadata": {},
     "output_type": "execute_result"
    }
   ],
   "source": [
    "jobs "
   ]
  },
  {
   "cell_type": "code",
   "execution_count": null,
   "metadata": {},
   "outputs": [],
   "source": []
  }
 ],
 "metadata": {
  "kernelspec": {
   "display_name": "Python 3",
   "language": "python",
   "name": "python3"
  },
  "language_info": {
   "codemirror_mode": {
    "name": "ipython",
    "version": 3
   },
   "file_extension": ".py",
   "mimetype": "text/x-python",
   "name": "python",
   "nbconvert_exporter": "python",
   "pygments_lexer": "ipython3",
   "version": "3.7.6"
  }
 },
 "nbformat": 4,
 "nbformat_minor": 4
}
